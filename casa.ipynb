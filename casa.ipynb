{
 "cells": [
  {
   "cell_type": "code",
   "execution_count": 2,
   "id": "8215f34b",
   "metadata": {},
   "outputs": [],
   "source": [
    "import pandas as pd\n",
    "import seaborn as sns\n",
    "import matplotlib.pyplot as plt\n",
    "import plotly.express as px\n",
    "import pycountry"
   ]
  },
  {
   "cell_type": "code",
   "execution_count": 3,
   "id": "ff647bc9",
   "metadata": {},
   "outputs": [],
   "source": [
    "link_projeto = (\"https://raw.githubusercontent.com/guilhermeonrails/data-jobs/refs/heads/main/salaries.csv\")"
   ]
  },
  {
   "cell_type": "code",
   "execution_count": null,
   "id": "8334761d",
   "metadata": {},
   "outputs": [],
   "source": []
  },
  {
   "cell_type": "code",
   "execution_count": 4,
   "id": "5dabaa1a",
   "metadata": {},
   "outputs": [],
   "source": [
    "colunas_traduzidas = {\n",
    "    'work_year': 'ano',\n",
    "    'experience_level': 'senioridade',\n",
    "    'employment_type': 'contrato',\n",
    "    'job_title': 'cargo',\n",
    "    'salary': 'salario',\n",
    "    'salary_currency': 'moeda',\n",
    "    'salary_in_usd': 'usd',\n",
    "    'employee_residence': 'residencia',\n",
    "    'remote_ratio': 'remoto',\n",
    "    'company_location': 'empresa',\n",
    "    'company_size': 'porte_empresa'\n",
    "}\n",
    "\n",
    "senioridade = {\n",
    "'SE': \"Senior\",\n",
    "'MI': \"Pleno\",\n",
    "'EN': \"Junior\",\n",
    "'EX': \"Executivo\"\n",
    "}\n",
    "\n",
    "contrato = {\n",
    "'FT': \"Integral\",\n",
    "'PT': \"Parcial\",\n",
    "'FL': \"Freelancer\",\n",
    "'CT': \"Contrato\"\n",
    "}\n",
    "\n",
    "remoto = {\n",
    "0: \"Presencial\",\n",
    "100: \"Remto\",\n",
    "50: \"Hibrido\"\n",
    "}\n",
    "\n",
    "empresa = {\n",
    "'S': \"Pequena\",\n",
    "'M': \"Media\",\n",
    "'L': \"Grande\"\n",
    "}\n",
    "\n",
    "\n",
    "\n",
    "df = pd.read_csv(link_projeto)\n",
    "\n",
    "\n",
    "\n",
    "df.rename(columns= colunas_traduzidas, inplace=True)\n",
    "\n",
    "\n",
    "df['senioridade']= df['senioridade'].replace(senioridade)\n",
    "df['contrato']= df['contrato'].replace(contrato)\n",
    "df['remoto']= df['remoto'].replace(remoto)\n",
    "df['porte_empresa']= df['porte_empresa'].replace(empresa)\n",
    "\n",
    "\n",
    "dflimpo = df.dropna()\n",
    "dflimpo = dflimpo.assign(ano = dflimpo['ano'].astype('int64'))"
   ]
  },
  {
   "cell_type": "code",
   "execution_count": 5,
   "id": "3c6b28cd",
   "metadata": {},
   "outputs": [
    {
     "data": {
      "text/plain": [
       "Index(['ano', 'senioridade', 'contrato', 'cargo', 'salario', 'moeda', 'usd',\n",
       "       'residencia', 'remoto', 'empresa', 'porte_empresa'],\n",
       "      dtype='object')"
      ]
     },
     "execution_count": 5,
     "metadata": {},
     "output_type": "execute_result"
    }
   ],
   "source": [
    "dflimpo.columns"
   ]
  },
  {
   "cell_type": "code",
   "execution_count": 6,
   "id": "f2a8b0b8",
   "metadata": {},
   "outputs": [
    {
     "data": {
      "application/vnd.microsoft.datawrangler.viewer.v0+json": {
       "columns": [
        {
         "name": "index",
         "rawType": "int64",
         "type": "integer"
        },
        {
         "name": "ano",
         "rawType": "int64",
         "type": "integer"
        },
        {
         "name": "senioridade",
         "rawType": "object",
         "type": "string"
        },
        {
         "name": "contrato",
         "rawType": "object",
         "type": "string"
        },
        {
         "name": "cargo",
         "rawType": "object",
         "type": "string"
        },
        {
         "name": "salario",
         "rawType": "int64",
         "type": "integer"
        },
        {
         "name": "moeda",
         "rawType": "object",
         "type": "string"
        },
        {
         "name": "usd",
         "rawType": "int64",
         "type": "integer"
        },
        {
         "name": "residencia",
         "rawType": "object",
         "type": "string"
        },
        {
         "name": "remoto",
         "rawType": "object",
         "type": "string"
        },
        {
         "name": "empresa",
         "rawType": "object",
         "type": "string"
        },
        {
         "name": "porte_empresa",
         "rawType": "object",
         "type": "string"
        }
       ],
       "ref": "4a4cfa14-3a29-4449-909f-50d89101693c",
       "rows": [
        [
         "0",
         "2025",
         "Senior",
         "Integral",
         "Solutions Engineer",
         "214000",
         "USD",
         "214000",
         "US",
         "Remto",
         "US",
         "Media"
        ],
        [
         "1",
         "2025",
         "Senior",
         "Integral",
         "Solutions Engineer",
         "136000",
         "USD",
         "136000",
         "US",
         "Remto",
         "US",
         "Media"
        ],
        [
         "2",
         "2025",
         "Pleno",
         "Integral",
         "Data Engineer",
         "158800",
         "USD",
         "158800",
         "AU",
         "Presencial",
         "AU",
         "Media"
        ],
        [
         "3",
         "2025",
         "Pleno",
         "Integral",
         "Data Engineer",
         "139200",
         "USD",
         "139200",
         "AU",
         "Presencial",
         "AU",
         "Media"
        ],
        [
         "4",
         "2025",
         "Junior",
         "Integral",
         "Data Engineer",
         "90000",
         "USD",
         "90000",
         "US",
         "Presencial",
         "US",
         "Media"
        ],
        [
         "5",
         "2025",
         "Junior",
         "Integral",
         "Data Engineer",
         "80000",
         "USD",
         "80000",
         "US",
         "Presencial",
         "US",
         "Media"
        ],
        [
         "6",
         "2025",
         "Senior",
         "Integral",
         "Data Scientist",
         "185000",
         "USD",
         "185000",
         "US",
         "Presencial",
         "US",
         "Media"
        ],
        [
         "7",
         "2025",
         "Senior",
         "Integral",
         "Data Scientist",
         "148000",
         "USD",
         "148000",
         "US",
         "Presencial",
         "US",
         "Media"
        ],
        [
         "8",
         "2025",
         "Pleno",
         "Integral",
         "Data Scientist",
         "135000",
         "USD",
         "135000",
         "CA",
         "Presencial",
         "CA",
         "Media"
        ],
        [
         "9",
         "2025",
         "Pleno",
         "Integral",
         "Data Scientist",
         "108000",
         "USD",
         "108000",
         "CA",
         "Presencial",
         "CA",
         "Media"
        ],
        [
         "10",
         "2025",
         "Pleno",
         "Integral",
         "BI Developer",
         "118000",
         "USD",
         "118000",
         "US",
         "Remto",
         "US",
         "Media"
        ],
        [
         "11",
         "2025",
         "Pleno",
         "Integral",
         "BI Developer",
         "51000",
         "USD",
         "51000",
         "US",
         "Remto",
         "US",
         "Media"
        ],
        [
         "12",
         "2025",
         "Junior",
         "Integral",
         "Data Analyst",
         "91900",
         "USD",
         "91900",
         "US",
         "Presencial",
         "US",
         "Media"
        ],
        [
         "13",
         "2025",
         "Junior",
         "Integral",
         "Data Analyst",
         "54300",
         "USD",
         "54300",
         "US",
         "Presencial",
         "US",
         "Media"
        ],
        [
         "14",
         "2025",
         "Senior",
         "Integral",
         "Applied Scientist",
         "255000",
         "USD",
         "255000",
         "US",
         "Presencial",
         "US",
         "Media"
        ],
        [
         "15",
         "2025",
         "Senior",
         "Integral",
         "Applied Scientist",
         "190000",
         "USD",
         "190000",
         "US",
         "Presencial",
         "US",
         "Media"
        ],
        [
         "16",
         "2025",
         "Pleno",
         "Integral",
         "Systems Engineer",
         "196350",
         "USD",
         "196350",
         "US",
         "Presencial",
         "US",
         "Media"
        ],
        [
         "17",
         "2025",
         "Pleno",
         "Integral",
         "Systems Engineer",
         "130900",
         "USD",
         "130900",
         "US",
         "Presencial",
         "US",
         "Media"
        ],
        [
         "18",
         "2025",
         "Executivo",
         "Integral",
         "Director",
         "170000",
         "USD",
         "170000",
         "US",
         "Presencial",
         "US",
         "Media"
        ],
        [
         "19",
         "2025",
         "Executivo",
         "Integral",
         "Director",
         "160000",
         "USD",
         "160000",
         "US",
         "Presencial",
         "US",
         "Media"
        ],
        [
         "20",
         "2025",
         "Pleno",
         "Integral",
         "Associate",
         "119000",
         "USD",
         "119000",
         "CA",
         "Presencial",
         "CA",
         "Media"
        ],
        [
         "21",
         "2025",
         "Pleno",
         "Integral",
         "Associate",
         "105000",
         "USD",
         "105000",
         "CA",
         "Presencial",
         "CA",
         "Media"
        ],
        [
         "22",
         "2025",
         "Pleno",
         "Integral",
         "Associate",
         "120000",
         "USD",
         "120000",
         "US",
         "Presencial",
         "US",
         "Media"
        ],
        [
         "23",
         "2025",
         "Pleno",
         "Integral",
         "Associate",
         "110000",
         "USD",
         "110000",
         "US",
         "Presencial",
         "US",
         "Media"
        ],
        [
         "24",
         "2025",
         "Pleno",
         "Integral",
         "Associate",
         "120000",
         "USD",
         "120000",
         "US",
         "Presencial",
         "US",
         "Media"
        ],
        [
         "25",
         "2025",
         "Pleno",
         "Integral",
         "Associate",
         "110000",
         "USD",
         "110000",
         "US",
         "Presencial",
         "US",
         "Media"
        ],
        [
         "26",
         "2025",
         "Pleno",
         "Integral",
         "Associate",
         "120000",
         "USD",
         "120000",
         "US",
         "Presencial",
         "US",
         "Media"
        ],
        [
         "27",
         "2025",
         "Pleno",
         "Integral",
         "Associate",
         "110000",
         "USD",
         "110000",
         "US",
         "Presencial",
         "US",
         "Media"
        ],
        [
         "28",
         "2025",
         "Senior",
         "Integral",
         "Software Engineer",
         "190000",
         "USD",
         "190000",
         "US",
         "Presencial",
         "US",
         "Media"
        ],
        [
         "29",
         "2025",
         "Senior",
         "Integral",
         "Software Engineer",
         "150000",
         "USD",
         "150000",
         "US",
         "Presencial",
         "US",
         "Media"
        ],
        [
         "30",
         "2025",
         "Senior",
         "Integral",
         "Consultant",
         "180000",
         "USD",
         "180000",
         "US",
         "Presencial",
         "US",
         "Media"
        ],
        [
         "31",
         "2025",
         "Senior",
         "Integral",
         "Consultant",
         "130000",
         "USD",
         "130000",
         "US",
         "Presencial",
         "US",
         "Media"
        ],
        [
         "32",
         "2025",
         "Pleno",
         "Integral",
         "Software Engineer",
         "98348",
         "USD",
         "98348",
         "US",
         "Presencial",
         "US",
         "Media"
        ],
        [
         "33",
         "2025",
         "Pleno",
         "Integral",
         "Software Engineer",
         "88651",
         "USD",
         "88651",
         "US",
         "Presencial",
         "US",
         "Media"
        ],
        [
         "34",
         "2025",
         "Junior",
         "Integral",
         "Analyst",
         "122058",
         "USD",
         "122058",
         "AU",
         "Presencial",
         "AU",
         "Media"
        ],
        [
         "35",
         "2025",
         "Junior",
         "Integral",
         "Analyst",
         "110266",
         "USD",
         "110266",
         "AU",
         "Presencial",
         "AU",
         "Media"
        ],
        [
         "36",
         "2025",
         "Senior",
         "Integral",
         "Product Manager",
         "160000",
         "USD",
         "160000",
         "US",
         "Presencial",
         "US",
         "Media"
        ],
        [
         "37",
         "2025",
         "Senior",
         "Integral",
         "Product Manager",
         "100000",
         "USD",
         "100000",
         "US",
         "Presencial",
         "US",
         "Media"
        ],
        [
         "38",
         "2025",
         "Senior",
         "Integral",
         "Software Developer",
         "199100",
         "USD",
         "199100",
         "JP",
         "Presencial",
         "JP",
         "Media"
        ],
        [
         "39",
         "2025",
         "Senior",
         "Integral",
         "Software Developer",
         "94800",
         "USD",
         "94800",
         "JP",
         "Presencial",
         "JP",
         "Media"
        ],
        [
         "40",
         "2025",
         "Senior",
         "Integral",
         "Engineer",
         "170000",
         "USD",
         "170000",
         "US",
         "Presencial",
         "US",
         "Media"
        ],
        [
         "41",
         "2025",
         "Senior",
         "Integral",
         "Engineer",
         "130000",
         "USD",
         "130000",
         "US",
         "Presencial",
         "US",
         "Media"
        ],
        [
         "42",
         "2025",
         "Senior",
         "Integral",
         "Developer",
         "150000",
         "USD",
         "150000",
         "US",
         "Presencial",
         "US",
         "Media"
        ],
        [
         "43",
         "2025",
         "Senior",
         "Integral",
         "Developer",
         "114000",
         "USD",
         "114000",
         "US",
         "Presencial",
         "US",
         "Media"
        ],
        [
         "44",
         "2025",
         "Pleno",
         "Integral",
         "Data Engineer",
         "54785",
         "GBP",
         "69348",
         "GB",
         "Presencial",
         "GB",
         "Media"
        ],
        [
         "45",
         "2025",
         "Pleno",
         "Integral",
         "Data Engineer",
         "42180",
         "GBP",
         "53392",
         "GB",
         "Presencial",
         "GB",
         "Media"
        ],
        [
         "46",
         "2025",
         "Senior",
         "Integral",
         "Data Engineer",
         "104000",
         "USD",
         "104000",
         "US",
         "Presencial",
         "US",
         "Media"
        ],
        [
         "47",
         "2025",
         "Senior",
         "Integral",
         "Data Engineer",
         "72800",
         "USD",
         "72800",
         "US",
         "Presencial",
         "US",
         "Media"
        ],
        [
         "48",
         "2025",
         "Senior",
         "Integral",
         "Data Analyst",
         "55114",
         "GBP",
         "69764",
         "GB",
         "Presencial",
         "GB",
         "Media"
        ],
        [
         "49",
         "2025",
         "Senior",
         "Integral",
         "Data Analyst",
         "40736",
         "GBP",
         "51564",
         "GB",
         "Presencial",
         "GB",
         "Media"
        ]
       ],
       "shape": {
        "columns": 11,
        "rows": 133339
       }
      },
      "text/html": [
       "<div>\n",
       "<style scoped>\n",
       "    .dataframe tbody tr th:only-of-type {\n",
       "        vertical-align: middle;\n",
       "    }\n",
       "\n",
       "    .dataframe tbody tr th {\n",
       "        vertical-align: top;\n",
       "    }\n",
       "\n",
       "    .dataframe thead th {\n",
       "        text-align: right;\n",
       "    }\n",
       "</style>\n",
       "<table border=\"1\" class=\"dataframe\">\n",
       "  <thead>\n",
       "    <tr style=\"text-align: right;\">\n",
       "      <th></th>\n",
       "      <th>ano</th>\n",
       "      <th>senioridade</th>\n",
       "      <th>contrato</th>\n",
       "      <th>cargo</th>\n",
       "      <th>salario</th>\n",
       "      <th>moeda</th>\n",
       "      <th>usd</th>\n",
       "      <th>residencia</th>\n",
       "      <th>remoto</th>\n",
       "      <th>empresa</th>\n",
       "      <th>porte_empresa</th>\n",
       "    </tr>\n",
       "  </thead>\n",
       "  <tbody>\n",
       "    <tr>\n",
       "      <th>0</th>\n",
       "      <td>2025</td>\n",
       "      <td>Senior</td>\n",
       "      <td>Integral</td>\n",
       "      <td>Solutions Engineer</td>\n",
       "      <td>214000</td>\n",
       "      <td>USD</td>\n",
       "      <td>214000</td>\n",
       "      <td>US</td>\n",
       "      <td>Remto</td>\n",
       "      <td>US</td>\n",
       "      <td>Media</td>\n",
       "    </tr>\n",
       "    <tr>\n",
       "      <th>1</th>\n",
       "      <td>2025</td>\n",
       "      <td>Senior</td>\n",
       "      <td>Integral</td>\n",
       "      <td>Solutions Engineer</td>\n",
       "      <td>136000</td>\n",
       "      <td>USD</td>\n",
       "      <td>136000</td>\n",
       "      <td>US</td>\n",
       "      <td>Remto</td>\n",
       "      <td>US</td>\n",
       "      <td>Media</td>\n",
       "    </tr>\n",
       "    <tr>\n",
       "      <th>2</th>\n",
       "      <td>2025</td>\n",
       "      <td>Pleno</td>\n",
       "      <td>Integral</td>\n",
       "      <td>Data Engineer</td>\n",
       "      <td>158800</td>\n",
       "      <td>USD</td>\n",
       "      <td>158800</td>\n",
       "      <td>AU</td>\n",
       "      <td>Presencial</td>\n",
       "      <td>AU</td>\n",
       "      <td>Media</td>\n",
       "    </tr>\n",
       "    <tr>\n",
       "      <th>3</th>\n",
       "      <td>2025</td>\n",
       "      <td>Pleno</td>\n",
       "      <td>Integral</td>\n",
       "      <td>Data Engineer</td>\n",
       "      <td>139200</td>\n",
       "      <td>USD</td>\n",
       "      <td>139200</td>\n",
       "      <td>AU</td>\n",
       "      <td>Presencial</td>\n",
       "      <td>AU</td>\n",
       "      <td>Media</td>\n",
       "    </tr>\n",
       "    <tr>\n",
       "      <th>4</th>\n",
       "      <td>2025</td>\n",
       "      <td>Junior</td>\n",
       "      <td>Integral</td>\n",
       "      <td>Data Engineer</td>\n",
       "      <td>90000</td>\n",
       "      <td>USD</td>\n",
       "      <td>90000</td>\n",
       "      <td>US</td>\n",
       "      <td>Presencial</td>\n",
       "      <td>US</td>\n",
       "      <td>Media</td>\n",
       "    </tr>\n",
       "    <tr>\n",
       "      <th>...</th>\n",
       "      <td>...</td>\n",
       "      <td>...</td>\n",
       "      <td>...</td>\n",
       "      <td>...</td>\n",
       "      <td>...</td>\n",
       "      <td>...</td>\n",
       "      <td>...</td>\n",
       "      <td>...</td>\n",
       "      <td>...</td>\n",
       "      <td>...</td>\n",
       "      <td>...</td>\n",
       "    </tr>\n",
       "    <tr>\n",
       "      <th>133344</th>\n",
       "      <td>2020</td>\n",
       "      <td>Senior</td>\n",
       "      <td>Integral</td>\n",
       "      <td>Data Scientist</td>\n",
       "      <td>412000</td>\n",
       "      <td>USD</td>\n",
       "      <td>412000</td>\n",
       "      <td>US</td>\n",
       "      <td>Remto</td>\n",
       "      <td>US</td>\n",
       "      <td>Grande</td>\n",
       "    </tr>\n",
       "    <tr>\n",
       "      <th>133345</th>\n",
       "      <td>2021</td>\n",
       "      <td>Pleno</td>\n",
       "      <td>Integral</td>\n",
       "      <td>Principal Data Scientist</td>\n",
       "      <td>151000</td>\n",
       "      <td>USD</td>\n",
       "      <td>151000</td>\n",
       "      <td>US</td>\n",
       "      <td>Remto</td>\n",
       "      <td>US</td>\n",
       "      <td>Grande</td>\n",
       "    </tr>\n",
       "    <tr>\n",
       "      <th>133346</th>\n",
       "      <td>2020</td>\n",
       "      <td>Junior</td>\n",
       "      <td>Integral</td>\n",
       "      <td>Data Scientist</td>\n",
       "      <td>105000</td>\n",
       "      <td>USD</td>\n",
       "      <td>105000</td>\n",
       "      <td>US</td>\n",
       "      <td>Remto</td>\n",
       "      <td>US</td>\n",
       "      <td>Pequena</td>\n",
       "    </tr>\n",
       "    <tr>\n",
       "      <th>133347</th>\n",
       "      <td>2020</td>\n",
       "      <td>Junior</td>\n",
       "      <td>Contrato</td>\n",
       "      <td>Business Data Analyst</td>\n",
       "      <td>100000</td>\n",
       "      <td>USD</td>\n",
       "      <td>100000</td>\n",
       "      <td>US</td>\n",
       "      <td>Remto</td>\n",
       "      <td>US</td>\n",
       "      <td>Grande</td>\n",
       "    </tr>\n",
       "    <tr>\n",
       "      <th>133348</th>\n",
       "      <td>2021</td>\n",
       "      <td>Senior</td>\n",
       "      <td>Integral</td>\n",
       "      <td>Data Scientist</td>\n",
       "      <td>7000000</td>\n",
       "      <td>INR</td>\n",
       "      <td>94665</td>\n",
       "      <td>IN</td>\n",
       "      <td>Hibrido</td>\n",
       "      <td>IN</td>\n",
       "      <td>Grande</td>\n",
       "    </tr>\n",
       "  </tbody>\n",
       "</table>\n",
       "<p>133339 rows × 11 columns</p>\n",
       "</div>"
      ],
      "text/plain": [
       "         ano senioridade  contrato                     cargo  salario moeda  \\\n",
       "0       2025      Senior  Integral        Solutions Engineer   214000   USD   \n",
       "1       2025      Senior  Integral        Solutions Engineer   136000   USD   \n",
       "2       2025       Pleno  Integral             Data Engineer   158800   USD   \n",
       "3       2025       Pleno  Integral             Data Engineer   139200   USD   \n",
       "4       2025      Junior  Integral             Data Engineer    90000   USD   \n",
       "...      ...         ...       ...                       ...      ...   ...   \n",
       "133344  2020      Senior  Integral            Data Scientist   412000   USD   \n",
       "133345  2021       Pleno  Integral  Principal Data Scientist   151000   USD   \n",
       "133346  2020      Junior  Integral            Data Scientist   105000   USD   \n",
       "133347  2020      Junior  Contrato     Business Data Analyst   100000   USD   \n",
       "133348  2021      Senior  Integral            Data Scientist  7000000   INR   \n",
       "\n",
       "           usd residencia      remoto empresa porte_empresa  \n",
       "0       214000         US       Remto      US         Media  \n",
       "1       136000         US       Remto      US         Media  \n",
       "2       158800         AU  Presencial      AU         Media  \n",
       "3       139200         AU  Presencial      AU         Media  \n",
       "4        90000         US  Presencial      US         Media  \n",
       "...        ...        ...         ...     ...           ...  \n",
       "133344  412000         US       Remto      US        Grande  \n",
       "133345  151000         US       Remto      US        Grande  \n",
       "133346  105000         US       Remto      US       Pequena  \n",
       "133347  100000         US       Remto      US        Grande  \n",
       "133348   94665         IN     Hibrido      IN        Grande  \n",
       "\n",
       "[133339 rows x 11 columns]"
      ]
     },
     "execution_count": 6,
     "metadata": {},
     "output_type": "execute_result"
    }
   ],
   "source": [
    "dflimpo"
   ]
  },
  {
   "cell_type": "code",
   "execution_count": 7,
   "id": "cff459f7",
   "metadata": {},
   "outputs": [
    {
     "data": {
      "application/vnd.microsoft.datawrangler.viewer.v0+json": {
       "columns": [
        {
         "name": "index",
         "rawType": "int64",
         "type": "integer"
        },
        {
         "name": "residencia",
         "rawType": "object",
         "type": "string"
        },
        {
         "name": "usd",
         "rawType": "float64",
         "type": "float"
        }
       ],
       "ref": "fa0d2c28-778b-4e32-bf16-3ba5aed075ed",
       "rows": [
        [
         "0",
         "AD",
         "50745.0"
        ],
        [
         "1",
         "AR",
         "42000.0"
        ],
        [
         "2",
         "AT",
         "50342.06779661017"
        ],
        [
         "3",
         "AU",
         "112190.0"
        ],
        [
         "4",
         "BE",
         "66790.75"
        ],
        [
         "5",
         "BG",
         "152500.0"
        ],
        [
         "6",
         "BR",
         "73720.90909090909"
        ],
        [
         "7",
         "CA",
         "140519.98476190475"
        ],
        [
         "8",
         "CH",
         "152256.66666666666"
        ],
        [
         "9",
         "CL",
         "69346.0"
        ],
        [
         "10",
         "CY",
         "63701.0"
        ],
        [
         "11",
         "DE",
         "92253.81355932204"
        ],
        [
         "12",
         "DO",
         "110000.0"
        ],
        [
         "13",
         "DZ",
         "100000.0"
        ],
        [
         "14",
         "EC",
         "16000.0"
        ],
        [
         "15",
         "EE",
         "40000.0"
        ],
        [
         "16",
         "EG",
         "140690.9090909091"
        ],
        [
         "17",
         "ES",
         "46421.42307692308"
        ],
        [
         "18",
         "FI",
         "43611.0"
        ],
        [
         "19",
         "FR",
         "90878.25423728813"
        ],
        [
         "20",
         "GB",
         "86264.0601336303"
        ],
        [
         "21",
         "GR",
         "42683.666666666664"
        ],
        [
         "22",
         "HK",
         "65058.0"
        ],
        [
         "23",
         "HU",
         "23935.75"
        ],
        [
         "24",
         "IE",
         "89145.39130434782"
        ],
        [
         "25",
         "IN",
         "42784.13333333333"
        ],
        [
         "26",
         "IT",
         "111401.08333333333"
        ],
        [
         "27",
         "JP",
         "121766.66666666667"
        ],
        [
         "28",
         "KE",
         "50000.0"
        ],
        [
         "29",
         "KR",
         "99272.0"
        ],
        [
         "30",
         "LT",
         "62762.0"
        ],
        [
         "31",
         "LV",
         "61688.5"
        ],
        [
         "32",
         "MX",
         "140466.66666666666"
        ],
        [
         "33",
         "NG",
         "50000.0"
        ],
        [
         "34",
         "NL",
         "70070.9375"
        ],
        [
         "35",
         "NO",
         "88462.0"
        ],
        [
         "36",
         "NZ",
         "122929.75"
        ],
        [
         "37",
         "PH",
         "76864.0"
        ],
        [
         "38",
         "PK",
         "21000.0"
        ],
        [
         "39",
         "PL",
         "73466.55555555556"
        ],
        [
         "40",
         "PT",
         "88888.25"
        ],
        [
         "41",
         "RO",
         "39992.0"
        ],
        [
         "42",
         "RS",
         "25532.0"
        ],
        [
         "43",
         "RU",
         "66500.0"
        ],
        [
         "44",
         "SE",
         "87157.5"
        ],
        [
         "45",
         "SG",
         "152522.7142857143"
        ],
        [
         "46",
         "SK",
         "30522.4"
        ],
        [
         "47",
         "TH",
         "26957.0"
        ],
        [
         "48",
         "TR",
         "45019.0"
        ],
        [
         "49",
         "TW",
         "17282.5"
        ]
       ],
       "shape": {
        "columns": 2,
        "rows": 54
       }
      },
      "text/html": [
       "<div>\n",
       "<style scoped>\n",
       "    .dataframe tbody tr th:only-of-type {\n",
       "        vertical-align: middle;\n",
       "    }\n",
       "\n",
       "    .dataframe tbody tr th {\n",
       "        vertical-align: top;\n",
       "    }\n",
       "\n",
       "    .dataframe thead th {\n",
       "        text-align: right;\n",
       "    }\n",
       "</style>\n",
       "<table border=\"1\" class=\"dataframe\">\n",
       "  <thead>\n",
       "    <tr style=\"text-align: right;\">\n",
       "      <th></th>\n",
       "      <th>residencia</th>\n",
       "      <th>usd</th>\n",
       "    </tr>\n",
       "  </thead>\n",
       "  <tbody>\n",
       "    <tr>\n",
       "      <th>0</th>\n",
       "      <td>AD</td>\n",
       "      <td>50745.000000</td>\n",
       "    </tr>\n",
       "    <tr>\n",
       "      <th>1</th>\n",
       "      <td>AR</td>\n",
       "      <td>42000.000000</td>\n",
       "    </tr>\n",
       "    <tr>\n",
       "      <th>2</th>\n",
       "      <td>AT</td>\n",
       "      <td>50342.067797</td>\n",
       "    </tr>\n",
       "    <tr>\n",
       "      <th>3</th>\n",
       "      <td>AU</td>\n",
       "      <td>112190.000000</td>\n",
       "    </tr>\n",
       "    <tr>\n",
       "      <th>4</th>\n",
       "      <td>BE</td>\n",
       "      <td>66790.750000</td>\n",
       "    </tr>\n",
       "    <tr>\n",
       "      <th>5</th>\n",
       "      <td>BG</td>\n",
       "      <td>152500.000000</td>\n",
       "    </tr>\n",
       "    <tr>\n",
       "      <th>6</th>\n",
       "      <td>BR</td>\n",
       "      <td>73720.909091</td>\n",
       "    </tr>\n",
       "    <tr>\n",
       "      <th>7</th>\n",
       "      <td>CA</td>\n",
       "      <td>140519.984762</td>\n",
       "    </tr>\n",
       "    <tr>\n",
       "      <th>8</th>\n",
       "      <td>CH</td>\n",
       "      <td>152256.666667</td>\n",
       "    </tr>\n",
       "    <tr>\n",
       "      <th>9</th>\n",
       "      <td>CL</td>\n",
       "      <td>69346.000000</td>\n",
       "    </tr>\n",
       "    <tr>\n",
       "      <th>10</th>\n",
       "      <td>CY</td>\n",
       "      <td>63701.000000</td>\n",
       "    </tr>\n",
       "    <tr>\n",
       "      <th>11</th>\n",
       "      <td>DE</td>\n",
       "      <td>92253.813559</td>\n",
       "    </tr>\n",
       "    <tr>\n",
       "      <th>12</th>\n",
       "      <td>DO</td>\n",
       "      <td>110000.000000</td>\n",
       "    </tr>\n",
       "    <tr>\n",
       "      <th>13</th>\n",
       "      <td>DZ</td>\n",
       "      <td>100000.000000</td>\n",
       "    </tr>\n",
       "    <tr>\n",
       "      <th>14</th>\n",
       "      <td>EC</td>\n",
       "      <td>16000.000000</td>\n",
       "    </tr>\n",
       "    <tr>\n",
       "      <th>15</th>\n",
       "      <td>EE</td>\n",
       "      <td>40000.000000</td>\n",
       "    </tr>\n",
       "    <tr>\n",
       "      <th>16</th>\n",
       "      <td>EG</td>\n",
       "      <td>140690.909091</td>\n",
       "    </tr>\n",
       "    <tr>\n",
       "      <th>17</th>\n",
       "      <td>ES</td>\n",
       "      <td>46421.423077</td>\n",
       "    </tr>\n",
       "    <tr>\n",
       "      <th>18</th>\n",
       "      <td>FI</td>\n",
       "      <td>43611.000000</td>\n",
       "    </tr>\n",
       "    <tr>\n",
       "      <th>19</th>\n",
       "      <td>FR</td>\n",
       "      <td>90878.254237</td>\n",
       "    </tr>\n",
       "    <tr>\n",
       "      <th>20</th>\n",
       "      <td>GB</td>\n",
       "      <td>86264.060134</td>\n",
       "    </tr>\n",
       "    <tr>\n",
       "      <th>21</th>\n",
       "      <td>GR</td>\n",
       "      <td>42683.666667</td>\n",
       "    </tr>\n",
       "    <tr>\n",
       "      <th>22</th>\n",
       "      <td>HK</td>\n",
       "      <td>65058.000000</td>\n",
       "    </tr>\n",
       "    <tr>\n",
       "      <th>23</th>\n",
       "      <td>HU</td>\n",
       "      <td>23935.750000</td>\n",
       "    </tr>\n",
       "    <tr>\n",
       "      <th>24</th>\n",
       "      <td>IE</td>\n",
       "      <td>89145.391304</td>\n",
       "    </tr>\n",
       "    <tr>\n",
       "      <th>25</th>\n",
       "      <td>IN</td>\n",
       "      <td>42784.133333</td>\n",
       "    </tr>\n",
       "    <tr>\n",
       "      <th>26</th>\n",
       "      <td>IT</td>\n",
       "      <td>111401.083333</td>\n",
       "    </tr>\n",
       "    <tr>\n",
       "      <th>27</th>\n",
       "      <td>JP</td>\n",
       "      <td>121766.666667</td>\n",
       "    </tr>\n",
       "    <tr>\n",
       "      <th>28</th>\n",
       "      <td>KE</td>\n",
       "      <td>50000.000000</td>\n",
       "    </tr>\n",
       "    <tr>\n",
       "      <th>29</th>\n",
       "      <td>KR</td>\n",
       "      <td>99272.000000</td>\n",
       "    </tr>\n",
       "    <tr>\n",
       "      <th>30</th>\n",
       "      <td>LT</td>\n",
       "      <td>62762.000000</td>\n",
       "    </tr>\n",
       "    <tr>\n",
       "      <th>31</th>\n",
       "      <td>LV</td>\n",
       "      <td>61688.500000</td>\n",
       "    </tr>\n",
       "    <tr>\n",
       "      <th>32</th>\n",
       "      <td>MX</td>\n",
       "      <td>140466.666667</td>\n",
       "    </tr>\n",
       "    <tr>\n",
       "      <th>33</th>\n",
       "      <td>NG</td>\n",
       "      <td>50000.000000</td>\n",
       "    </tr>\n",
       "    <tr>\n",
       "      <th>34</th>\n",
       "      <td>NL</td>\n",
       "      <td>70070.937500</td>\n",
       "    </tr>\n",
       "    <tr>\n",
       "      <th>35</th>\n",
       "      <td>NO</td>\n",
       "      <td>88462.000000</td>\n",
       "    </tr>\n",
       "    <tr>\n",
       "      <th>36</th>\n",
       "      <td>NZ</td>\n",
       "      <td>122929.750000</td>\n",
       "    </tr>\n",
       "    <tr>\n",
       "      <th>37</th>\n",
       "      <td>PH</td>\n",
       "      <td>76864.000000</td>\n",
       "    </tr>\n",
       "    <tr>\n",
       "      <th>38</th>\n",
       "      <td>PK</td>\n",
       "      <td>21000.000000</td>\n",
       "    </tr>\n",
       "    <tr>\n",
       "      <th>39</th>\n",
       "      <td>PL</td>\n",
       "      <td>73466.555556</td>\n",
       "    </tr>\n",
       "    <tr>\n",
       "      <th>40</th>\n",
       "      <td>PT</td>\n",
       "      <td>88888.250000</td>\n",
       "    </tr>\n",
       "    <tr>\n",
       "      <th>41</th>\n",
       "      <td>RO</td>\n",
       "      <td>39992.000000</td>\n",
       "    </tr>\n",
       "    <tr>\n",
       "      <th>42</th>\n",
       "      <td>RS</td>\n",
       "      <td>25532.000000</td>\n",
       "    </tr>\n",
       "    <tr>\n",
       "      <th>43</th>\n",
       "      <td>RU</td>\n",
       "      <td>66500.000000</td>\n",
       "    </tr>\n",
       "    <tr>\n",
       "      <th>44</th>\n",
       "      <td>SE</td>\n",
       "      <td>87157.500000</td>\n",
       "    </tr>\n",
       "    <tr>\n",
       "      <th>45</th>\n",
       "      <td>SG</td>\n",
       "      <td>152522.714286</td>\n",
       "    </tr>\n",
       "    <tr>\n",
       "      <th>46</th>\n",
       "      <td>SK</td>\n",
       "      <td>30522.400000</td>\n",
       "    </tr>\n",
       "    <tr>\n",
       "      <th>47</th>\n",
       "      <td>TH</td>\n",
       "      <td>26957.000000</td>\n",
       "    </tr>\n",
       "    <tr>\n",
       "      <th>48</th>\n",
       "      <td>TR</td>\n",
       "      <td>45019.000000</td>\n",
       "    </tr>\n",
       "    <tr>\n",
       "      <th>49</th>\n",
       "      <td>TW</td>\n",
       "      <td>17282.500000</td>\n",
       "    </tr>\n",
       "    <tr>\n",
       "      <th>50</th>\n",
       "      <td>UA</td>\n",
       "      <td>85000.000000</td>\n",
       "    </tr>\n",
       "    <tr>\n",
       "      <th>51</th>\n",
       "      <td>US</td>\n",
       "      <td>162802.494603</td>\n",
       "    </tr>\n",
       "    <tr>\n",
       "      <th>52</th>\n",
       "      <td>UZ</td>\n",
       "      <td>73000.000000</td>\n",
       "    </tr>\n",
       "    <tr>\n",
       "      <th>53</th>\n",
       "      <td>ZA</td>\n",
       "      <td>44871.750000</td>\n",
       "    </tr>\n",
       "  </tbody>\n",
       "</table>\n",
       "</div>"
      ],
      "text/plain": [
       "   residencia            usd\n",
       "0          AD   50745.000000\n",
       "1          AR   42000.000000\n",
       "2          AT   50342.067797\n",
       "3          AU  112190.000000\n",
       "4          BE   66790.750000\n",
       "5          BG  152500.000000\n",
       "6          BR   73720.909091\n",
       "7          CA  140519.984762\n",
       "8          CH  152256.666667\n",
       "9          CL   69346.000000\n",
       "10         CY   63701.000000\n",
       "11         DE   92253.813559\n",
       "12         DO  110000.000000\n",
       "13         DZ  100000.000000\n",
       "14         EC   16000.000000\n",
       "15         EE   40000.000000\n",
       "16         EG  140690.909091\n",
       "17         ES   46421.423077\n",
       "18         FI   43611.000000\n",
       "19         FR   90878.254237\n",
       "20         GB   86264.060134\n",
       "21         GR   42683.666667\n",
       "22         HK   65058.000000\n",
       "23         HU   23935.750000\n",
       "24         IE   89145.391304\n",
       "25         IN   42784.133333\n",
       "26         IT  111401.083333\n",
       "27         JP  121766.666667\n",
       "28         KE   50000.000000\n",
       "29         KR   99272.000000\n",
       "30         LT   62762.000000\n",
       "31         LV   61688.500000\n",
       "32         MX  140466.666667\n",
       "33         NG   50000.000000\n",
       "34         NL   70070.937500\n",
       "35         NO   88462.000000\n",
       "36         NZ  122929.750000\n",
       "37         PH   76864.000000\n",
       "38         PK   21000.000000\n",
       "39         PL   73466.555556\n",
       "40         PT   88888.250000\n",
       "41         RO   39992.000000\n",
       "42         RS   25532.000000\n",
       "43         RU   66500.000000\n",
       "44         SE   87157.500000\n",
       "45         SG  152522.714286\n",
       "46         SK   30522.400000\n",
       "47         TH   26957.000000\n",
       "48         TR   45019.000000\n",
       "49         TW   17282.500000\n",
       "50         UA   85000.000000\n",
       "51         US  162802.494603\n",
       "52         UZ   73000.000000\n",
       "53         ZA   44871.750000"
      ]
     },
     "execution_count": 7,
     "metadata": {},
     "output_type": "execute_result"
    }
   ],
   "source": [
    "dfcientista = dflimpo[dflimpo['cargo'] == 'Data Scientist']\n",
    "dfmedia = dfcientista.groupby('residencia')['usd'].mean().reset_index()\n",
    "dfmedia"
   ]
  },
  {
   "cell_type": "code",
   "execution_count": 8,
   "id": "57454c6e",
   "metadata": {},
   "outputs": [
    {
     "data": {
      "text/plain": [
       "['AD',\n",
       " 'AR',\n",
       " 'AT',\n",
       " 'AU',\n",
       " 'BE',\n",
       " 'BG',\n",
       " 'BR',\n",
       " 'CA',\n",
       " 'CH',\n",
       " 'CL',\n",
       " 'CY',\n",
       " 'DE',\n",
       " 'DO',\n",
       " 'DZ',\n",
       " 'EC',\n",
       " 'EE',\n",
       " 'EG',\n",
       " 'ES',\n",
       " 'FI',\n",
       " 'FR',\n",
       " 'GB',\n",
       " 'GR',\n",
       " 'HK',\n",
       " 'HU',\n",
       " 'IE',\n",
       " 'IN',\n",
       " 'IT',\n",
       " 'JP',\n",
       " 'KE',\n",
       " 'KR',\n",
       " 'LT',\n",
       " 'LV',\n",
       " 'MX',\n",
       " 'NG',\n",
       " 'NL',\n",
       " 'NO',\n",
       " 'NZ',\n",
       " 'PH',\n",
       " 'PK',\n",
       " 'PL',\n",
       " 'PT',\n",
       " 'RO',\n",
       " 'RS',\n",
       " 'RU',\n",
       " 'SE',\n",
       " 'SG',\n",
       " 'SK',\n",
       " 'TH',\n",
       " 'TR',\n",
       " 'TW',\n",
       " 'UA',\n",
       " 'US',\n",
       " 'UZ',\n",
       " 'ZA']"
      ]
     },
     "execution_count": 8,
     "metadata": {},
     "output_type": "execute_result"
    }
   ],
   "source": [
    "paises = dfmedia['residencia'].unique().tolist()\n",
    "paises"
   ]
  },
  {
   "cell_type": "code",
   "execution_count": 9,
   "id": "b8feea58",
   "metadata": {},
   "outputs": [
    {
     "name": "stdout",
     "output_type": "stream",
     "text": [
      "Dicionário de conversão ISO-2 para ISO-3:\n"
     ]
    },
    {
     "data": {
      "application/vnd.microsoft.datawrangler.viewer.v0+json": {
       "columns": [
        {
         "name": "index",
         "rawType": "int64",
         "type": "integer"
        },
        {
         "name": "residencia",
         "rawType": "object",
         "type": "string"
        },
        {
         "name": "usd",
         "rawType": "float64",
         "type": "float"
        },
        {
         "name": "iso_alpha3",
         "rawType": "object",
         "type": "string"
        }
       ],
       "ref": "abd5b874-5eec-4a4c-aebf-d3160d7f0150",
       "rows": [
        [
         "0",
         "AD",
         "50745.0",
         "AND"
        ],
        [
         "1",
         "AR",
         "42000.0",
         "ARG"
        ],
        [
         "2",
         "AT",
         "50342.06779661017",
         "AUT"
        ],
        [
         "3",
         "AU",
         "112190.0",
         "AUS"
        ],
        [
         "4",
         "BE",
         "66790.75",
         "BEL"
        ],
        [
         "5",
         "BG",
         "152500.0",
         "BGR"
        ],
        [
         "6",
         "BR",
         "73720.90909090909",
         "BRA"
        ],
        [
         "7",
         "CA",
         "140519.98476190475",
         "CAN"
        ],
        [
         "8",
         "CH",
         "152256.66666666666",
         "CHE"
        ],
        [
         "9",
         "CL",
         "69346.0",
         "CHL"
        ],
        [
         "10",
         "CY",
         "63701.0",
         "CYP"
        ],
        [
         "11",
         "DE",
         "92253.81355932204",
         "DEU"
        ],
        [
         "12",
         "DO",
         "110000.0",
         "DOM"
        ],
        [
         "13",
         "DZ",
         "100000.0",
         "DZA"
        ],
        [
         "14",
         "EC",
         "16000.0",
         "ECU"
        ],
        [
         "15",
         "EE",
         "40000.0",
         "EST"
        ],
        [
         "16",
         "EG",
         "140690.9090909091",
         "EGY"
        ],
        [
         "17",
         "ES",
         "46421.42307692308",
         "ESP"
        ],
        [
         "18",
         "FI",
         "43611.0",
         "FIN"
        ],
        [
         "19",
         "FR",
         "90878.25423728813",
         "FRA"
        ],
        [
         "20",
         "GB",
         "86264.0601336303",
         "GBR"
        ],
        [
         "21",
         "GR",
         "42683.666666666664",
         "GRC"
        ],
        [
         "22",
         "HK",
         "65058.0",
         "HKG"
        ],
        [
         "23",
         "HU",
         "23935.75",
         "HUN"
        ],
        [
         "24",
         "IE",
         "89145.39130434782",
         "IRL"
        ],
        [
         "25",
         "IN",
         "42784.13333333333",
         "IND"
        ],
        [
         "26",
         "IT",
         "111401.08333333333",
         "ITA"
        ],
        [
         "27",
         "JP",
         "121766.66666666667",
         "JPN"
        ],
        [
         "28",
         "KE",
         "50000.0",
         "KEN"
        ],
        [
         "29",
         "KR",
         "99272.0",
         "KOR"
        ],
        [
         "30",
         "LT",
         "62762.0",
         "LTU"
        ],
        [
         "31",
         "LV",
         "61688.5",
         "LVA"
        ],
        [
         "32",
         "MX",
         "140466.66666666666",
         "MEX"
        ],
        [
         "33",
         "NG",
         "50000.0",
         "NGA"
        ],
        [
         "34",
         "NL",
         "70070.9375",
         "NLD"
        ],
        [
         "35",
         "NO",
         "88462.0",
         "NOR"
        ],
        [
         "36",
         "NZ",
         "122929.75",
         "NZL"
        ],
        [
         "37",
         "PH",
         "76864.0",
         "PHL"
        ],
        [
         "38",
         "PK",
         "21000.0",
         "PAK"
        ],
        [
         "39",
         "PL",
         "73466.55555555556",
         "POL"
        ],
        [
         "40",
         "PT",
         "88888.25",
         "PRT"
        ],
        [
         "41",
         "RO",
         "39992.0",
         "ROU"
        ],
        [
         "42",
         "RS",
         "25532.0",
         "SRB"
        ],
        [
         "43",
         "RU",
         "66500.0",
         "RUS"
        ],
        [
         "44",
         "SE",
         "87157.5",
         "SWE"
        ],
        [
         "45",
         "SG",
         "152522.7142857143",
         "SGP"
        ],
        [
         "46",
         "SK",
         "30522.4",
         "SVK"
        ],
        [
         "47",
         "TH",
         "26957.0",
         "THA"
        ],
        [
         "48",
         "TR",
         "45019.0",
         "TUR"
        ],
        [
         "49",
         "TW",
         "17282.5",
         "TWN"
        ]
       ],
       "shape": {
        "columns": 3,
        "rows": 54
       }
      },
      "text/html": [
       "<div>\n",
       "<style scoped>\n",
       "    .dataframe tbody tr th:only-of-type {\n",
       "        vertical-align: middle;\n",
       "    }\n",
       "\n",
       "    .dataframe tbody tr th {\n",
       "        vertical-align: top;\n",
       "    }\n",
       "\n",
       "    .dataframe thead th {\n",
       "        text-align: right;\n",
       "    }\n",
       "</style>\n",
       "<table border=\"1\" class=\"dataframe\">\n",
       "  <thead>\n",
       "    <tr style=\"text-align: right;\">\n",
       "      <th></th>\n",
       "      <th>residencia</th>\n",
       "      <th>usd</th>\n",
       "      <th>iso_alpha3</th>\n",
       "    </tr>\n",
       "  </thead>\n",
       "  <tbody>\n",
       "    <tr>\n",
       "      <th>0</th>\n",
       "      <td>AD</td>\n",
       "      <td>50745.000000</td>\n",
       "      <td>AND</td>\n",
       "    </tr>\n",
       "    <tr>\n",
       "      <th>1</th>\n",
       "      <td>AR</td>\n",
       "      <td>42000.000000</td>\n",
       "      <td>ARG</td>\n",
       "    </tr>\n",
       "    <tr>\n",
       "      <th>2</th>\n",
       "      <td>AT</td>\n",
       "      <td>50342.067797</td>\n",
       "      <td>AUT</td>\n",
       "    </tr>\n",
       "    <tr>\n",
       "      <th>3</th>\n",
       "      <td>AU</td>\n",
       "      <td>112190.000000</td>\n",
       "      <td>AUS</td>\n",
       "    </tr>\n",
       "    <tr>\n",
       "      <th>4</th>\n",
       "      <td>BE</td>\n",
       "      <td>66790.750000</td>\n",
       "      <td>BEL</td>\n",
       "    </tr>\n",
       "    <tr>\n",
       "      <th>5</th>\n",
       "      <td>BG</td>\n",
       "      <td>152500.000000</td>\n",
       "      <td>BGR</td>\n",
       "    </tr>\n",
       "    <tr>\n",
       "      <th>6</th>\n",
       "      <td>BR</td>\n",
       "      <td>73720.909091</td>\n",
       "      <td>BRA</td>\n",
       "    </tr>\n",
       "    <tr>\n",
       "      <th>7</th>\n",
       "      <td>CA</td>\n",
       "      <td>140519.984762</td>\n",
       "      <td>CAN</td>\n",
       "    </tr>\n",
       "    <tr>\n",
       "      <th>8</th>\n",
       "      <td>CH</td>\n",
       "      <td>152256.666667</td>\n",
       "      <td>CHE</td>\n",
       "    </tr>\n",
       "    <tr>\n",
       "      <th>9</th>\n",
       "      <td>CL</td>\n",
       "      <td>69346.000000</td>\n",
       "      <td>CHL</td>\n",
       "    </tr>\n",
       "    <tr>\n",
       "      <th>10</th>\n",
       "      <td>CY</td>\n",
       "      <td>63701.000000</td>\n",
       "      <td>CYP</td>\n",
       "    </tr>\n",
       "    <tr>\n",
       "      <th>11</th>\n",
       "      <td>DE</td>\n",
       "      <td>92253.813559</td>\n",
       "      <td>DEU</td>\n",
       "    </tr>\n",
       "    <tr>\n",
       "      <th>12</th>\n",
       "      <td>DO</td>\n",
       "      <td>110000.000000</td>\n",
       "      <td>DOM</td>\n",
       "    </tr>\n",
       "    <tr>\n",
       "      <th>13</th>\n",
       "      <td>DZ</td>\n",
       "      <td>100000.000000</td>\n",
       "      <td>DZA</td>\n",
       "    </tr>\n",
       "    <tr>\n",
       "      <th>14</th>\n",
       "      <td>EC</td>\n",
       "      <td>16000.000000</td>\n",
       "      <td>ECU</td>\n",
       "    </tr>\n",
       "    <tr>\n",
       "      <th>15</th>\n",
       "      <td>EE</td>\n",
       "      <td>40000.000000</td>\n",
       "      <td>EST</td>\n",
       "    </tr>\n",
       "    <tr>\n",
       "      <th>16</th>\n",
       "      <td>EG</td>\n",
       "      <td>140690.909091</td>\n",
       "      <td>EGY</td>\n",
       "    </tr>\n",
       "    <tr>\n",
       "      <th>17</th>\n",
       "      <td>ES</td>\n",
       "      <td>46421.423077</td>\n",
       "      <td>ESP</td>\n",
       "    </tr>\n",
       "    <tr>\n",
       "      <th>18</th>\n",
       "      <td>FI</td>\n",
       "      <td>43611.000000</td>\n",
       "      <td>FIN</td>\n",
       "    </tr>\n",
       "    <tr>\n",
       "      <th>19</th>\n",
       "      <td>FR</td>\n",
       "      <td>90878.254237</td>\n",
       "      <td>FRA</td>\n",
       "    </tr>\n",
       "    <tr>\n",
       "      <th>20</th>\n",
       "      <td>GB</td>\n",
       "      <td>86264.060134</td>\n",
       "      <td>GBR</td>\n",
       "    </tr>\n",
       "    <tr>\n",
       "      <th>21</th>\n",
       "      <td>GR</td>\n",
       "      <td>42683.666667</td>\n",
       "      <td>GRC</td>\n",
       "    </tr>\n",
       "    <tr>\n",
       "      <th>22</th>\n",
       "      <td>HK</td>\n",
       "      <td>65058.000000</td>\n",
       "      <td>HKG</td>\n",
       "    </tr>\n",
       "    <tr>\n",
       "      <th>23</th>\n",
       "      <td>HU</td>\n",
       "      <td>23935.750000</td>\n",
       "      <td>HUN</td>\n",
       "    </tr>\n",
       "    <tr>\n",
       "      <th>24</th>\n",
       "      <td>IE</td>\n",
       "      <td>89145.391304</td>\n",
       "      <td>IRL</td>\n",
       "    </tr>\n",
       "    <tr>\n",
       "      <th>25</th>\n",
       "      <td>IN</td>\n",
       "      <td>42784.133333</td>\n",
       "      <td>IND</td>\n",
       "    </tr>\n",
       "    <tr>\n",
       "      <th>26</th>\n",
       "      <td>IT</td>\n",
       "      <td>111401.083333</td>\n",
       "      <td>ITA</td>\n",
       "    </tr>\n",
       "    <tr>\n",
       "      <th>27</th>\n",
       "      <td>JP</td>\n",
       "      <td>121766.666667</td>\n",
       "      <td>JPN</td>\n",
       "    </tr>\n",
       "    <tr>\n",
       "      <th>28</th>\n",
       "      <td>KE</td>\n",
       "      <td>50000.000000</td>\n",
       "      <td>KEN</td>\n",
       "    </tr>\n",
       "    <tr>\n",
       "      <th>29</th>\n",
       "      <td>KR</td>\n",
       "      <td>99272.000000</td>\n",
       "      <td>KOR</td>\n",
       "    </tr>\n",
       "    <tr>\n",
       "      <th>30</th>\n",
       "      <td>LT</td>\n",
       "      <td>62762.000000</td>\n",
       "      <td>LTU</td>\n",
       "    </tr>\n",
       "    <tr>\n",
       "      <th>31</th>\n",
       "      <td>LV</td>\n",
       "      <td>61688.500000</td>\n",
       "      <td>LVA</td>\n",
       "    </tr>\n",
       "    <tr>\n",
       "      <th>32</th>\n",
       "      <td>MX</td>\n",
       "      <td>140466.666667</td>\n",
       "      <td>MEX</td>\n",
       "    </tr>\n",
       "    <tr>\n",
       "      <th>33</th>\n",
       "      <td>NG</td>\n",
       "      <td>50000.000000</td>\n",
       "      <td>NGA</td>\n",
       "    </tr>\n",
       "    <tr>\n",
       "      <th>34</th>\n",
       "      <td>NL</td>\n",
       "      <td>70070.937500</td>\n",
       "      <td>NLD</td>\n",
       "    </tr>\n",
       "    <tr>\n",
       "      <th>35</th>\n",
       "      <td>NO</td>\n",
       "      <td>88462.000000</td>\n",
       "      <td>NOR</td>\n",
       "    </tr>\n",
       "    <tr>\n",
       "      <th>36</th>\n",
       "      <td>NZ</td>\n",
       "      <td>122929.750000</td>\n",
       "      <td>NZL</td>\n",
       "    </tr>\n",
       "    <tr>\n",
       "      <th>37</th>\n",
       "      <td>PH</td>\n",
       "      <td>76864.000000</td>\n",
       "      <td>PHL</td>\n",
       "    </tr>\n",
       "    <tr>\n",
       "      <th>38</th>\n",
       "      <td>PK</td>\n",
       "      <td>21000.000000</td>\n",
       "      <td>PAK</td>\n",
       "    </tr>\n",
       "    <tr>\n",
       "      <th>39</th>\n",
       "      <td>PL</td>\n",
       "      <td>73466.555556</td>\n",
       "      <td>POL</td>\n",
       "    </tr>\n",
       "    <tr>\n",
       "      <th>40</th>\n",
       "      <td>PT</td>\n",
       "      <td>88888.250000</td>\n",
       "      <td>PRT</td>\n",
       "    </tr>\n",
       "    <tr>\n",
       "      <th>41</th>\n",
       "      <td>RO</td>\n",
       "      <td>39992.000000</td>\n",
       "      <td>ROU</td>\n",
       "    </tr>\n",
       "    <tr>\n",
       "      <th>42</th>\n",
       "      <td>RS</td>\n",
       "      <td>25532.000000</td>\n",
       "      <td>SRB</td>\n",
       "    </tr>\n",
       "    <tr>\n",
       "      <th>43</th>\n",
       "      <td>RU</td>\n",
       "      <td>66500.000000</td>\n",
       "      <td>RUS</td>\n",
       "    </tr>\n",
       "    <tr>\n",
       "      <th>44</th>\n",
       "      <td>SE</td>\n",
       "      <td>87157.500000</td>\n",
       "      <td>SWE</td>\n",
       "    </tr>\n",
       "    <tr>\n",
       "      <th>45</th>\n",
       "      <td>SG</td>\n",
       "      <td>152522.714286</td>\n",
       "      <td>SGP</td>\n",
       "    </tr>\n",
       "    <tr>\n",
       "      <th>46</th>\n",
       "      <td>SK</td>\n",
       "      <td>30522.400000</td>\n",
       "      <td>SVK</td>\n",
       "    </tr>\n",
       "    <tr>\n",
       "      <th>47</th>\n",
       "      <td>TH</td>\n",
       "      <td>26957.000000</td>\n",
       "      <td>THA</td>\n",
       "    </tr>\n",
       "    <tr>\n",
       "      <th>48</th>\n",
       "      <td>TR</td>\n",
       "      <td>45019.000000</td>\n",
       "      <td>TUR</td>\n",
       "    </tr>\n",
       "    <tr>\n",
       "      <th>49</th>\n",
       "      <td>TW</td>\n",
       "      <td>17282.500000</td>\n",
       "      <td>TWN</td>\n",
       "    </tr>\n",
       "    <tr>\n",
       "      <th>50</th>\n",
       "      <td>UA</td>\n",
       "      <td>85000.000000</td>\n",
       "      <td>UKR</td>\n",
       "    </tr>\n",
       "    <tr>\n",
       "      <th>51</th>\n",
       "      <td>US</td>\n",
       "      <td>162802.494603</td>\n",
       "      <td>USA</td>\n",
       "    </tr>\n",
       "    <tr>\n",
       "      <th>52</th>\n",
       "      <td>UZ</td>\n",
       "      <td>73000.000000</td>\n",
       "      <td>UZB</td>\n",
       "    </tr>\n",
       "    <tr>\n",
       "      <th>53</th>\n",
       "      <td>ZA</td>\n",
       "      <td>44871.750000</td>\n",
       "      <td>ZAF</td>\n",
       "    </tr>\n",
       "  </tbody>\n",
       "</table>\n",
       "</div>"
      ],
      "text/plain": [
       "   residencia            usd iso_alpha3\n",
       "0          AD   50745.000000        AND\n",
       "1          AR   42000.000000        ARG\n",
       "2          AT   50342.067797        AUT\n",
       "3          AU  112190.000000        AUS\n",
       "4          BE   66790.750000        BEL\n",
       "5          BG  152500.000000        BGR\n",
       "6          BR   73720.909091        BRA\n",
       "7          CA  140519.984762        CAN\n",
       "8          CH  152256.666667        CHE\n",
       "9          CL   69346.000000        CHL\n",
       "10         CY   63701.000000        CYP\n",
       "11         DE   92253.813559        DEU\n",
       "12         DO  110000.000000        DOM\n",
       "13         DZ  100000.000000        DZA\n",
       "14         EC   16000.000000        ECU\n",
       "15         EE   40000.000000        EST\n",
       "16         EG  140690.909091        EGY\n",
       "17         ES   46421.423077        ESP\n",
       "18         FI   43611.000000        FIN\n",
       "19         FR   90878.254237        FRA\n",
       "20         GB   86264.060134        GBR\n",
       "21         GR   42683.666667        GRC\n",
       "22         HK   65058.000000        HKG\n",
       "23         HU   23935.750000        HUN\n",
       "24         IE   89145.391304        IRL\n",
       "25         IN   42784.133333        IND\n",
       "26         IT  111401.083333        ITA\n",
       "27         JP  121766.666667        JPN\n",
       "28         KE   50000.000000        KEN\n",
       "29         KR   99272.000000        KOR\n",
       "30         LT   62762.000000        LTU\n",
       "31         LV   61688.500000        LVA\n",
       "32         MX  140466.666667        MEX\n",
       "33         NG   50000.000000        NGA\n",
       "34         NL   70070.937500        NLD\n",
       "35         NO   88462.000000        NOR\n",
       "36         NZ  122929.750000        NZL\n",
       "37         PH   76864.000000        PHL\n",
       "38         PK   21000.000000        PAK\n",
       "39         PL   73466.555556        POL\n",
       "40         PT   88888.250000        PRT\n",
       "41         RO   39992.000000        ROU\n",
       "42         RS   25532.000000        SRB\n",
       "43         RU   66500.000000        RUS\n",
       "44         SE   87157.500000        SWE\n",
       "45         SG  152522.714286        SGP\n",
       "46         SK   30522.400000        SVK\n",
       "47         TH   26957.000000        THA\n",
       "48         TR   45019.000000        TUR\n",
       "49         TW   17282.500000        TWN\n",
       "50         UA   85000.000000        UKR\n",
       "51         US  162802.494603        USA\n",
       "52         UZ   73000.000000        UZB\n",
       "53         ZA   44871.750000        ZAF"
      ]
     },
     "execution_count": 9,
     "metadata": {},
     "output_type": "execute_result"
    }
   ],
   "source": [
    "import pycountry\n",
    "\n",
    "# Sua lista de países (use a lista real que você obteve)\n",
    "paises = dfmedia['residencia'].unique().tolist()\n",
    "paises\n",
    "\n",
    "# Dicionário para armazenar a conversão\n",
    "iso3_dict = {}\n",
    "\n",
    "for iso2_code in paises:\n",
    "    try:\n",
    "        # Busca o país pelo código ISO-A2\n",
    "        pais = pycountry.countries.get(alpha_2=iso2_code)\n",
    "        if pais:\n",
    "            # Adiciona a conversão ao dicionário\n",
    "            iso3_dict[iso2_code] = pais.alpha_3\n",
    "    except KeyError:\n",
    "        print(f\"Aviso: Não foi possível encontrar o código ISO-3 para '{iso2_code}'.\")\n",
    "dfmedia['iso_alpha3'] = dfmedia['residencia'].map(iso3_dict)\n",
    "\n",
    "print(\"Dicionário de conversão ISO-2 para ISO-3:\")\n",
    "dfmedia"
   ]
  },
  {
   "cell_type": "code",
   "execution_count": 12,
   "id": "cdf527bd",
   "metadata": {},
   "outputs": [
    {
     "data": {
      "application/vnd.plotly.v1+json": {
       "config": {
        "plotlyServerURL": "https://plot.ly"
       },
       "data": [
        {
         "coloraxis": "coloraxis",
         "geo": "geo",
         "hovertemplate": "iso_alpha3=%{location}<br>usd=%{z}<extra></extra>",
         "locations": [
          "AND",
          "ARG",
          "AUT",
          "AUS",
          "BEL",
          "BGR",
          "BRA",
          "CAN",
          "CHE",
          "CHL",
          "CYP",
          "DEU",
          "DOM",
          "DZA",
          "ECU",
          "EST",
          "EGY",
          "ESP",
          "FIN",
          "FRA",
          "GBR",
          "GRC",
          "HKG",
          "HUN",
          "IRL",
          "IND",
          "ITA",
          "JPN",
          "KEN",
          "KOR",
          "LTU",
          "LVA",
          "MEX",
          "NGA",
          "NLD",
          "NOR",
          "NZL",
          "PHL",
          "PAK",
          "POL",
          "PRT",
          "ROU",
          "SRB",
          "RUS",
          "SWE",
          "SGP",
          "SVK",
          "THA",
          "TUR",
          "TWN",
          "UKR",
          "USA",
          "UZB",
          "ZAF"
         ],
         "name": "",
         "type": "choropleth",
         "z": [
          50745,
          42000,
          50342.06779661017,
          112190,
          66790.75,
          152500,
          73720.90909090909,
          140519.98476190475,
          152256.66666666666,
          69346,
          63701,
          92253.81355932204,
          110000,
          100000,
          16000,
          40000,
          140690.9090909091,
          46421.42307692308,
          43611,
          90878.25423728813,
          86264.0601336303,
          42683.666666666664,
          65058,
          23935.75,
          89145.39130434782,
          42784.13333333333,
          111401.08333333333,
          121766.66666666667,
          50000,
          99272,
          62762,
          61688.5,
          140466.66666666666,
          50000,
          70070.9375,
          88462,
          122929.75,
          76864,
          21000,
          73466.55555555556,
          88888.25,
          39992,
          25532,
          66500,
          87157.5,
          152522.7142857143,
          30522.4,
          26957,
          45019,
          17282.5,
          85000,
          162802.49460305294,
          73000,
          44871.75
         ]
        }
       ],
       "layout": {
        "coloraxis": {
         "colorbar": {
          "title": {
           "text": "usd"
          }
         },
         "colorscale": [
          [
           0,
           "#0d0887"
          ],
          [
           0.1111111111111111,
           "#46039f"
          ],
          [
           0.2222222222222222,
           "#7201a8"
          ],
          [
           0.3333333333333333,
           "#9c179e"
          ],
          [
           0.4444444444444444,
           "#bd3786"
          ],
          [
           0.5555555555555556,
           "#d8576b"
          ],
          [
           0.6666666666666666,
           "#ed7953"
          ],
          [
           0.7777777777777778,
           "#fb9f3a"
          ],
          [
           0.8888888888888888,
           "#fdca26"
          ],
          [
           1,
           "#f0f921"
          ]
         ]
        },
        "geo": {
         "center": {},
         "domain": {
          "x": [
           0,
           1
          ],
          "y": [
           0,
           1
          ]
         },
         "scope": "world"
        },
        "legend": {
         "tracegroupgap": 0
        },
        "template": {
         "data": {
          "bar": [
           {
            "error_x": {
             "color": "#2a3f5f"
            },
            "error_y": {
             "color": "#2a3f5f"
            },
            "marker": {
             "line": {
              "color": "#E5ECF6",
              "width": 0.5
             },
             "pattern": {
              "fillmode": "overlay",
              "size": 10,
              "solidity": 0.2
             }
            },
            "type": "bar"
           }
          ],
          "barpolar": [
           {
            "marker": {
             "line": {
              "color": "#E5ECF6",
              "width": 0.5
             },
             "pattern": {
              "fillmode": "overlay",
              "size": 10,
              "solidity": 0.2
             }
            },
            "type": "barpolar"
           }
          ],
          "carpet": [
           {
            "aaxis": {
             "endlinecolor": "#2a3f5f",
             "gridcolor": "white",
             "linecolor": "white",
             "minorgridcolor": "white",
             "startlinecolor": "#2a3f5f"
            },
            "baxis": {
             "endlinecolor": "#2a3f5f",
             "gridcolor": "white",
             "linecolor": "white",
             "minorgridcolor": "white",
             "startlinecolor": "#2a3f5f"
            },
            "type": "carpet"
           }
          ],
          "choropleth": [
           {
            "colorbar": {
             "outlinewidth": 0,
             "ticks": ""
            },
            "type": "choropleth"
           }
          ],
          "contour": [
           {
            "colorbar": {
             "outlinewidth": 0,
             "ticks": ""
            },
            "colorscale": [
             [
              0,
              "#0d0887"
             ],
             [
              0.1111111111111111,
              "#46039f"
             ],
             [
              0.2222222222222222,
              "#7201a8"
             ],
             [
              0.3333333333333333,
              "#9c179e"
             ],
             [
              0.4444444444444444,
              "#bd3786"
             ],
             [
              0.5555555555555556,
              "#d8576b"
             ],
             [
              0.6666666666666666,
              "#ed7953"
             ],
             [
              0.7777777777777778,
              "#fb9f3a"
             ],
             [
              0.8888888888888888,
              "#fdca26"
             ],
             [
              1,
              "#f0f921"
             ]
            ],
            "type": "contour"
           }
          ],
          "contourcarpet": [
           {
            "colorbar": {
             "outlinewidth": 0,
             "ticks": ""
            },
            "type": "contourcarpet"
           }
          ],
          "heatmap": [
           {
            "colorbar": {
             "outlinewidth": 0,
             "ticks": ""
            },
            "colorscale": [
             [
              0,
              "#0d0887"
             ],
             [
              0.1111111111111111,
              "#46039f"
             ],
             [
              0.2222222222222222,
              "#7201a8"
             ],
             [
              0.3333333333333333,
              "#9c179e"
             ],
             [
              0.4444444444444444,
              "#bd3786"
             ],
             [
              0.5555555555555556,
              "#d8576b"
             ],
             [
              0.6666666666666666,
              "#ed7953"
             ],
             [
              0.7777777777777778,
              "#fb9f3a"
             ],
             [
              0.8888888888888888,
              "#fdca26"
             ],
             [
              1,
              "#f0f921"
             ]
            ],
            "type": "heatmap"
           }
          ],
          "heatmapgl": [
           {
            "colorbar": {
             "outlinewidth": 0,
             "ticks": ""
            },
            "colorscale": [
             [
              0,
              "#0d0887"
             ],
             [
              0.1111111111111111,
              "#46039f"
             ],
             [
              0.2222222222222222,
              "#7201a8"
             ],
             [
              0.3333333333333333,
              "#9c179e"
             ],
             [
              0.4444444444444444,
              "#bd3786"
             ],
             [
              0.5555555555555556,
              "#d8576b"
             ],
             [
              0.6666666666666666,
              "#ed7953"
             ],
             [
              0.7777777777777778,
              "#fb9f3a"
             ],
             [
              0.8888888888888888,
              "#fdca26"
             ],
             [
              1,
              "#f0f921"
             ]
            ],
            "type": "heatmapgl"
           }
          ],
          "histogram": [
           {
            "marker": {
             "pattern": {
              "fillmode": "overlay",
              "size": 10,
              "solidity": 0.2
             }
            },
            "type": "histogram"
           }
          ],
          "histogram2d": [
           {
            "colorbar": {
             "outlinewidth": 0,
             "ticks": ""
            },
            "colorscale": [
             [
              0,
              "#0d0887"
             ],
             [
              0.1111111111111111,
              "#46039f"
             ],
             [
              0.2222222222222222,
              "#7201a8"
             ],
             [
              0.3333333333333333,
              "#9c179e"
             ],
             [
              0.4444444444444444,
              "#bd3786"
             ],
             [
              0.5555555555555556,
              "#d8576b"
             ],
             [
              0.6666666666666666,
              "#ed7953"
             ],
             [
              0.7777777777777778,
              "#fb9f3a"
             ],
             [
              0.8888888888888888,
              "#fdca26"
             ],
             [
              1,
              "#f0f921"
             ]
            ],
            "type": "histogram2d"
           }
          ],
          "histogram2dcontour": [
           {
            "colorbar": {
             "outlinewidth": 0,
             "ticks": ""
            },
            "colorscale": [
             [
              0,
              "#0d0887"
             ],
             [
              0.1111111111111111,
              "#46039f"
             ],
             [
              0.2222222222222222,
              "#7201a8"
             ],
             [
              0.3333333333333333,
              "#9c179e"
             ],
             [
              0.4444444444444444,
              "#bd3786"
             ],
             [
              0.5555555555555556,
              "#d8576b"
             ],
             [
              0.6666666666666666,
              "#ed7953"
             ],
             [
              0.7777777777777778,
              "#fb9f3a"
             ],
             [
              0.8888888888888888,
              "#fdca26"
             ],
             [
              1,
              "#f0f921"
             ]
            ],
            "type": "histogram2dcontour"
           }
          ],
          "mesh3d": [
           {
            "colorbar": {
             "outlinewidth": 0,
             "ticks": ""
            },
            "type": "mesh3d"
           }
          ],
          "parcoords": [
           {
            "line": {
             "colorbar": {
              "outlinewidth": 0,
              "ticks": ""
             }
            },
            "type": "parcoords"
           }
          ],
          "pie": [
           {
            "automargin": true,
            "type": "pie"
           }
          ],
          "scatter": [
           {
            "fillpattern": {
             "fillmode": "overlay",
             "size": 10,
             "solidity": 0.2
            },
            "type": "scatter"
           }
          ],
          "scatter3d": [
           {
            "line": {
             "colorbar": {
              "outlinewidth": 0,
              "ticks": ""
             }
            },
            "marker": {
             "colorbar": {
              "outlinewidth": 0,
              "ticks": ""
             }
            },
            "type": "scatter3d"
           }
          ],
          "scattercarpet": [
           {
            "marker": {
             "colorbar": {
              "outlinewidth": 0,
              "ticks": ""
             }
            },
            "type": "scattercarpet"
           }
          ],
          "scattergeo": [
           {
            "marker": {
             "colorbar": {
              "outlinewidth": 0,
              "ticks": ""
             }
            },
            "type": "scattergeo"
           }
          ],
          "scattergl": [
           {
            "marker": {
             "colorbar": {
              "outlinewidth": 0,
              "ticks": ""
             }
            },
            "type": "scattergl"
           }
          ],
          "scattermapbox": [
           {
            "marker": {
             "colorbar": {
              "outlinewidth": 0,
              "ticks": ""
             }
            },
            "type": "scattermapbox"
           }
          ],
          "scatterpolar": [
           {
            "marker": {
             "colorbar": {
              "outlinewidth": 0,
              "ticks": ""
             }
            },
            "type": "scatterpolar"
           }
          ],
          "scatterpolargl": [
           {
            "marker": {
             "colorbar": {
              "outlinewidth": 0,
              "ticks": ""
             }
            },
            "type": "scatterpolargl"
           }
          ],
          "scatterternary": [
           {
            "marker": {
             "colorbar": {
              "outlinewidth": 0,
              "ticks": ""
             }
            },
            "type": "scatterternary"
           }
          ],
          "surface": [
           {
            "colorbar": {
             "outlinewidth": 0,
             "ticks": ""
            },
            "colorscale": [
             [
              0,
              "#0d0887"
             ],
             [
              0.1111111111111111,
              "#46039f"
             ],
             [
              0.2222222222222222,
              "#7201a8"
             ],
             [
              0.3333333333333333,
              "#9c179e"
             ],
             [
              0.4444444444444444,
              "#bd3786"
             ],
             [
              0.5555555555555556,
              "#d8576b"
             ],
             [
              0.6666666666666666,
              "#ed7953"
             ],
             [
              0.7777777777777778,
              "#fb9f3a"
             ],
             [
              0.8888888888888888,
              "#fdca26"
             ],
             [
              1,
              "#f0f921"
             ]
            ],
            "type": "surface"
           }
          ],
          "table": [
           {
            "cells": {
             "fill": {
              "color": "#EBF0F8"
             },
             "line": {
              "color": "white"
             }
            },
            "header": {
             "fill": {
              "color": "#C8D4E3"
             },
             "line": {
              "color": "white"
             }
            },
            "type": "table"
           }
          ]
         },
         "layout": {
          "annotationdefaults": {
           "arrowcolor": "#2a3f5f",
           "arrowhead": 0,
           "arrowwidth": 1
          },
          "autotypenumbers": "strict",
          "coloraxis": {
           "colorbar": {
            "outlinewidth": 0,
            "ticks": ""
           }
          },
          "colorscale": {
           "diverging": [
            [
             0,
             "#8e0152"
            ],
            [
             0.1,
             "#c51b7d"
            ],
            [
             0.2,
             "#de77ae"
            ],
            [
             0.3,
             "#f1b6da"
            ],
            [
             0.4,
             "#fde0ef"
            ],
            [
             0.5,
             "#f7f7f7"
            ],
            [
             0.6,
             "#e6f5d0"
            ],
            [
             0.7,
             "#b8e186"
            ],
            [
             0.8,
             "#7fbc41"
            ],
            [
             0.9,
             "#4d9221"
            ],
            [
             1,
             "#276419"
            ]
           ],
           "sequential": [
            [
             0,
             "#0d0887"
            ],
            [
             0.1111111111111111,
             "#46039f"
            ],
            [
             0.2222222222222222,
             "#7201a8"
            ],
            [
             0.3333333333333333,
             "#9c179e"
            ],
            [
             0.4444444444444444,
             "#bd3786"
            ],
            [
             0.5555555555555556,
             "#d8576b"
            ],
            [
             0.6666666666666666,
             "#ed7953"
            ],
            [
             0.7777777777777778,
             "#fb9f3a"
            ],
            [
             0.8888888888888888,
             "#fdca26"
            ],
            [
             1,
             "#f0f921"
            ]
           ],
           "sequentialminus": [
            [
             0,
             "#0d0887"
            ],
            [
             0.1111111111111111,
             "#46039f"
            ],
            [
             0.2222222222222222,
             "#7201a8"
            ],
            [
             0.3333333333333333,
             "#9c179e"
            ],
            [
             0.4444444444444444,
             "#bd3786"
            ],
            [
             0.5555555555555556,
             "#d8576b"
            ],
            [
             0.6666666666666666,
             "#ed7953"
            ],
            [
             0.7777777777777778,
             "#fb9f3a"
            ],
            [
             0.8888888888888888,
             "#fdca26"
            ],
            [
             1,
             "#f0f921"
            ]
           ]
          },
          "colorway": [
           "#636efa",
           "#EF553B",
           "#00cc96",
           "#ab63fa",
           "#FFA15A",
           "#19d3f3",
           "#FF6692",
           "#B6E880",
           "#FF97FF",
           "#FECB52"
          ],
          "font": {
           "color": "#2a3f5f"
          },
          "geo": {
           "bgcolor": "white",
           "lakecolor": "white",
           "landcolor": "#E5ECF6",
           "showlakes": true,
           "showland": true,
           "subunitcolor": "white"
          },
          "hoverlabel": {
           "align": "left"
          },
          "hovermode": "closest",
          "mapbox": {
           "style": "light"
          },
          "paper_bgcolor": "white",
          "plot_bgcolor": "#E5ECF6",
          "polar": {
           "angularaxis": {
            "gridcolor": "white",
            "linecolor": "white",
            "ticks": ""
           },
           "bgcolor": "#E5ECF6",
           "radialaxis": {
            "gridcolor": "white",
            "linecolor": "white",
            "ticks": ""
           }
          },
          "scene": {
           "xaxis": {
            "backgroundcolor": "#E5ECF6",
            "gridcolor": "white",
            "gridwidth": 2,
            "linecolor": "white",
            "showbackground": true,
            "ticks": "",
            "zerolinecolor": "white"
           },
           "yaxis": {
            "backgroundcolor": "#E5ECF6",
            "gridcolor": "white",
            "gridwidth": 2,
            "linecolor": "white",
            "showbackground": true,
            "ticks": "",
            "zerolinecolor": "white"
           },
           "zaxis": {
            "backgroundcolor": "#E5ECF6",
            "gridcolor": "white",
            "gridwidth": 2,
            "linecolor": "white",
            "showbackground": true,
            "ticks": "",
            "zerolinecolor": "white"
           }
          },
          "shapedefaults": {
           "line": {
            "color": "#2a3f5f"
           }
          },
          "ternary": {
           "aaxis": {
            "gridcolor": "white",
            "linecolor": "white",
            "ticks": ""
           },
           "baxis": {
            "gridcolor": "white",
            "linecolor": "white",
            "ticks": ""
           },
           "bgcolor": "#E5ECF6",
           "caxis": {
            "gridcolor": "white",
            "linecolor": "white",
            "ticks": ""
           }
          },
          "title": {
           "x": 0.05
          },
          "xaxis": {
           "automargin": true,
           "gridcolor": "white",
           "linecolor": "white",
           "ticks": "",
           "title": {
            "standoff": 15
           },
           "zerolinecolor": "white",
           "zerolinewidth": 2
          },
          "yaxis": {
           "automargin": true,
           "gridcolor": "white",
           "linecolor": "white",
           "ticks": "",
           "title": {
            "standoff": 15
           },
           "zerolinecolor": "white",
           "zerolinewidth": 2
          }
         }
        },
        "title": {
         "text": "Média Salarial de Cientista de Dados por País"
        }
       }
      }
     },
     "metadata": {},
     "output_type": "display_data"
    }
   ],
   "source": [
    "df = px.data.gapminder()\n",
    "fig = px.choropleth(\n",
    "    dfmedia\n",
    "    , locations=\"iso_alpha3\"\n",
    "    , color=\"usd\"\n",
    "    , scope=\"world\"\n",
    "    , title= \"Média Salarial de Cientista de Dados por País\"\n",
    ")\n",
    "fig.show()"
   ]
  }
 ],
 "metadata": {
  "kernelspec": {
   "display_name": "base",
   "language": "python",
   "name": "python3"
  },
  "language_info": {
   "codemirror_mode": {
    "name": "ipython",
    "version": 3
   },
   "file_extension": ".py",
   "mimetype": "text/x-python",
   "name": "python",
   "nbconvert_exporter": "python",
   "pygments_lexer": "ipython3",
   "version": "3.13.5"
  }
 },
 "nbformat": 4,
 "nbformat_minor": 5
}
