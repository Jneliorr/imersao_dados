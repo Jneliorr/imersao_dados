{
 "cells": [
  {
   "cell_type": "code",
   "execution_count": 50,
   "id": "8215f34b",
   "metadata": {},
   "outputs": [],
   "source": [
    "import pandas as pd\n",
    "import seaborn as sns\n",
    "import matplotlib.pyplot as plt\n",
    "import plotly.express as px\n",
    "import pycountry"
   ]
  },
  {
   "cell_type": "code",
   "execution_count": 18,
   "id": "ff647bc9",
   "metadata": {},
   "outputs": [],
   "source": [
    "link_projeto = (\"https://raw.githubusercontent.com/guilhermeonrails/data-jobs/refs/heads/main/salaries.csv\")"
   ]
  },
  {
   "cell_type": "code",
   "execution_count": null,
   "id": "8334761d",
   "metadata": {},
   "outputs": [],
   "source": []
  },
  {
   "cell_type": "code",
   "execution_count": 24,
   "id": "5dabaa1a",
   "metadata": {},
   "outputs": [],
   "source": [
    "colunas_traduzidas = {\n",
    "    'work_year': 'ano',\n",
    "    'experience_level': 'senioridade',\n",
    "    'employment_type': 'contrato',\n",
    "    'job_title': 'cargo',\n",
    "    'salary': 'salario',\n",
    "    'salary_currency': 'moeda',\n",
    "    'salary_in_usd': 'usd',\n",
    "    'employee_residence': 'residencia',\n",
    "    'remote_ratio': 'remoto',\n",
    "    'company_location': 'empresa',\n",
    "    'company_size': 'porte_empresa'\n",
    "}\n",
    "\n",
    "senioridade = {\n",
    "'SE': \"Senior\",\n",
    "'MI': \"Pleno\",\n",
    "'EN': \"Junior\",\n",
    "'EX': \"Executivo\"\n",
    "}\n",
    "\n",
    "contrato = {\n",
    "'FT': \"Integral\",\n",
    "'PT': \"Parcial\",\n",
    "'FL': \"Freelancer\",\n",
    "'CT': \"Contrato\"\n",
    "}\n",
    "\n",
    "remoto = {\n",
    "0: \"Presencial\",\n",
    "100: \"Remto\",\n",
    "50: \"Hibrido\"\n",
    "}\n",
    "\n",
    "empresa = {\n",
    "'S': \"Pequena\",\n",
    "'M': \"Media\",\n",
    "'L': \"Grande\"\n",
    "}\n",
    "\n",
    "\n",
    "\n",
    "df = pd.read_csv(link_projeto)\n",
    "\n",
    "\n",
    "\n",
    "df.rename(columns= colunas_traduzidas, inplace=True)\n",
    "\n",
    "\n",
    "df['senioridade']= df['senioridade'].replace(senioridade)\n",
    "df['contrato']= df['contrato'].replace(contrato)\n",
    "df['remoto']= df['remoto'].replace(remoto)\n",
    "df['porte_empresa']= df['porte_empresa'].replace(empresa)\n",
    "\n",
    "\n",
    "dflimpo = df.dropna()\n",
    "dflimpo = dflimpo.assign(ano = dflimpo['ano'].astype('int64'))"
   ]
  },
  {
   "cell_type": "code",
   "execution_count": 30,
   "id": "3c6b28cd",
   "metadata": {},
   "outputs": [
    {
     "data": {
      "text/plain": [
       "Index(['ano', 'senioridade', 'contrato', 'cargo', 'salario', 'moeda', 'usd',\n",
       "       'residencia', 'remoto', 'empresa', 'porte_empresa'],\n",
       "      dtype='object')"
      ]
     },
     "execution_count": 30,
     "metadata": {},
     "output_type": "execute_result"
    }
   ],
   "source": [
    "dflimpo.columns"
   ]
  },
  {
   "cell_type": "code",
   "execution_count": 32,
   "id": "f2a8b0b8",
   "metadata": {},
   "outputs": [
    {
     "data": {
      "application/vnd.microsoft.datawrangler.viewer.v0+json": {
       "columns": [
        {
         "name": "index",
         "rawType": "int64",
         "type": "integer"
        },
        {
         "name": "ano",
         "rawType": "int64",
         "type": "integer"
        },
        {
         "name": "senioridade",
         "rawType": "object",
         "type": "string"
        },
        {
         "name": "contrato",
         "rawType": "object",
         "type": "string"
        },
        {
         "name": "cargo",
         "rawType": "object",
         "type": "string"
        },
        {
         "name": "salario",
         "rawType": "int64",
         "type": "integer"
        },
        {
         "name": "moeda",
         "rawType": "object",
         "type": "string"
        },
        {
         "name": "usd",
         "rawType": "int64",
         "type": "integer"
        },
        {
         "name": "residencia",
         "rawType": "object",
         "type": "string"
        },
        {
         "name": "remoto",
         "rawType": "object",
         "type": "string"
        },
        {
         "name": "empresa",
         "rawType": "object",
         "type": "string"
        },
        {
         "name": "porte_empresa",
         "rawType": "object",
         "type": "string"
        }
       ],
       "ref": "5a257285-7f1b-4a5a-9cbb-1d0ab3972813",
       "rows": [
        [
         "0",
         "2025",
         "Senior",
         "Integral",
         "Data Scientist",
         "214000",
         "USD",
         "214000",
         "US",
         "Remto",
         "US",
         "Media"
        ],
        [
         "1",
         "2025",
         "Senior",
         "Integral",
         "Data Scientist",
         "136000",
         "USD",
         "136000",
         "US",
         "Remto",
         "US",
         "Media"
        ],
        [
         "2",
         "2025",
         "Pleno",
         "Integral",
         "Data Scientist",
         "158800",
         "USD",
         "158800",
         "AU",
         "Presencial",
         "AU",
         "Media"
        ],
        [
         "3",
         "2025",
         "Pleno",
         "Integral",
         "Data Scientist",
         "139200",
         "USD",
         "139200",
         "AU",
         "Presencial",
         "AU",
         "Media"
        ],
        [
         "4",
         "2025",
         "Junior",
         "Integral",
         "Data Scientist",
         "90000",
         "USD",
         "90000",
         "US",
         "Presencial",
         "US",
         "Media"
        ],
        [
         "5",
         "2025",
         "Junior",
         "Integral",
         "Data Scientist",
         "80000",
         "USD",
         "80000",
         "US",
         "Presencial",
         "US",
         "Media"
        ],
        [
         "6",
         "2025",
         "Senior",
         "Integral",
         "Data Scientist",
         "185000",
         "USD",
         "185000",
         "US",
         "Presencial",
         "US",
         "Media"
        ],
        [
         "7",
         "2025",
         "Senior",
         "Integral",
         "Data Scientist",
         "148000",
         "USD",
         "148000",
         "US",
         "Presencial",
         "US",
         "Media"
        ],
        [
         "8",
         "2025",
         "Pleno",
         "Integral",
         "Data Scientist",
         "135000",
         "USD",
         "135000",
         "CA",
         "Presencial",
         "CA",
         "Media"
        ],
        [
         "9",
         "2025",
         "Pleno",
         "Integral",
         "Data Scientist",
         "108000",
         "USD",
         "108000",
         "CA",
         "Presencial",
         "CA",
         "Media"
        ],
        [
         "10",
         "2025",
         "Pleno",
         "Integral",
         "Data Scientist",
         "118000",
         "USD",
         "118000",
         "US",
         "Remto",
         "US",
         "Media"
        ],
        [
         "11",
         "2025",
         "Pleno",
         "Integral",
         "Data Scientist",
         "51000",
         "USD",
         "51000",
         "US",
         "Remto",
         "US",
         "Media"
        ],
        [
         "12",
         "2025",
         "Junior",
         "Integral",
         "Data Scientist",
         "91900",
         "USD",
         "91900",
         "US",
         "Presencial",
         "US",
         "Media"
        ],
        [
         "13",
         "2025",
         "Junior",
         "Integral",
         "Data Scientist",
         "54300",
         "USD",
         "54300",
         "US",
         "Presencial",
         "US",
         "Media"
        ],
        [
         "14",
         "2025",
         "Senior",
         "Integral",
         "Data Scientist",
         "255000",
         "USD",
         "255000",
         "US",
         "Presencial",
         "US",
         "Media"
        ],
        [
         "15",
         "2025",
         "Senior",
         "Integral",
         "Data Scientist",
         "190000",
         "USD",
         "190000",
         "US",
         "Presencial",
         "US",
         "Media"
        ],
        [
         "16",
         "2025",
         "Pleno",
         "Integral",
         "Data Scientist",
         "196350",
         "USD",
         "196350",
         "US",
         "Presencial",
         "US",
         "Media"
        ],
        [
         "17",
         "2025",
         "Pleno",
         "Integral",
         "Data Scientist",
         "130900",
         "USD",
         "130900",
         "US",
         "Presencial",
         "US",
         "Media"
        ],
        [
         "18",
         "2025",
         "Executivo",
         "Integral",
         "Data Scientist",
         "170000",
         "USD",
         "170000",
         "US",
         "Presencial",
         "US",
         "Media"
        ],
        [
         "19",
         "2025",
         "Executivo",
         "Integral",
         "Data Scientist",
         "160000",
         "USD",
         "160000",
         "US",
         "Presencial",
         "US",
         "Media"
        ],
        [
         "20",
         "2025",
         "Pleno",
         "Integral",
         "Data Scientist",
         "119000",
         "USD",
         "119000",
         "CA",
         "Presencial",
         "CA",
         "Media"
        ],
        [
         "21",
         "2025",
         "Pleno",
         "Integral",
         "Data Scientist",
         "105000",
         "USD",
         "105000",
         "CA",
         "Presencial",
         "CA",
         "Media"
        ],
        [
         "22",
         "2025",
         "Pleno",
         "Integral",
         "Data Scientist",
         "120000",
         "USD",
         "120000",
         "US",
         "Presencial",
         "US",
         "Media"
        ],
        [
         "23",
         "2025",
         "Pleno",
         "Integral",
         "Data Scientist",
         "110000",
         "USD",
         "110000",
         "US",
         "Presencial",
         "US",
         "Media"
        ],
        [
         "24",
         "2025",
         "Pleno",
         "Integral",
         "Data Scientist",
         "120000",
         "USD",
         "120000",
         "US",
         "Presencial",
         "US",
         "Media"
        ],
        [
         "25",
         "2025",
         "Pleno",
         "Integral",
         "Data Scientist",
         "110000",
         "USD",
         "110000",
         "US",
         "Presencial",
         "US",
         "Media"
        ],
        [
         "26",
         "2025",
         "Pleno",
         "Integral",
         "Data Scientist",
         "120000",
         "USD",
         "120000",
         "US",
         "Presencial",
         "US",
         "Media"
        ],
        [
         "27",
         "2025",
         "Pleno",
         "Integral",
         "Data Scientist",
         "110000",
         "USD",
         "110000",
         "US",
         "Presencial",
         "US",
         "Media"
        ],
        [
         "28",
         "2025",
         "Senior",
         "Integral",
         "Data Scientist",
         "190000",
         "USD",
         "190000",
         "US",
         "Presencial",
         "US",
         "Media"
        ],
        [
         "29",
         "2025",
         "Senior",
         "Integral",
         "Data Scientist",
         "150000",
         "USD",
         "150000",
         "US",
         "Presencial",
         "US",
         "Media"
        ],
        [
         "30",
         "2025",
         "Senior",
         "Integral",
         "Data Scientist",
         "180000",
         "USD",
         "180000",
         "US",
         "Presencial",
         "US",
         "Media"
        ],
        [
         "31",
         "2025",
         "Senior",
         "Integral",
         "Data Scientist",
         "130000",
         "USD",
         "130000",
         "US",
         "Presencial",
         "US",
         "Media"
        ],
        [
         "32",
         "2025",
         "Pleno",
         "Integral",
         "Data Scientist",
         "98348",
         "USD",
         "98348",
         "US",
         "Presencial",
         "US",
         "Media"
        ],
        [
         "33",
         "2025",
         "Pleno",
         "Integral",
         "Data Scientist",
         "88651",
         "USD",
         "88651",
         "US",
         "Presencial",
         "US",
         "Media"
        ],
        [
         "34",
         "2025",
         "Junior",
         "Integral",
         "Data Scientist",
         "122058",
         "USD",
         "122058",
         "AU",
         "Presencial",
         "AU",
         "Media"
        ],
        [
         "35",
         "2025",
         "Junior",
         "Integral",
         "Data Scientist",
         "110266",
         "USD",
         "110266",
         "AU",
         "Presencial",
         "AU",
         "Media"
        ],
        [
         "36",
         "2025",
         "Senior",
         "Integral",
         "Data Scientist",
         "160000",
         "USD",
         "160000",
         "US",
         "Presencial",
         "US",
         "Media"
        ],
        [
         "37",
         "2025",
         "Senior",
         "Integral",
         "Data Scientist",
         "100000",
         "USD",
         "100000",
         "US",
         "Presencial",
         "US",
         "Media"
        ],
        [
         "38",
         "2025",
         "Senior",
         "Integral",
         "Data Scientist",
         "199100",
         "USD",
         "199100",
         "JP",
         "Presencial",
         "JP",
         "Media"
        ],
        [
         "39",
         "2025",
         "Senior",
         "Integral",
         "Data Scientist",
         "94800",
         "USD",
         "94800",
         "JP",
         "Presencial",
         "JP",
         "Media"
        ],
        [
         "40",
         "2025",
         "Senior",
         "Integral",
         "Data Scientist",
         "170000",
         "USD",
         "170000",
         "US",
         "Presencial",
         "US",
         "Media"
        ],
        [
         "41",
         "2025",
         "Senior",
         "Integral",
         "Data Scientist",
         "130000",
         "USD",
         "130000",
         "US",
         "Presencial",
         "US",
         "Media"
        ],
        [
         "42",
         "2025",
         "Senior",
         "Integral",
         "Data Scientist",
         "150000",
         "USD",
         "150000",
         "US",
         "Presencial",
         "US",
         "Media"
        ],
        [
         "43",
         "2025",
         "Senior",
         "Integral",
         "Data Scientist",
         "114000",
         "USD",
         "114000",
         "US",
         "Presencial",
         "US",
         "Media"
        ],
        [
         "44",
         "2025",
         "Pleno",
         "Integral",
         "Data Scientist",
         "54785",
         "GBP",
         "69348",
         "GB",
         "Presencial",
         "GB",
         "Media"
        ],
        [
         "45",
         "2025",
         "Pleno",
         "Integral",
         "Data Scientist",
         "42180",
         "GBP",
         "53392",
         "GB",
         "Presencial",
         "GB",
         "Media"
        ],
        [
         "46",
         "2025",
         "Senior",
         "Integral",
         "Data Scientist",
         "104000",
         "USD",
         "104000",
         "US",
         "Presencial",
         "US",
         "Media"
        ],
        [
         "47",
         "2025",
         "Senior",
         "Integral",
         "Data Scientist",
         "72800",
         "USD",
         "72800",
         "US",
         "Presencial",
         "US",
         "Media"
        ],
        [
         "48",
         "2025",
         "Senior",
         "Integral",
         "Data Scientist",
         "55114",
         "GBP",
         "69764",
         "GB",
         "Presencial",
         "GB",
         "Media"
        ],
        [
         "49",
         "2025",
         "Senior",
         "Integral",
         "Data Scientist",
         "40736",
         "GBP",
         "51564",
         "GB",
         "Presencial",
         "GB",
         "Media"
        ]
       ],
       "shape": {
        "columns": 11,
        "rows": 133339
       }
      },
      "text/html": [
       "<div>\n",
       "<style scoped>\n",
       "    .dataframe tbody tr th:only-of-type {\n",
       "        vertical-align: middle;\n",
       "    }\n",
       "\n",
       "    .dataframe tbody tr th {\n",
       "        vertical-align: top;\n",
       "    }\n",
       "\n",
       "    .dataframe thead th {\n",
       "        text-align: right;\n",
       "    }\n",
       "</style>\n",
       "<table border=\"1\" class=\"dataframe\">\n",
       "  <thead>\n",
       "    <tr style=\"text-align: right;\">\n",
       "      <th></th>\n",
       "      <th>ano</th>\n",
       "      <th>senioridade</th>\n",
       "      <th>contrato</th>\n",
       "      <th>cargo</th>\n",
       "      <th>salario</th>\n",
       "      <th>moeda</th>\n",
       "      <th>usd</th>\n",
       "      <th>residencia</th>\n",
       "      <th>remoto</th>\n",
       "      <th>empresa</th>\n",
       "      <th>porte_empresa</th>\n",
       "    </tr>\n",
       "  </thead>\n",
       "  <tbody>\n",
       "    <tr>\n",
       "      <th>0</th>\n",
       "      <td>2025</td>\n",
       "      <td>Senior</td>\n",
       "      <td>Integral</td>\n",
       "      <td>Data Scientist</td>\n",
       "      <td>214000</td>\n",
       "      <td>USD</td>\n",
       "      <td>214000</td>\n",
       "      <td>US</td>\n",
       "      <td>Remto</td>\n",
       "      <td>US</td>\n",
       "      <td>Media</td>\n",
       "    </tr>\n",
       "    <tr>\n",
       "      <th>1</th>\n",
       "      <td>2025</td>\n",
       "      <td>Senior</td>\n",
       "      <td>Integral</td>\n",
       "      <td>Data Scientist</td>\n",
       "      <td>136000</td>\n",
       "      <td>USD</td>\n",
       "      <td>136000</td>\n",
       "      <td>US</td>\n",
       "      <td>Remto</td>\n",
       "      <td>US</td>\n",
       "      <td>Media</td>\n",
       "    </tr>\n",
       "    <tr>\n",
       "      <th>2</th>\n",
       "      <td>2025</td>\n",
       "      <td>Pleno</td>\n",
       "      <td>Integral</td>\n",
       "      <td>Data Scientist</td>\n",
       "      <td>158800</td>\n",
       "      <td>USD</td>\n",
       "      <td>158800</td>\n",
       "      <td>AU</td>\n",
       "      <td>Presencial</td>\n",
       "      <td>AU</td>\n",
       "      <td>Media</td>\n",
       "    </tr>\n",
       "    <tr>\n",
       "      <th>3</th>\n",
       "      <td>2025</td>\n",
       "      <td>Pleno</td>\n",
       "      <td>Integral</td>\n",
       "      <td>Data Scientist</td>\n",
       "      <td>139200</td>\n",
       "      <td>USD</td>\n",
       "      <td>139200</td>\n",
       "      <td>AU</td>\n",
       "      <td>Presencial</td>\n",
       "      <td>AU</td>\n",
       "      <td>Media</td>\n",
       "    </tr>\n",
       "    <tr>\n",
       "      <th>4</th>\n",
       "      <td>2025</td>\n",
       "      <td>Junior</td>\n",
       "      <td>Integral</td>\n",
       "      <td>Data Scientist</td>\n",
       "      <td>90000</td>\n",
       "      <td>USD</td>\n",
       "      <td>90000</td>\n",
       "      <td>US</td>\n",
       "      <td>Presencial</td>\n",
       "      <td>US</td>\n",
       "      <td>Media</td>\n",
       "    </tr>\n",
       "    <tr>\n",
       "      <th>...</th>\n",
       "      <td>...</td>\n",
       "      <td>...</td>\n",
       "      <td>...</td>\n",
       "      <td>...</td>\n",
       "      <td>...</td>\n",
       "      <td>...</td>\n",
       "      <td>...</td>\n",
       "      <td>...</td>\n",
       "      <td>...</td>\n",
       "      <td>...</td>\n",
       "      <td>...</td>\n",
       "    </tr>\n",
       "    <tr>\n",
       "      <th>133344</th>\n",
       "      <td>2020</td>\n",
       "      <td>Senior</td>\n",
       "      <td>Integral</td>\n",
       "      <td>Data Scientist</td>\n",
       "      <td>412000</td>\n",
       "      <td>USD</td>\n",
       "      <td>412000</td>\n",
       "      <td>US</td>\n",
       "      <td>Remto</td>\n",
       "      <td>US</td>\n",
       "      <td>Grande</td>\n",
       "    </tr>\n",
       "    <tr>\n",
       "      <th>133345</th>\n",
       "      <td>2021</td>\n",
       "      <td>Pleno</td>\n",
       "      <td>Integral</td>\n",
       "      <td>Data Scientist</td>\n",
       "      <td>151000</td>\n",
       "      <td>USD</td>\n",
       "      <td>151000</td>\n",
       "      <td>US</td>\n",
       "      <td>Remto</td>\n",
       "      <td>US</td>\n",
       "      <td>Grande</td>\n",
       "    </tr>\n",
       "    <tr>\n",
       "      <th>133346</th>\n",
       "      <td>2020</td>\n",
       "      <td>Junior</td>\n",
       "      <td>Integral</td>\n",
       "      <td>Data Scientist</td>\n",
       "      <td>105000</td>\n",
       "      <td>USD</td>\n",
       "      <td>105000</td>\n",
       "      <td>US</td>\n",
       "      <td>Remto</td>\n",
       "      <td>US</td>\n",
       "      <td>Pequena</td>\n",
       "    </tr>\n",
       "    <tr>\n",
       "      <th>133347</th>\n",
       "      <td>2020</td>\n",
       "      <td>Junior</td>\n",
       "      <td>Contrato</td>\n",
       "      <td>Data Scientist</td>\n",
       "      <td>100000</td>\n",
       "      <td>USD</td>\n",
       "      <td>100000</td>\n",
       "      <td>US</td>\n",
       "      <td>Remto</td>\n",
       "      <td>US</td>\n",
       "      <td>Grande</td>\n",
       "    </tr>\n",
       "    <tr>\n",
       "      <th>133348</th>\n",
       "      <td>2021</td>\n",
       "      <td>Senior</td>\n",
       "      <td>Integral</td>\n",
       "      <td>Data Scientist</td>\n",
       "      <td>7000000</td>\n",
       "      <td>INR</td>\n",
       "      <td>94665</td>\n",
       "      <td>IN</td>\n",
       "      <td>Hibrido</td>\n",
       "      <td>IN</td>\n",
       "      <td>Grande</td>\n",
       "    </tr>\n",
       "  </tbody>\n",
       "</table>\n",
       "<p>133339 rows × 11 columns</p>\n",
       "</div>"
      ],
      "text/plain": [
       "         ano senioridade  contrato           cargo  salario moeda     usd  \\\n",
       "0       2025      Senior  Integral  Data Scientist   214000   USD  214000   \n",
       "1       2025      Senior  Integral  Data Scientist   136000   USD  136000   \n",
       "2       2025       Pleno  Integral  Data Scientist   158800   USD  158800   \n",
       "3       2025       Pleno  Integral  Data Scientist   139200   USD  139200   \n",
       "4       2025      Junior  Integral  Data Scientist    90000   USD   90000   \n",
       "...      ...         ...       ...             ...      ...   ...     ...   \n",
       "133344  2020      Senior  Integral  Data Scientist   412000   USD  412000   \n",
       "133345  2021       Pleno  Integral  Data Scientist   151000   USD  151000   \n",
       "133346  2020      Junior  Integral  Data Scientist   105000   USD  105000   \n",
       "133347  2020      Junior  Contrato  Data Scientist   100000   USD  100000   \n",
       "133348  2021      Senior  Integral  Data Scientist  7000000   INR   94665   \n",
       "\n",
       "       residencia      remoto empresa porte_empresa  \n",
       "0              US       Remto      US         Media  \n",
       "1              US       Remto      US         Media  \n",
       "2              AU  Presencial      AU         Media  \n",
       "3              AU  Presencial      AU         Media  \n",
       "4              US  Presencial      US         Media  \n",
       "...           ...         ...     ...           ...  \n",
       "133344         US       Remto      US        Grande  \n",
       "133345         US       Remto      US        Grande  \n",
       "133346         US       Remto      US       Pequena  \n",
       "133347         US       Remto      US        Grande  \n",
       "133348         IN     Hibrido      IN        Grande  \n",
       "\n",
       "[133339 rows x 11 columns]"
      ]
     },
     "execution_count": 32,
     "metadata": {},
     "output_type": "execute_result"
    }
   ],
   "source": [
    "dflimpo"
   ]
  },
  {
   "cell_type": "code",
   "execution_count": 40,
   "id": "cff459f7",
   "metadata": {},
   "outputs": [
    {
     "data": {
      "application/vnd.microsoft.datawrangler.viewer.v0+json": {
       "columns": [
        {
         "name": "index",
         "rawType": "int64",
         "type": "integer"
        },
        {
         "name": "residencia",
         "rawType": "object",
         "type": "string"
        },
        {
         "name": "usd",
         "rawType": "float64",
         "type": "float"
        }
       ],
       "ref": "f69c1b8f-4804-4b8e-8d24-cf4d470eb9a8",
       "rows": [
        [
         "0",
         "AD",
         "50745.0"
        ],
        [
         "1",
         "AE",
         "88333.33333333333"
        ],
        [
         "2",
         "AM",
         "45453.2"
        ],
        [
         "3",
         "AR",
         "78856.64102564103"
        ],
        [
         "4",
         "AS",
         "45555.0"
        ],
        [
         "5",
         "AT",
         "60311.9595959596"
        ],
        [
         "6",
         "AU",
         "129563.99419729206"
        ],
        [
         "7",
         "BA",
         "75000.0"
        ],
        [
         "8",
         "BE",
         "108607.3"
        ],
        [
         "9",
         "BG",
         "107499.83333333333"
        ],
        [
         "10",
         "BM",
         "100000.0"
        ],
        [
         "11",
         "BO",
         "75000.0"
        ],
        [
         "12",
         "BR",
         "67156.94897959183"
        ],
        [
         "13",
         "CA",
         "129880.19282168767"
        ],
        [
         "14",
         "CD",
         "275000.0"
        ],
        [
         "15",
         "CF",
         "49216.0"
        ],
        [
         "16",
         "CH",
         "115530.07407407407"
        ],
        [
         "17",
         "CL",
         "63160.28571428572"
        ],
        [
         "18",
         "CN",
         "125404.0"
        ],
        [
         "19",
         "CO",
         "62673.26829268293"
        ],
        [
         "20",
         "CR",
         "40571.42857142857"
        ],
        [
         "21",
         "CY",
         "50238.6"
        ],
        [
         "22",
         "CZ",
         "154895.83333333334"
        ],
        [
         "23",
         "DE",
         "103937.671875"
        ],
        [
         "24",
         "DK",
         "78534.77777777778"
        ],
        [
         "25",
         "DO",
         "39500.0"
        ],
        [
         "26",
         "DZ",
         "48070.0"
        ],
        [
         "27",
         "EC",
         "24666.666666666668"
        ],
        [
         "28",
         "EE",
         "49510.23529411765"
        ],
        [
         "29",
         "EG",
         "117226.2"
        ],
        [
         "30",
         "ES",
         "65100.41509433962"
        ],
        [
         "31",
         "FI",
         "68946.0"
        ],
        [
         "32",
         "FR",
         "71302.76964769648"
        ],
        [
         "33",
         "GB",
         "96284.74211802748"
        ],
        [
         "34",
         "GE",
         "53500.0"
        ],
        [
         "35",
         "GH",
         "34250.0"
        ],
        [
         "36",
         "GR",
         "54408.793103448275"
        ],
        [
         "37",
         "HK",
         "125048.16666666667"
        ],
        [
         "38",
         "HN",
         "59333.333333333336"
        ],
        [
         "39",
         "HR",
         "72410.375"
        ],
        [
         "40",
         "HU",
         "24816.4"
        ],
        [
         "41",
         "ID",
         "62358.0"
        ],
        [
         "42",
         "IE",
         "111942.44852941176"
        ],
        [
         "43",
         "IL",
         "147321.73333333334"
        ],
        [
         "44",
         "IN",
         "55818.47881355932"
        ],
        [
         "45",
         "IQ",
         "100000.0"
        ],
        [
         "46",
         "IR",
         "100000.0"
        ],
        [
         "47",
         "IT",
         "80593.27777777778"
        ],
        [
         "48",
         "JE",
         "100000.0"
        ],
        [
         "49",
         "JM",
         "39398.0"
        ]
       ],
       "shape": {
        "columns": 2,
        "rows": 102
       }
      },
      "text/html": [
       "<div>\n",
       "<style scoped>\n",
       "    .dataframe tbody tr th:only-of-type {\n",
       "        vertical-align: middle;\n",
       "    }\n",
       "\n",
       "    .dataframe tbody tr th {\n",
       "        vertical-align: top;\n",
       "    }\n",
       "\n",
       "    .dataframe thead th {\n",
       "        text-align: right;\n",
       "    }\n",
       "</style>\n",
       "<table border=\"1\" class=\"dataframe\">\n",
       "  <thead>\n",
       "    <tr style=\"text-align: right;\">\n",
       "      <th></th>\n",
       "      <th>residencia</th>\n",
       "      <th>usd</th>\n",
       "    </tr>\n",
       "  </thead>\n",
       "  <tbody>\n",
       "    <tr>\n",
       "      <th>0</th>\n",
       "      <td>AD</td>\n",
       "      <td>50745.000000</td>\n",
       "    </tr>\n",
       "    <tr>\n",
       "      <th>1</th>\n",
       "      <td>AE</td>\n",
       "      <td>88333.333333</td>\n",
       "    </tr>\n",
       "    <tr>\n",
       "      <th>2</th>\n",
       "      <td>AM</td>\n",
       "      <td>45453.200000</td>\n",
       "    </tr>\n",
       "    <tr>\n",
       "      <th>3</th>\n",
       "      <td>AR</td>\n",
       "      <td>78856.641026</td>\n",
       "    </tr>\n",
       "    <tr>\n",
       "      <th>4</th>\n",
       "      <td>AS</td>\n",
       "      <td>45555.000000</td>\n",
       "    </tr>\n",
       "    <tr>\n",
       "      <th>...</th>\n",
       "      <td>...</td>\n",
       "      <td>...</td>\n",
       "    </tr>\n",
       "    <tr>\n",
       "      <th>97</th>\n",
       "      <td>VE</td>\n",
       "      <td>192500.000000</td>\n",
       "    </tr>\n",
       "    <tr>\n",
       "      <th>98</th>\n",
       "      <td>VN</td>\n",
       "      <td>57200.000000</td>\n",
       "    </tr>\n",
       "    <tr>\n",
       "      <th>99</th>\n",
       "      <td>XK</td>\n",
       "      <td>41052.000000</td>\n",
       "    </tr>\n",
       "    <tr>\n",
       "      <th>100</th>\n",
       "      <td>ZA</td>\n",
       "      <td>65204.641791</td>\n",
       "    </tr>\n",
       "    <tr>\n",
       "      <th>101</th>\n",
       "      <td>ZM</td>\n",
       "      <td>60000.000000</td>\n",
       "    </tr>\n",
       "  </tbody>\n",
       "</table>\n",
       "<p>102 rows × 2 columns</p>\n",
       "</div>"
      ],
      "text/plain": [
       "    residencia            usd\n",
       "0           AD   50745.000000\n",
       "1           AE   88333.333333\n",
       "2           AM   45453.200000\n",
       "3           AR   78856.641026\n",
       "4           AS   45555.000000\n",
       "..         ...            ...\n",
       "97          VE  192500.000000\n",
       "98          VN   57200.000000\n",
       "99          XK   41052.000000\n",
       "100         ZA   65204.641791\n",
       "101         ZM   60000.000000\n",
       "\n",
       "[102 rows x 2 columns]"
      ]
     },
     "execution_count": 40,
     "metadata": {},
     "output_type": "execute_result"
    }
   ],
   "source": [
    "dfcientista = dflimpo[dflimpo['cargo'] == 'Data Scientist']\n",
    "dfmedia = dfcientista.groupby('residencia')['usd'].mean().reset_index()\n",
    "dfmedia"
   ]
  },
  {
   "cell_type": "code",
   "execution_count": 52,
   "id": "57454c6e",
   "metadata": {},
   "outputs": [
    {
     "data": {
      "text/plain": [
       "['AD',\n",
       " 'AE',\n",
       " 'AM',\n",
       " 'AR',\n",
       " 'AS',\n",
       " 'AT',\n",
       " 'AU',\n",
       " 'BA',\n",
       " 'BE',\n",
       " 'BG',\n",
       " 'BM',\n",
       " 'BO',\n",
       " 'BR',\n",
       " 'CA',\n",
       " 'CD',\n",
       " 'CF',\n",
       " 'CH',\n",
       " 'CL',\n",
       " 'CN',\n",
       " 'CO',\n",
       " 'CR',\n",
       " 'CY',\n",
       " 'CZ',\n",
       " 'DE',\n",
       " 'DK',\n",
       " 'DO',\n",
       " 'DZ',\n",
       " 'EC',\n",
       " 'EE',\n",
       " 'EG',\n",
       " 'ES',\n",
       " 'FI',\n",
       " 'FR',\n",
       " 'GB',\n",
       " 'GE',\n",
       " 'GH',\n",
       " 'GR',\n",
       " 'HK',\n",
       " 'HN',\n",
       " 'HR',\n",
       " 'HU',\n",
       " 'ID',\n",
       " 'IE',\n",
       " 'IL',\n",
       " 'IN',\n",
       " 'IQ',\n",
       " 'IR',\n",
       " 'IT',\n",
       " 'JE',\n",
       " 'JM',\n",
       " 'JO',\n",
       " 'JP',\n",
       " 'KE',\n",
       " 'KR',\n",
       " 'KW',\n",
       " 'LB',\n",
       " 'LS',\n",
       " 'LT',\n",
       " 'LU',\n",
       " 'LV',\n",
       " 'MD',\n",
       " 'MK',\n",
       " 'MT',\n",
       " 'MU',\n",
       " 'MX',\n",
       " 'MY',\n",
       " 'NG',\n",
       " 'NL',\n",
       " 'NO',\n",
       " 'NZ',\n",
       " 'OM',\n",
       " 'PA',\n",
       " 'PE',\n",
       " 'PH',\n",
       " 'PK',\n",
       " 'PL',\n",
       " 'PR',\n",
       " 'PT',\n",
       " 'QA',\n",
       " 'RO',\n",
       " 'RS',\n",
       " 'RU',\n",
       " 'RW',\n",
       " 'SA',\n",
       " 'SE',\n",
       " 'SG',\n",
       " 'SI',\n",
       " 'SK',\n",
       " 'SV',\n",
       " 'TH',\n",
       " 'TN',\n",
       " 'TR',\n",
       " 'TW',\n",
       " 'UA',\n",
       " 'UG',\n",
       " 'US',\n",
       " 'UZ',\n",
       " 'VE',\n",
       " 'VN',\n",
       " 'XK',\n",
       " 'ZA',\n",
       " 'ZM']"
      ]
     },
     "execution_count": 52,
     "metadata": {},
     "output_type": "execute_result"
    }
   ],
   "source": [
    "paises = dfmedia['residencia'].unique().tolist()\n",
    "paises"
   ]
  },
  {
   "cell_type": "code",
   "execution_count": 60,
   "id": "b8feea58",
   "metadata": {},
   "outputs": [
    {
     "name": "stdout",
     "output_type": "stream",
     "text": [
      "Dicionário de conversão ISO-2 para ISO-3:\n"
     ]
    },
    {
     "data": {
      "application/vnd.microsoft.datawrangler.viewer.v0+json": {
       "columns": [
        {
         "name": "index",
         "rawType": "int64",
         "type": "integer"
        },
        {
         "name": "residencia",
         "rawType": "object",
         "type": "string"
        },
        {
         "name": "usd",
         "rawType": "float64",
         "type": "float"
        },
        {
         "name": "iso_alpha3",
         "rawType": "object",
         "type": "unknown"
        }
       ],
       "ref": "f6c0d967-f85f-4b75-80b0-e75f9a9a6866",
       "rows": [
        [
         "0",
         "AD",
         "50745.0",
         "AND"
        ],
        [
         "1",
         "AE",
         "88333.33333333333",
         "ARE"
        ],
        [
         "2",
         "AM",
         "45453.2",
         "ARM"
        ],
        [
         "3",
         "AR",
         "78856.64102564103",
         "ARG"
        ],
        [
         "4",
         "AS",
         "45555.0",
         "ASM"
        ],
        [
         "5",
         "AT",
         "60311.9595959596",
         "AUT"
        ],
        [
         "6",
         "AU",
         "129563.99419729206",
         "AUS"
        ],
        [
         "7",
         "BA",
         "75000.0",
         "BIH"
        ],
        [
         "8",
         "BE",
         "108607.3",
         "BEL"
        ],
        [
         "9",
         "BG",
         "107499.83333333333",
         "BGR"
        ],
        [
         "10",
         "BM",
         "100000.0",
         "BMU"
        ],
        [
         "11",
         "BO",
         "75000.0",
         "BOL"
        ],
        [
         "12",
         "BR",
         "67156.94897959183",
         "BRA"
        ],
        [
         "13",
         "CA",
         "129880.19282168767",
         "CAN"
        ],
        [
         "14",
         "CD",
         "275000.0",
         "COD"
        ],
        [
         "15",
         "CF",
         "49216.0",
         "CAF"
        ],
        [
         "16",
         "CH",
         "115530.07407407407",
         "CHE"
        ],
        [
         "17",
         "CL",
         "63160.28571428572",
         "CHL"
        ],
        [
         "18",
         "CN",
         "125404.0",
         "CHN"
        ],
        [
         "19",
         "CO",
         "62673.26829268293",
         "COL"
        ],
        [
         "20",
         "CR",
         "40571.42857142857",
         "CRI"
        ],
        [
         "21",
         "CY",
         "50238.6",
         "CYP"
        ],
        [
         "22",
         "CZ",
         "154895.83333333334",
         "CZE"
        ],
        [
         "23",
         "DE",
         "103937.671875",
         "DEU"
        ],
        [
         "24",
         "DK",
         "78534.77777777778",
         "DNK"
        ],
        [
         "25",
         "DO",
         "39500.0",
         "DOM"
        ],
        [
         "26",
         "DZ",
         "48070.0",
         "DZA"
        ],
        [
         "27",
         "EC",
         "24666.666666666668",
         "ECU"
        ],
        [
         "28",
         "EE",
         "49510.23529411765",
         "EST"
        ],
        [
         "29",
         "EG",
         "117226.2",
         "EGY"
        ],
        [
         "30",
         "ES",
         "65100.41509433962",
         "ESP"
        ],
        [
         "31",
         "FI",
         "68946.0",
         "FIN"
        ],
        [
         "32",
         "FR",
         "71302.76964769648",
         "FRA"
        ],
        [
         "33",
         "GB",
         "96284.74211802748",
         "GBR"
        ],
        [
         "34",
         "GE",
         "53500.0",
         "GEO"
        ],
        [
         "35",
         "GH",
         "34250.0",
         "GHA"
        ],
        [
         "36",
         "GR",
         "54408.793103448275",
         "GRC"
        ],
        [
         "37",
         "HK",
         "125048.16666666667",
         "HKG"
        ],
        [
         "38",
         "HN",
         "59333.333333333336",
         "HND"
        ],
        [
         "39",
         "HR",
         "72410.375",
         "HRV"
        ],
        [
         "40",
         "HU",
         "24816.4",
         "HUN"
        ],
        [
         "41",
         "ID",
         "62358.0",
         "IDN"
        ],
        [
         "42",
         "IE",
         "111942.44852941176",
         "IRL"
        ],
        [
         "43",
         "IL",
         "147321.73333333334",
         "ISR"
        ],
        [
         "44",
         "IN",
         "55818.47881355932",
         "IND"
        ],
        [
         "45",
         "IQ",
         "100000.0",
         "IRQ"
        ],
        [
         "46",
         "IR",
         "100000.0",
         "IRN"
        ],
        [
         "47",
         "IT",
         "80593.27777777778",
         "ITA"
        ],
        [
         "48",
         "JE",
         "100000.0",
         "JEY"
        ],
        [
         "49",
         "JM",
         "39398.0",
         "JAM"
        ]
       ],
       "shape": {
        "columns": 3,
        "rows": 102
       }
      },
      "text/html": [
       "<div>\n",
       "<style scoped>\n",
       "    .dataframe tbody tr th:only-of-type {\n",
       "        vertical-align: middle;\n",
       "    }\n",
       "\n",
       "    .dataframe tbody tr th {\n",
       "        vertical-align: top;\n",
       "    }\n",
       "\n",
       "    .dataframe thead th {\n",
       "        text-align: right;\n",
       "    }\n",
       "</style>\n",
       "<table border=\"1\" class=\"dataframe\">\n",
       "  <thead>\n",
       "    <tr style=\"text-align: right;\">\n",
       "      <th></th>\n",
       "      <th>residencia</th>\n",
       "      <th>usd</th>\n",
       "      <th>iso_alpha3</th>\n",
       "    </tr>\n",
       "  </thead>\n",
       "  <tbody>\n",
       "    <tr>\n",
       "      <th>0</th>\n",
       "      <td>AD</td>\n",
       "      <td>50745.000000</td>\n",
       "      <td>AND</td>\n",
       "    </tr>\n",
       "    <tr>\n",
       "      <th>1</th>\n",
       "      <td>AE</td>\n",
       "      <td>88333.333333</td>\n",
       "      <td>ARE</td>\n",
       "    </tr>\n",
       "    <tr>\n",
       "      <th>2</th>\n",
       "      <td>AM</td>\n",
       "      <td>45453.200000</td>\n",
       "      <td>ARM</td>\n",
       "    </tr>\n",
       "    <tr>\n",
       "      <th>3</th>\n",
       "      <td>AR</td>\n",
       "      <td>78856.641026</td>\n",
       "      <td>ARG</td>\n",
       "    </tr>\n",
       "    <tr>\n",
       "      <th>4</th>\n",
       "      <td>AS</td>\n",
       "      <td>45555.000000</td>\n",
       "      <td>ASM</td>\n",
       "    </tr>\n",
       "    <tr>\n",
       "      <th>...</th>\n",
       "      <td>...</td>\n",
       "      <td>...</td>\n",
       "      <td>...</td>\n",
       "    </tr>\n",
       "    <tr>\n",
       "      <th>97</th>\n",
       "      <td>VE</td>\n",
       "      <td>192500.000000</td>\n",
       "      <td>VEN</td>\n",
       "    </tr>\n",
       "    <tr>\n",
       "      <th>98</th>\n",
       "      <td>VN</td>\n",
       "      <td>57200.000000</td>\n",
       "      <td>VNM</td>\n",
       "    </tr>\n",
       "    <tr>\n",
       "      <th>99</th>\n",
       "      <td>XK</td>\n",
       "      <td>41052.000000</td>\n",
       "      <td>NaN</td>\n",
       "    </tr>\n",
       "    <tr>\n",
       "      <th>100</th>\n",
       "      <td>ZA</td>\n",
       "      <td>65204.641791</td>\n",
       "      <td>ZAF</td>\n",
       "    </tr>\n",
       "    <tr>\n",
       "      <th>101</th>\n",
       "      <td>ZM</td>\n",
       "      <td>60000.000000</td>\n",
       "      <td>ZMB</td>\n",
       "    </tr>\n",
       "  </tbody>\n",
       "</table>\n",
       "<p>102 rows × 3 columns</p>\n",
       "</div>"
      ],
      "text/plain": [
       "    residencia            usd iso_alpha3\n",
       "0           AD   50745.000000        AND\n",
       "1           AE   88333.333333        ARE\n",
       "2           AM   45453.200000        ARM\n",
       "3           AR   78856.641026        ARG\n",
       "4           AS   45555.000000        ASM\n",
       "..         ...            ...        ...\n",
       "97          VE  192500.000000        VEN\n",
       "98          VN   57200.000000        VNM\n",
       "99          XK   41052.000000        NaN\n",
       "100         ZA   65204.641791        ZAF\n",
       "101         ZM   60000.000000        ZMB\n",
       "\n",
       "[102 rows x 3 columns]"
      ]
     },
     "execution_count": 60,
     "metadata": {},
     "output_type": "execute_result"
    }
   ],
   "source": [
    "import pycountry\n",
    "\n",
    "# Sua lista de países (use a lista real que você obteve)\n",
    "paises = dfmedia['residencia'].unique().tolist()\n",
    "paises\n",
    "\n",
    "# Dicionário para armazenar a conversão\n",
    "iso3_dict = {}\n",
    "\n",
    "for iso2_code in paises:\n",
    "    try:\n",
    "        # Busca o país pelo código ISO-A2\n",
    "        pais = pycountry.countries.get(alpha_2=iso2_code)\n",
    "        if pais:\n",
    "            # Adiciona a conversão ao dicionário\n",
    "            iso3_dict[iso2_code] = pais.alpha_3\n",
    "    except KeyError:\n",
    "        print(f\"Aviso: Não foi possível encontrar o código ISO-3 para '{iso2_code}'.\")\n",
    "dfmedia['iso_alpha3'] = dfmedia['residencia'].map(iso3_dict)\n",
    "\n",
    "print(\"Dicionário de conversão ISO-2 para ISO-3:\")\n",
    "dfmedia"
   ]
  },
  {
   "cell_type": "code",
   "execution_count": 61,
   "id": "cdf527bd",
   "metadata": {},
   "outputs": [
    {
     "data": {
      "application/vnd.plotly.v1+json": {
       "config": {
        "plotlyServerURL": "https://plot.ly"
       },
       "data": [
        {
         "coloraxis": "coloraxis",
         "geo": "geo",
         "hovertemplate": "iso_alpha3=%{location}<br>usd=%{z}<extra></extra>",
         "locations": [
          "AND",
          "ARE",
          "ARM",
          "ARG",
          "ASM",
          "AUT",
          "AUS",
          "BIH",
          "BEL",
          "BGR",
          "BMU",
          "BOL",
          "BRA",
          "CAN",
          "COD",
          "CAF",
          "CHE",
          "CHL",
          "CHN",
          "COL",
          "CRI",
          "CYP",
          "CZE",
          "DEU",
          "DNK",
          "DOM",
          "DZA",
          "ECU",
          "EST",
          "EGY",
          "ESP",
          "FIN",
          "FRA",
          "GBR",
          "GEO",
          "GHA",
          "GRC",
          "HKG",
          "HND",
          "HRV",
          "HUN",
          "IDN",
          "IRL",
          "ISR",
          "IND",
          "IRQ",
          "IRN",
          "ITA",
          "JEY",
          "JAM",
          "JOR",
          "JPN",
          "KEN",
          "KOR",
          "KWT",
          "LBN",
          "LSO",
          "LTU",
          "LUX",
          "LVA",
          "MDA",
          "MKD",
          "MLT",
          "MUS",
          "MEX",
          "MYS",
          "NGA",
          "NLD",
          "NOR",
          "NZL",
          "OMN",
          "PAN",
          "PER",
          "PHL",
          "PAK",
          "POL",
          "PRI",
          "PRT",
          "QAT",
          "ROU",
          "SRB",
          "RUS",
          "RWA",
          "SAU",
          "SWE",
          "SGP",
          "SVN",
          "SVK",
          "SLV",
          "THA",
          "TUN",
          "TUR",
          "TWN",
          "UKR",
          "UGA",
          "USA",
          "UZB",
          "VEN",
          "VNM",
          null,
          "ZAF",
          "ZMB"
         ],
         "name": "",
         "type": "choropleth",
         "z": [
          50745,
          88333.33333333333,
          45453.2,
          78856.64102564103,
          45555,
          60311.9595959596,
          129563.99419729206,
          75000,
          108607.3,
          107499.83333333333,
          100000,
          75000,
          67156.94897959183,
          129880.19282168767,
          275000,
          49216,
          115530.07407407407,
          63160.28571428572,
          125404,
          62673.26829268293,
          40571.42857142857,
          50238.6,
          154895.83333333334,
          103937.671875,
          78534.77777777778,
          39500,
          48070,
          24666.666666666668,
          49510.23529411765,
          117226.2,
          65100.41509433962,
          68946,
          71302.76964769648,
          96284.74211802748,
          53500,
          34250,
          54408.793103448275,
          125048.16666666667,
          59333.333333333336,
          72410.375,
          24816.4,
          62358,
          111942.44852941176,
          147321.73333333334,
          55818.47881355932,
          100000,
          100000,
          80593.27777777778,
          100000,
          39398,
          45000,
          94509.30303030302,
          61285.71428571428,
          88477.66666666667,
          50000,
          128833.33333333333,
          75657.5,
          59804.05325443787,
          74538,
          45788.254385964916,
          66500,
          61092,
          76227.58823529411,
          100000,
          86918.51,
          112820.66666666667,
          55642.857142857145,
          77663.68811881189,
          75402.44444444444,
          118071.92424242424,
          46848,
          89976,
          56040,
          34345.9552238806,
          43031,
          76603.87837837837,
          134400,
          60655.07692307692,
          300000,
          42696.27272727273,
          69150,
          79242.5,
          80000,
          139999.33333333334,
          101471.58333333333,
          122322.07692307692,
          56170.88888888889,
          34497.00515463918,
          26400,
          32228.5,
          90234.5,
          65939.79310344828,
          27920.058823529413,
          107109.88888888889,
          36000,
          163881.38374368582,
          82000,
          192500,
          57200,
          41052,
          65204.64179104478,
          60000
         ]
        }
       ],
       "layout": {
        "coloraxis": {
         "colorbar": {
          "title": {
           "text": "usd"
          }
         },
         "colorscale": [
          [
           0,
           "#0d0887"
          ],
          [
           0.1111111111111111,
           "#46039f"
          ],
          [
           0.2222222222222222,
           "#7201a8"
          ],
          [
           0.3333333333333333,
           "#9c179e"
          ],
          [
           0.4444444444444444,
           "#bd3786"
          ],
          [
           0.5555555555555556,
           "#d8576b"
          ],
          [
           0.6666666666666666,
           "#ed7953"
          ],
          [
           0.7777777777777778,
           "#fb9f3a"
          ],
          [
           0.8888888888888888,
           "#fdca26"
          ],
          [
           1,
           "#f0f921"
          ]
         ]
        },
        "geo": {
         "center": {},
         "domain": {
          "x": [
           0,
           1
          ],
          "y": [
           0,
           1
          ]
         },
         "scope": "world"
        },
        "legend": {
         "tracegroupgap": 0
        },
        "template": {
         "data": {
          "bar": [
           {
            "error_x": {
             "color": "#2a3f5f"
            },
            "error_y": {
             "color": "#2a3f5f"
            },
            "marker": {
             "line": {
              "color": "#E5ECF6",
              "width": 0.5
             },
             "pattern": {
              "fillmode": "overlay",
              "size": 10,
              "solidity": 0.2
             }
            },
            "type": "bar"
           }
          ],
          "barpolar": [
           {
            "marker": {
             "line": {
              "color": "#E5ECF6",
              "width": 0.5
             },
             "pattern": {
              "fillmode": "overlay",
              "size": 10,
              "solidity": 0.2
             }
            },
            "type": "barpolar"
           }
          ],
          "carpet": [
           {
            "aaxis": {
             "endlinecolor": "#2a3f5f",
             "gridcolor": "white",
             "linecolor": "white",
             "minorgridcolor": "white",
             "startlinecolor": "#2a3f5f"
            },
            "baxis": {
             "endlinecolor": "#2a3f5f",
             "gridcolor": "white",
             "linecolor": "white",
             "minorgridcolor": "white",
             "startlinecolor": "#2a3f5f"
            },
            "type": "carpet"
           }
          ],
          "choropleth": [
           {
            "colorbar": {
             "outlinewidth": 0,
             "ticks": ""
            },
            "type": "choropleth"
           }
          ],
          "contour": [
           {
            "colorbar": {
             "outlinewidth": 0,
             "ticks": ""
            },
            "colorscale": [
             [
              0,
              "#0d0887"
             ],
             [
              0.1111111111111111,
              "#46039f"
             ],
             [
              0.2222222222222222,
              "#7201a8"
             ],
             [
              0.3333333333333333,
              "#9c179e"
             ],
             [
              0.4444444444444444,
              "#bd3786"
             ],
             [
              0.5555555555555556,
              "#d8576b"
             ],
             [
              0.6666666666666666,
              "#ed7953"
             ],
             [
              0.7777777777777778,
              "#fb9f3a"
             ],
             [
              0.8888888888888888,
              "#fdca26"
             ],
             [
              1,
              "#f0f921"
             ]
            ],
            "type": "contour"
           }
          ],
          "contourcarpet": [
           {
            "colorbar": {
             "outlinewidth": 0,
             "ticks": ""
            },
            "type": "contourcarpet"
           }
          ],
          "heatmap": [
           {
            "colorbar": {
             "outlinewidth": 0,
             "ticks": ""
            },
            "colorscale": [
             [
              0,
              "#0d0887"
             ],
             [
              0.1111111111111111,
              "#46039f"
             ],
             [
              0.2222222222222222,
              "#7201a8"
             ],
             [
              0.3333333333333333,
              "#9c179e"
             ],
             [
              0.4444444444444444,
              "#bd3786"
             ],
             [
              0.5555555555555556,
              "#d8576b"
             ],
             [
              0.6666666666666666,
              "#ed7953"
             ],
             [
              0.7777777777777778,
              "#fb9f3a"
             ],
             [
              0.8888888888888888,
              "#fdca26"
             ],
             [
              1,
              "#f0f921"
             ]
            ],
            "type": "heatmap"
           }
          ],
          "heatmapgl": [
           {
            "colorbar": {
             "outlinewidth": 0,
             "ticks": ""
            },
            "colorscale": [
             [
              0,
              "#0d0887"
             ],
             [
              0.1111111111111111,
              "#46039f"
             ],
             [
              0.2222222222222222,
              "#7201a8"
             ],
             [
              0.3333333333333333,
              "#9c179e"
             ],
             [
              0.4444444444444444,
              "#bd3786"
             ],
             [
              0.5555555555555556,
              "#d8576b"
             ],
             [
              0.6666666666666666,
              "#ed7953"
             ],
             [
              0.7777777777777778,
              "#fb9f3a"
             ],
             [
              0.8888888888888888,
              "#fdca26"
             ],
             [
              1,
              "#f0f921"
             ]
            ],
            "type": "heatmapgl"
           }
          ],
          "histogram": [
           {
            "marker": {
             "pattern": {
              "fillmode": "overlay",
              "size": 10,
              "solidity": 0.2
             }
            },
            "type": "histogram"
           }
          ],
          "histogram2d": [
           {
            "colorbar": {
             "outlinewidth": 0,
             "ticks": ""
            },
            "colorscale": [
             [
              0,
              "#0d0887"
             ],
             [
              0.1111111111111111,
              "#46039f"
             ],
             [
              0.2222222222222222,
              "#7201a8"
             ],
             [
              0.3333333333333333,
              "#9c179e"
             ],
             [
              0.4444444444444444,
              "#bd3786"
             ],
             [
              0.5555555555555556,
              "#d8576b"
             ],
             [
              0.6666666666666666,
              "#ed7953"
             ],
             [
              0.7777777777777778,
              "#fb9f3a"
             ],
             [
              0.8888888888888888,
              "#fdca26"
             ],
             [
              1,
              "#f0f921"
             ]
            ],
            "type": "histogram2d"
           }
          ],
          "histogram2dcontour": [
           {
            "colorbar": {
             "outlinewidth": 0,
             "ticks": ""
            },
            "colorscale": [
             [
              0,
              "#0d0887"
             ],
             [
              0.1111111111111111,
              "#46039f"
             ],
             [
              0.2222222222222222,
              "#7201a8"
             ],
             [
              0.3333333333333333,
              "#9c179e"
             ],
             [
              0.4444444444444444,
              "#bd3786"
             ],
             [
              0.5555555555555556,
              "#d8576b"
             ],
             [
              0.6666666666666666,
              "#ed7953"
             ],
             [
              0.7777777777777778,
              "#fb9f3a"
             ],
             [
              0.8888888888888888,
              "#fdca26"
             ],
             [
              1,
              "#f0f921"
             ]
            ],
            "type": "histogram2dcontour"
           }
          ],
          "mesh3d": [
           {
            "colorbar": {
             "outlinewidth": 0,
             "ticks": ""
            },
            "type": "mesh3d"
           }
          ],
          "parcoords": [
           {
            "line": {
             "colorbar": {
              "outlinewidth": 0,
              "ticks": ""
             }
            },
            "type": "parcoords"
           }
          ],
          "pie": [
           {
            "automargin": true,
            "type": "pie"
           }
          ],
          "scatter": [
           {
            "fillpattern": {
             "fillmode": "overlay",
             "size": 10,
             "solidity": 0.2
            },
            "type": "scatter"
           }
          ],
          "scatter3d": [
           {
            "line": {
             "colorbar": {
              "outlinewidth": 0,
              "ticks": ""
             }
            },
            "marker": {
             "colorbar": {
              "outlinewidth": 0,
              "ticks": ""
             }
            },
            "type": "scatter3d"
           }
          ],
          "scattercarpet": [
           {
            "marker": {
             "colorbar": {
              "outlinewidth": 0,
              "ticks": ""
             }
            },
            "type": "scattercarpet"
           }
          ],
          "scattergeo": [
           {
            "marker": {
             "colorbar": {
              "outlinewidth": 0,
              "ticks": ""
             }
            },
            "type": "scattergeo"
           }
          ],
          "scattergl": [
           {
            "marker": {
             "colorbar": {
              "outlinewidth": 0,
              "ticks": ""
             }
            },
            "type": "scattergl"
           }
          ],
          "scattermapbox": [
           {
            "marker": {
             "colorbar": {
              "outlinewidth": 0,
              "ticks": ""
             }
            },
            "type": "scattermapbox"
           }
          ],
          "scatterpolar": [
           {
            "marker": {
             "colorbar": {
              "outlinewidth": 0,
              "ticks": ""
             }
            },
            "type": "scatterpolar"
           }
          ],
          "scatterpolargl": [
           {
            "marker": {
             "colorbar": {
              "outlinewidth": 0,
              "ticks": ""
             }
            },
            "type": "scatterpolargl"
           }
          ],
          "scatterternary": [
           {
            "marker": {
             "colorbar": {
              "outlinewidth": 0,
              "ticks": ""
             }
            },
            "type": "scatterternary"
           }
          ],
          "surface": [
           {
            "colorbar": {
             "outlinewidth": 0,
             "ticks": ""
            },
            "colorscale": [
             [
              0,
              "#0d0887"
             ],
             [
              0.1111111111111111,
              "#46039f"
             ],
             [
              0.2222222222222222,
              "#7201a8"
             ],
             [
              0.3333333333333333,
              "#9c179e"
             ],
             [
              0.4444444444444444,
              "#bd3786"
             ],
             [
              0.5555555555555556,
              "#d8576b"
             ],
             [
              0.6666666666666666,
              "#ed7953"
             ],
             [
              0.7777777777777778,
              "#fb9f3a"
             ],
             [
              0.8888888888888888,
              "#fdca26"
             ],
             [
              1,
              "#f0f921"
             ]
            ],
            "type": "surface"
           }
          ],
          "table": [
           {
            "cells": {
             "fill": {
              "color": "#EBF0F8"
             },
             "line": {
              "color": "white"
             }
            },
            "header": {
             "fill": {
              "color": "#C8D4E3"
             },
             "line": {
              "color": "white"
             }
            },
            "type": "table"
           }
          ]
         },
         "layout": {
          "annotationdefaults": {
           "arrowcolor": "#2a3f5f",
           "arrowhead": 0,
           "arrowwidth": 1
          },
          "autotypenumbers": "strict",
          "coloraxis": {
           "colorbar": {
            "outlinewidth": 0,
            "ticks": ""
           }
          },
          "colorscale": {
           "diverging": [
            [
             0,
             "#8e0152"
            ],
            [
             0.1,
             "#c51b7d"
            ],
            [
             0.2,
             "#de77ae"
            ],
            [
             0.3,
             "#f1b6da"
            ],
            [
             0.4,
             "#fde0ef"
            ],
            [
             0.5,
             "#f7f7f7"
            ],
            [
             0.6,
             "#e6f5d0"
            ],
            [
             0.7,
             "#b8e186"
            ],
            [
             0.8,
             "#7fbc41"
            ],
            [
             0.9,
             "#4d9221"
            ],
            [
             1,
             "#276419"
            ]
           ],
           "sequential": [
            [
             0,
             "#0d0887"
            ],
            [
             0.1111111111111111,
             "#46039f"
            ],
            [
             0.2222222222222222,
             "#7201a8"
            ],
            [
             0.3333333333333333,
             "#9c179e"
            ],
            [
             0.4444444444444444,
             "#bd3786"
            ],
            [
             0.5555555555555556,
             "#d8576b"
            ],
            [
             0.6666666666666666,
             "#ed7953"
            ],
            [
             0.7777777777777778,
             "#fb9f3a"
            ],
            [
             0.8888888888888888,
             "#fdca26"
            ],
            [
             1,
             "#f0f921"
            ]
           ],
           "sequentialminus": [
            [
             0,
             "#0d0887"
            ],
            [
             0.1111111111111111,
             "#46039f"
            ],
            [
             0.2222222222222222,
             "#7201a8"
            ],
            [
             0.3333333333333333,
             "#9c179e"
            ],
            [
             0.4444444444444444,
             "#bd3786"
            ],
            [
             0.5555555555555556,
             "#d8576b"
            ],
            [
             0.6666666666666666,
             "#ed7953"
            ],
            [
             0.7777777777777778,
             "#fb9f3a"
            ],
            [
             0.8888888888888888,
             "#fdca26"
            ],
            [
             1,
             "#f0f921"
            ]
           ]
          },
          "colorway": [
           "#636efa",
           "#EF553B",
           "#00cc96",
           "#ab63fa",
           "#FFA15A",
           "#19d3f3",
           "#FF6692",
           "#B6E880",
           "#FF97FF",
           "#FECB52"
          ],
          "font": {
           "color": "#2a3f5f"
          },
          "geo": {
           "bgcolor": "white",
           "lakecolor": "white",
           "landcolor": "#E5ECF6",
           "showlakes": true,
           "showland": true,
           "subunitcolor": "white"
          },
          "hoverlabel": {
           "align": "left"
          },
          "hovermode": "closest",
          "mapbox": {
           "style": "light"
          },
          "paper_bgcolor": "white",
          "plot_bgcolor": "#E5ECF6",
          "polar": {
           "angularaxis": {
            "gridcolor": "white",
            "linecolor": "white",
            "ticks": ""
           },
           "bgcolor": "#E5ECF6",
           "radialaxis": {
            "gridcolor": "white",
            "linecolor": "white",
            "ticks": ""
           }
          },
          "scene": {
           "xaxis": {
            "backgroundcolor": "#E5ECF6",
            "gridcolor": "white",
            "gridwidth": 2,
            "linecolor": "white",
            "showbackground": true,
            "ticks": "",
            "zerolinecolor": "white"
           },
           "yaxis": {
            "backgroundcolor": "#E5ECF6",
            "gridcolor": "white",
            "gridwidth": 2,
            "linecolor": "white",
            "showbackground": true,
            "ticks": "",
            "zerolinecolor": "white"
           },
           "zaxis": {
            "backgroundcolor": "#E5ECF6",
            "gridcolor": "white",
            "gridwidth": 2,
            "linecolor": "white",
            "showbackground": true,
            "ticks": "",
            "zerolinecolor": "white"
           }
          },
          "shapedefaults": {
           "line": {
            "color": "#2a3f5f"
           }
          },
          "ternary": {
           "aaxis": {
            "gridcolor": "white",
            "linecolor": "white",
            "ticks": ""
           },
           "baxis": {
            "gridcolor": "white",
            "linecolor": "white",
            "ticks": ""
           },
           "bgcolor": "#E5ECF6",
           "caxis": {
            "gridcolor": "white",
            "linecolor": "white",
            "ticks": ""
           }
          },
          "title": {
           "x": 0.05
          },
          "xaxis": {
           "automargin": true,
           "gridcolor": "white",
           "linecolor": "white",
           "ticks": "",
           "title": {
            "standoff": 15
           },
           "zerolinecolor": "white",
           "zerolinewidth": 2
          },
          "yaxis": {
           "automargin": true,
           "gridcolor": "white",
           "linecolor": "white",
           "ticks": "",
           "title": {
            "standoff": 15
           },
           "zerolinecolor": "white",
           "zerolinewidth": 2
          }
         }
        },
        "title": {
         "text": "Média Salarial de Cientista de Dados por País"
        }
       }
      }
     },
     "metadata": {},
     "output_type": "display_data"
    }
   ],
   "source": [
    "df = px.data.gapminder()\n",
    "fig = px.choropleth(\n",
    "    dfmedia\n",
    "    , locations=\"iso_alpha3\"\n",
    "    , color=\"usd\"\n",
    "    , scope=\"world\"\n",
    "    , title= \"Média Salarial de Cientista de Dados por País\"\n",
    ")\n",
    "fig.show()"
   ]
  }
 ],
 "metadata": {
  "kernelspec": {
   "display_name": "base",
   "language": "python",
   "name": "python3"
  },
  "language_info": {
   "codemirror_mode": {
    "name": "ipython",
    "version": 3
   },
   "file_extension": ".py",
   "mimetype": "text/x-python",
   "name": "python",
   "nbconvert_exporter": "python",
   "pygments_lexer": "ipython3",
   "version": "3.12.3"
  }
 },
 "nbformat": 4,
 "nbformat_minor": 5
}
