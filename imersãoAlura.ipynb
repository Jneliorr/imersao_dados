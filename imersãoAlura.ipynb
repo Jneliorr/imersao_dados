{
 "cells": [
  {
   "cell_type": "markdown",
   "id": "b0c5ba04",
   "metadata": {},
   "source": [
    "# AULA NUMERO 1 - Analise com Pandas"
   ]
  },
  {
   "cell_type": "markdown",
   "id": "00e67962",
   "metadata": {},
   "source": [
    "# ** PALAVRA CHAVE: PANDAS"
   ]
  },
  {
   "cell_type": "code",
   "execution_count": 57,
   "id": "db25aed6",
   "metadata": {},
   "outputs": [],
   "source": [
    "import pandas as pd"
   ]
  },
  {
   "cell_type": "code",
   "execution_count": 58,
   "id": "e80acdf5",
   "metadata": {},
   "outputs": [],
   "source": [
    "link_projeto = (\"https://raw.githubusercontent.com/guilhermeonrails/data-jobs/refs/heads/main/salaries.csv\")"
   ]
  },
  {
   "cell_type": "code",
   "execution_count": 59,
   "id": "ffbc6c24",
   "metadata": {},
   "outputs": [],
   "source": [
    "df = pd.read_csv(link_projeto)"
   ]
  },
  {
   "cell_type": "code",
   "execution_count": 60,
   "id": "6ed6bdc8",
   "metadata": {},
   "outputs": [
    {
     "data": {
      "application/vnd.microsoft.datawrangler.viewer.v0+json": {
       "columns": [
        {
         "name": "index",
         "rawType": "int64",
         "type": "integer"
        },
        {
         "name": "work_year",
         "rawType": "float64",
         "type": "float"
        },
        {
         "name": "experience_level",
         "rawType": "object",
         "type": "string"
        },
        {
         "name": "employment_type",
         "rawType": "object",
         "type": "string"
        },
        {
         "name": "job_title",
         "rawType": "object",
         "type": "string"
        },
        {
         "name": "salary",
         "rawType": "int64",
         "type": "integer"
        },
        {
         "name": "salary_currency",
         "rawType": "object",
         "type": "string"
        },
        {
         "name": "salary_in_usd",
         "rawType": "int64",
         "type": "integer"
        },
        {
         "name": "employee_residence",
         "rawType": "object",
         "type": "string"
        },
        {
         "name": "remote_ratio",
         "rawType": "int64",
         "type": "integer"
        },
        {
         "name": "company_location",
         "rawType": "object",
         "type": "string"
        },
        {
         "name": "company_size",
         "rawType": "object",
         "type": "string"
        }
       ],
       "ref": "7864d77f-a1bd-49e8-be6a-502e8c797a80",
       "rows": [
        [
         "0",
         "2025.0",
         "SE",
         "FT",
         "Solutions Engineer",
         "214000",
         "USD",
         "214000",
         "US",
         "100",
         "US",
         "M"
        ],
        [
         "1",
         "2025.0",
         "SE",
         "FT",
         "Solutions Engineer",
         "136000",
         "USD",
         "136000",
         "US",
         "100",
         "US",
         "M"
        ],
        [
         "2",
         "2025.0",
         "MI",
         "FT",
         "Data Engineer",
         "158800",
         "USD",
         "158800",
         "AU",
         "0",
         "AU",
         "M"
        ],
        [
         "3",
         "2025.0",
         "MI",
         "FT",
         "Data Engineer",
         "139200",
         "USD",
         "139200",
         "AU",
         "0",
         "AU",
         "M"
        ],
        [
         "4",
         "2025.0",
         "EN",
         "FT",
         "Data Engineer",
         "90000",
         "USD",
         "90000",
         "US",
         "0",
         "US",
         "M"
        ]
       ],
       "shape": {
        "columns": 11,
        "rows": 5
       }
      },
      "text/html": [
       "<div>\n",
       "<style scoped>\n",
       "    .dataframe tbody tr th:only-of-type {\n",
       "        vertical-align: middle;\n",
       "    }\n",
       "\n",
       "    .dataframe tbody tr th {\n",
       "        vertical-align: top;\n",
       "    }\n",
       "\n",
       "    .dataframe thead th {\n",
       "        text-align: right;\n",
       "    }\n",
       "</style>\n",
       "<table border=\"1\" class=\"dataframe\">\n",
       "  <thead>\n",
       "    <tr style=\"text-align: right;\">\n",
       "      <th></th>\n",
       "      <th>work_year</th>\n",
       "      <th>experience_level</th>\n",
       "      <th>employment_type</th>\n",
       "      <th>job_title</th>\n",
       "      <th>salary</th>\n",
       "      <th>salary_currency</th>\n",
       "      <th>salary_in_usd</th>\n",
       "      <th>employee_residence</th>\n",
       "      <th>remote_ratio</th>\n",
       "      <th>company_location</th>\n",
       "      <th>company_size</th>\n",
       "    </tr>\n",
       "  </thead>\n",
       "  <tbody>\n",
       "    <tr>\n",
       "      <th>0</th>\n",
       "      <td>2025.0</td>\n",
       "      <td>SE</td>\n",
       "      <td>FT</td>\n",
       "      <td>Solutions Engineer</td>\n",
       "      <td>214000</td>\n",
       "      <td>USD</td>\n",
       "      <td>214000</td>\n",
       "      <td>US</td>\n",
       "      <td>100</td>\n",
       "      <td>US</td>\n",
       "      <td>M</td>\n",
       "    </tr>\n",
       "    <tr>\n",
       "      <th>1</th>\n",
       "      <td>2025.0</td>\n",
       "      <td>SE</td>\n",
       "      <td>FT</td>\n",
       "      <td>Solutions Engineer</td>\n",
       "      <td>136000</td>\n",
       "      <td>USD</td>\n",
       "      <td>136000</td>\n",
       "      <td>US</td>\n",
       "      <td>100</td>\n",
       "      <td>US</td>\n",
       "      <td>M</td>\n",
       "    </tr>\n",
       "    <tr>\n",
       "      <th>2</th>\n",
       "      <td>2025.0</td>\n",
       "      <td>MI</td>\n",
       "      <td>FT</td>\n",
       "      <td>Data Engineer</td>\n",
       "      <td>158800</td>\n",
       "      <td>USD</td>\n",
       "      <td>158800</td>\n",
       "      <td>AU</td>\n",
       "      <td>0</td>\n",
       "      <td>AU</td>\n",
       "      <td>M</td>\n",
       "    </tr>\n",
       "    <tr>\n",
       "      <th>3</th>\n",
       "      <td>2025.0</td>\n",
       "      <td>MI</td>\n",
       "      <td>FT</td>\n",
       "      <td>Data Engineer</td>\n",
       "      <td>139200</td>\n",
       "      <td>USD</td>\n",
       "      <td>139200</td>\n",
       "      <td>AU</td>\n",
       "      <td>0</td>\n",
       "      <td>AU</td>\n",
       "      <td>M</td>\n",
       "    </tr>\n",
       "    <tr>\n",
       "      <th>4</th>\n",
       "      <td>2025.0</td>\n",
       "      <td>EN</td>\n",
       "      <td>FT</td>\n",
       "      <td>Data Engineer</td>\n",
       "      <td>90000</td>\n",
       "      <td>USD</td>\n",
       "      <td>90000</td>\n",
       "      <td>US</td>\n",
       "      <td>0</td>\n",
       "      <td>US</td>\n",
       "      <td>M</td>\n",
       "    </tr>\n",
       "  </tbody>\n",
       "</table>\n",
       "</div>"
      ],
      "text/plain": [
       "   work_year experience_level employment_type           job_title  salary  \\\n",
       "0     2025.0               SE              FT  Solutions Engineer  214000   \n",
       "1     2025.0               SE              FT  Solutions Engineer  136000   \n",
       "2     2025.0               MI              FT       Data Engineer  158800   \n",
       "3     2025.0               MI              FT       Data Engineer  139200   \n",
       "4     2025.0               EN              FT       Data Engineer   90000   \n",
       "\n",
       "  salary_currency  salary_in_usd employee_residence  remote_ratio  \\\n",
       "0             USD         214000                 US           100   \n",
       "1             USD         136000                 US           100   \n",
       "2             USD         158800                 AU             0   \n",
       "3             USD         139200                 AU             0   \n",
       "4             USD          90000                 US             0   \n",
       "\n",
       "  company_location company_size  \n",
       "0               US            M  \n",
       "1               US            M  \n",
       "2               AU            M  \n",
       "3               AU            M  \n",
       "4               US            M  "
      ]
     },
     "execution_count": 60,
     "metadata": {},
     "output_type": "execute_result"
    }
   ],
   "source": [
    "df.head()"
   ]
  },
  {
   "cell_type": "code",
   "execution_count": 61,
   "id": "8bec09d7",
   "metadata": {},
   "outputs": [
    {
     "name": "stdout",
     "output_type": "stream",
     "text": [
      "<class 'pandas.core.frame.DataFrame'>\n",
      "RangeIndex: 133349 entries, 0 to 133348\n",
      "Data columns (total 11 columns):\n",
      " #   Column              Non-Null Count   Dtype  \n",
      "---  ------              --------------   -----  \n",
      " 0   work_year           133339 non-null  float64\n",
      " 1   experience_level    133349 non-null  object \n",
      " 2   employment_type     133349 non-null  object \n",
      " 3   job_title           133349 non-null  object \n",
      " 4   salary              133349 non-null  int64  \n",
      " 5   salary_currency     133349 non-null  object \n",
      " 6   salary_in_usd       133349 non-null  int64  \n",
      " 7   employee_residence  133349 non-null  object \n",
      " 8   remote_ratio        133349 non-null  int64  \n",
      " 9   company_location    133349 non-null  object \n",
      " 10  company_size        133349 non-null  object \n",
      "dtypes: float64(1), int64(3), object(7)\n",
      "memory usage: 11.2+ MB\n"
     ]
    }
   ],
   "source": [
    "df.info()"
   ]
  },
  {
   "cell_type": "code",
   "execution_count": 62,
   "id": "99232232",
   "metadata": {},
   "outputs": [
    {
     "data": {
      "application/vnd.microsoft.datawrangler.viewer.v0+json": {
       "columns": [
        {
         "name": "index",
         "rawType": "object",
         "type": "string"
        },
        {
         "name": "work_year",
         "rawType": "float64",
         "type": "float"
        },
        {
         "name": "salary",
         "rawType": "float64",
         "type": "float"
        },
        {
         "name": "salary_in_usd",
         "rawType": "float64",
         "type": "float"
        },
        {
         "name": "remote_ratio",
         "rawType": "float64",
         "type": "float"
        }
       ],
       "ref": "de37548a-f498-42c5-8cfd-05361d73e318",
       "rows": [
        [
         "count",
         "133339.0",
         "133349.0",
         "133349.0",
         "133349.0"
        ],
        [
         "mean",
         "2024.3587697522855",
         "163283.32258959571",
         "157617.27209802848",
         "20.905668583941388"
        ],
        [
         "std",
         "0.6806266087844866",
         "217386.02157403668",
         "74288.36309736302",
         "40.590044190108124"
        ],
        [
         "min",
         "2020.0",
         "14000.0",
         "15000.0",
         "0.0"
        ],
        [
         "25%",
         "2024.0",
         "106020.0",
         "106000.0",
         "0.0"
        ],
        [
         "50%",
         "2024.0",
         "147000.0",
         "146206.0",
         "0.0"
        ],
        [
         "75%",
         "2025.0",
         "199000.0",
         "198000.0",
         "0.0"
        ],
        [
         "max",
         "2025.0",
         "30400000.0",
         "800000.0",
         "100.0"
        ]
       ],
       "shape": {
        "columns": 4,
        "rows": 8
       }
      },
      "text/html": [
       "<div>\n",
       "<style scoped>\n",
       "    .dataframe tbody tr th:only-of-type {\n",
       "        vertical-align: middle;\n",
       "    }\n",
       "\n",
       "    .dataframe tbody tr th {\n",
       "        vertical-align: top;\n",
       "    }\n",
       "\n",
       "    .dataframe thead th {\n",
       "        text-align: right;\n",
       "    }\n",
       "</style>\n",
       "<table border=\"1\" class=\"dataframe\">\n",
       "  <thead>\n",
       "    <tr style=\"text-align: right;\">\n",
       "      <th></th>\n",
       "      <th>work_year</th>\n",
       "      <th>salary</th>\n",
       "      <th>salary_in_usd</th>\n",
       "      <th>remote_ratio</th>\n",
       "    </tr>\n",
       "  </thead>\n",
       "  <tbody>\n",
       "    <tr>\n",
       "      <th>count</th>\n",
       "      <td>133339.000000</td>\n",
       "      <td>1.333490e+05</td>\n",
       "      <td>133349.000000</td>\n",
       "      <td>133349.000000</td>\n",
       "    </tr>\n",
       "    <tr>\n",
       "      <th>mean</th>\n",
       "      <td>2024.358770</td>\n",
       "      <td>1.632833e+05</td>\n",
       "      <td>157617.272098</td>\n",
       "      <td>20.905669</td>\n",
       "    </tr>\n",
       "    <tr>\n",
       "      <th>std</th>\n",
       "      <td>0.680627</td>\n",
       "      <td>2.173860e+05</td>\n",
       "      <td>74288.363097</td>\n",
       "      <td>40.590044</td>\n",
       "    </tr>\n",
       "    <tr>\n",
       "      <th>min</th>\n",
       "      <td>2020.000000</td>\n",
       "      <td>1.400000e+04</td>\n",
       "      <td>15000.000000</td>\n",
       "      <td>0.000000</td>\n",
       "    </tr>\n",
       "    <tr>\n",
       "      <th>25%</th>\n",
       "      <td>2024.000000</td>\n",
       "      <td>1.060200e+05</td>\n",
       "      <td>106000.000000</td>\n",
       "      <td>0.000000</td>\n",
       "    </tr>\n",
       "    <tr>\n",
       "      <th>50%</th>\n",
       "      <td>2024.000000</td>\n",
       "      <td>1.470000e+05</td>\n",
       "      <td>146206.000000</td>\n",
       "      <td>0.000000</td>\n",
       "    </tr>\n",
       "    <tr>\n",
       "      <th>75%</th>\n",
       "      <td>2025.000000</td>\n",
       "      <td>1.990000e+05</td>\n",
       "      <td>198000.000000</td>\n",
       "      <td>0.000000</td>\n",
       "    </tr>\n",
       "    <tr>\n",
       "      <th>max</th>\n",
       "      <td>2025.000000</td>\n",
       "      <td>3.040000e+07</td>\n",
       "      <td>800000.000000</td>\n",
       "      <td>100.000000</td>\n",
       "    </tr>\n",
       "  </tbody>\n",
       "</table>\n",
       "</div>"
      ],
      "text/plain": [
       "           work_year        salary  salary_in_usd   remote_ratio\n",
       "count  133339.000000  1.333490e+05  133349.000000  133349.000000\n",
       "mean     2024.358770  1.632833e+05  157617.272098      20.905669\n",
       "std         0.680627  2.173860e+05   74288.363097      40.590044\n",
       "min      2020.000000  1.400000e+04   15000.000000       0.000000\n",
       "25%      2024.000000  1.060200e+05  106000.000000       0.000000\n",
       "50%      2024.000000  1.470000e+05  146206.000000       0.000000\n",
       "75%      2025.000000  1.990000e+05  198000.000000       0.000000\n",
       "max      2025.000000  3.040000e+07  800000.000000     100.000000"
      ]
     },
     "execution_count": 62,
     "metadata": {},
     "output_type": "execute_result"
    }
   ],
   "source": [
    "df.describe()"
   ]
  },
  {
   "cell_type": "code",
   "execution_count": 63,
   "id": "98086060",
   "metadata": {},
   "outputs": [
    {
     "data": {
      "text/plain": [
       "(133349, 11)"
      ]
     },
     "execution_count": 63,
     "metadata": {},
     "output_type": "execute_result"
    }
   ],
   "source": [
    "df.shape"
   ]
  },
  {
   "cell_type": "code",
   "execution_count": 64,
   "id": "4b08bd49",
   "metadata": {},
   "outputs": [
    {
     "name": "stdout",
     "output_type": "stream",
     "text": [
      "A base tem dados em 133349 Linhas e 11 Colunas\n"
     ]
    }
   ],
   "source": [
    "linhas, colunas = df.shape\n",
    "\n",
    "print(f\"A base tem dados em {linhas} Linhas e {colunas} Colunas\")"
   ]
  },
  {
   "cell_type": "code",
   "execution_count": 65,
   "id": "784c9d3a",
   "metadata": {},
   "outputs": [
    {
     "data": {
      "text/plain": [
       "Index(['ano', 'senioridade', 'contrato', 'cargo', 'salario', 'moeda', 'usd',\n",
       "       'residencia', 'remoto', 'empresa', 'porte_empresa'],\n",
       "      dtype='object')"
      ]
     },
     "execution_count": 65,
     "metadata": {},
     "output_type": "execute_result"
    }
   ],
   "source": [
    "colunas_traduzidas = {\n",
    "    'work_year': 'ano',\n",
    "    'experience_level': 'senioridade',\n",
    "    'employment_type': 'contrato',\n",
    "    'job_title': 'cargo',\n",
    "    'salary': 'salario',\n",
    "    'salary_currency': 'moeda',\n",
    "    'salary_in_usd': 'usd',\n",
    "    'employee_residence': 'residencia',\n",
    "    'remote_ratio': 'remoto',\n",
    "    'company_location': 'empresa',\n",
    "    'company_size': 'porte_empresa'\n",
    "}\n",
    "\n",
    "\n",
    "df.rename(columns= colunas_traduzidas, inplace=True)\n",
    "df.columns"
   ]
  },
  {
   "cell_type": "code",
   "execution_count": 66,
   "id": "bbee4206",
   "metadata": {},
   "outputs": [
    {
     "data": {
      "application/vnd.microsoft.datawrangler.viewer.v0+json": {
       "columns": [
        {
         "name": "senioridade",
         "rawType": "object",
         "type": "string"
        },
        {
         "name": "count",
         "rawType": "int64",
         "type": "integer"
        }
       ],
       "ref": "bde97ec2-89cc-457f-936d-484b940153bf",
       "rows": [
        [
         "Senior",
         "77241"
        ],
        [
         "Pleno",
         "40465"
        ],
        [
         "Junior",
         "12443"
        ],
        [
         "Executivo",
         "3200"
        ]
       ],
       "shape": {
        "columns": 1,
        "rows": 4
       }
      },
      "text/plain": [
       "senioridade\n",
       "Senior       77241\n",
       "Pleno        40465\n",
       "Junior       12443\n",
       "Executivo     3200\n",
       "Name: count, dtype: int64"
      ]
     },
     "execution_count": 66,
     "metadata": {},
     "output_type": "execute_result"
    }
   ],
   "source": [
    "senioridade = {\n",
    "'SE': \"Senior\",\n",
    "'MI': \"Pleno\",\n",
    "'EN': \"Junior\",\n",
    "'EX': \"Executivo\"\n",
    "}\n",
    "\n",
    "df['senioridade']= df['senioridade'].replace(senioridade)\n",
    "df['senioridade'].value_counts() #caucula a frequencia de cada nivel de experiencia\n"
   ]
  },
  {
   "cell_type": "code",
   "execution_count": 67,
   "id": "c2e98e90",
   "metadata": {},
   "outputs": [
    {
     "data": {
      "application/vnd.microsoft.datawrangler.viewer.v0+json": {
       "columns": [
        {
         "name": "cargo",
         "rawType": "object",
         "type": "string"
        },
        {
         "name": "count",
         "rawType": "int64",
         "type": "integer"
        }
       ],
       "ref": "e2c97f8d-35ea-4fa2-9dac-14c04c441d05",
       "rows": [
        [
         "Data Scientist",
         "17314"
        ],
        [
         "Software Engineer",
         "15007"
        ],
        [
         "Data Engineer",
         "14868"
        ],
        [
         "Data Analyst",
         "12381"
        ],
        [
         "Engineer",
         "9456"
        ],
        [
         "Machine Learning Engineer",
         "8205"
        ],
        [
         "Manager",
         "6679"
        ],
        [
         "Analyst",
         "4364"
        ],
        [
         "Research Scientist",
         "3202"
        ],
        [
         "Product Manager",
         "2230"
        ],
        [
         "Applied Scientist",
         "2205"
        ],
        [
         "Associate",
         "2073"
        ],
        [
         "Data Architect",
         "2024"
        ],
        [
         "Analytics Engineer",
         "1895"
        ],
        [
         "AI Engineer",
         "1620"
        ],
        [
         "Research Engineer",
         "1614"
        ],
        [
         "Consultant",
         "1125"
        ],
        [
         "Data Manager",
         "975"
        ],
        [
         "Business Intelligence Engineer",
         "870"
        ],
        [
         "Data Specialist",
         "854"
        ],
        [
         "Developer",
         "832"
        ],
        [
         "Solutions Architect",
         "802"
        ],
        [
         "Engineering Manager",
         "776"
        ],
        [
         "Systems Engineer",
         "724"
        ],
        [
         "Software Developer",
         "704"
        ],
        [
         "Machine Learning Researcher",
         "691"
        ],
        [
         "Software Development Engineer",
         "679"
        ],
        [
         "Architect",
         "627"
        ],
        [
         "Business Intelligence Analyst",
         "618"
        ],
        [
         "DevOps Engineer",
         "502"
        ],
        [
         "Platform Engineer",
         "484"
        ],
        [
         "Machine Learning Scientist",
         "465"
        ],
        [
         "Site Reliability Engineer",
         "446"
        ],
        [
         "Research Analyst",
         "440"
        ],
        [
         "Business Analyst",
         "427"
        ],
        [
         "Business Intelligence Developer",
         "387"
        ],
        [
         "Solutions Engineer",
         "349"
        ],
        [
         "Business Intelligence",
         "346"
        ],
        [
         "Director",
         "322"
        ],
        [
         "Backend Engineer",
         "317"
        ],
        [
         "BI Analyst",
         "313"
        ],
        [
         "Data Management Analyst",
         "298"
        ],
        [
         "Head of Data",
         "296"
        ],
        [
         "Data Governance",
         "296"
        ],
        [
         "Data Product Manager",
         "292"
        ],
        [
         "BI Developer",
         "284"
        ],
        [
         "Data Lead",
         "276"
        ],
        [
         "Data Analytics Manager",
         "252"
        ],
        [
         "AI Architect",
         "251"
        ],
        [
         "Solution Architect",
         "244"
        ]
       ],
       "shape": {
        "columns": 1,
        "rows": 390
       }
      },
      "text/plain": [
       "cargo\n",
       "Data Scientist                     17314\n",
       "Software Engineer                  15007\n",
       "Data Engineer                      14868\n",
       "Data Analyst                       12381\n",
       "Engineer                            9456\n",
       "                                   ...  \n",
       "Quantitative Research Analyst          1\n",
       "Data Science Tech Lead                 1\n",
       "Staff Machine Learning Engineer        1\n",
       "Principal Data Architect               1\n",
       "Cloud Data Architect                   1\n",
       "Name: count, Length: 390, dtype: int64"
      ]
     },
     "execution_count": 67,
     "metadata": {},
     "output_type": "execute_result"
    }
   ],
   "source": [
    "df['cargo'].value_counts()"
   ]
  },
  {
   "cell_type": "code",
   "execution_count": 68,
   "id": "cd50afc6",
   "metadata": {},
   "outputs": [
    {
     "data": {
      "application/vnd.microsoft.datawrangler.viewer.v0+json": {
       "columns": [
        {
         "name": "contrato",
         "rawType": "object",
         "type": "string"
        },
        {
         "name": "count",
         "rawType": "int64",
         "type": "integer"
        }
       ],
       "ref": "21c240ef-fa12-4973-956e-9b50c3c38158",
       "rows": [
        [
         "Integral",
         "132563"
        ],
        [
         "Contrato",
         "394"
        ],
        [
         "Parcial",
         "376"
        ],
        [
         "Freelancer",
         "16"
        ]
       ],
       "shape": {
        "columns": 1,
        "rows": 4
       }
      },
      "text/plain": [
       "contrato\n",
       "Integral      132563\n",
       "Contrato         394\n",
       "Parcial          376\n",
       "Freelancer        16\n",
       "Name: count, dtype: int64"
      ]
     },
     "execution_count": 68,
     "metadata": {},
     "output_type": "execute_result"
    }
   ],
   "source": [
    "contrato = {\n",
    "'FT': \"Integral\",\n",
    "'PT': \"Parcial\",\n",
    "'FL': \"Freelancer\",\n",
    "'CT': \"Contrato\"\n",
    "}\n",
    "\n",
    "df['contrato']= df['contrato'].replace(contrato)\n",
    "\n",
    "df['contrato'].value_counts()"
   ]
  },
  {
   "cell_type": "code",
   "execution_count": 69,
   "id": "2e0f3d3a",
   "metadata": {},
   "outputs": [
    {
     "data": {
      "application/vnd.microsoft.datawrangler.viewer.v0+json": {
       "columns": [
        {
         "name": "remoto",
         "rawType": "object",
         "type": "string"
        },
        {
         "name": "count",
         "rawType": "int64",
         "type": "integer"
        }
       ],
       "ref": "f7561954-85ce-47e7-98c9-adb785d49a64",
       "rows": [
        [
         "Presencial",
         "105312"
        ],
        [
         "Remto",
         "27718"
        ],
        [
         "Hibrido",
         "319"
        ]
       ],
       "shape": {
        "columns": 1,
        "rows": 3
       }
      },
      "text/plain": [
       "remoto\n",
       "Presencial    105312\n",
       "Remto          27718\n",
       "Hibrido          319\n",
       "Name: count, dtype: int64"
      ]
     },
     "execution_count": 69,
     "metadata": {},
     "output_type": "execute_result"
    }
   ],
   "source": [
    "remoto = {\n",
    "0: \"Presencial\",\n",
    "100: \"Remto\",\n",
    "50: \"Hibrido\"\n",
    "}\n",
    "\n",
    "df['remoto']= df['remoto'].replace(remoto)\n",
    "df['remoto'].value_counts()"
   ]
  },
  {
   "cell_type": "code",
   "execution_count": 70,
   "id": "30d9a362",
   "metadata": {},
   "outputs": [
    {
     "data": {
      "application/vnd.microsoft.datawrangler.viewer.v0+json": {
       "columns": [
        {
         "name": "porte_empresa",
         "rawType": "object",
         "type": "string"
        },
        {
         "name": "count",
         "rawType": "int64",
         "type": "integer"
        }
       ],
       "ref": "178daa5e-32c4-4752-bd76-cbea5b6c59f3",
       "rows": [
        [
         "Media",
         "129561"
        ],
        [
         "Grande",
         "3574"
        ],
        [
         "Pequena",
         "214"
        ]
       ],
       "shape": {
        "columns": 1,
        "rows": 3
       }
      },
      "text/plain": [
       "porte_empresa\n",
       "Media      129561\n",
       "Grande       3574\n",
       "Pequena       214\n",
       "Name: count, dtype: int64"
      ]
     },
     "execution_count": 70,
     "metadata": {},
     "output_type": "execute_result"
    }
   ],
   "source": [
    "empresa = {\n",
    "'S': \"Pequena\",\n",
    "'M': \"Media\",\n",
    "'L': \"Grande\"\n",
    "}\n",
    "\n",
    "df['porte_empresa']= df['porte_empresa'].replace(empresa)\n",
    "\n",
    "df['porte_empresa'].value_counts()"
   ]
  },
  {
   "cell_type": "code",
   "execution_count": 71,
   "id": "1375d1c6",
   "metadata": {},
   "outputs": [
    {
     "data": {
      "application/vnd.microsoft.datawrangler.viewer.v0+json": {
       "columns": [
        {
         "name": "index",
         "rawType": "int64",
         "type": "integer"
        },
        {
         "name": "ano",
         "rawType": "float64",
         "type": "float"
        },
        {
         "name": "senioridade",
         "rawType": "object",
         "type": "string"
        },
        {
         "name": "contrato",
         "rawType": "object",
         "type": "string"
        },
        {
         "name": "cargo",
         "rawType": "object",
         "type": "string"
        },
        {
         "name": "salario",
         "rawType": "int64",
         "type": "integer"
        },
        {
         "name": "moeda",
         "rawType": "object",
         "type": "string"
        },
        {
         "name": "usd",
         "rawType": "int64",
         "type": "integer"
        },
        {
         "name": "residencia",
         "rawType": "object",
         "type": "string"
        },
        {
         "name": "remoto",
         "rawType": "object",
         "type": "string"
        },
        {
         "name": "empresa",
         "rawType": "object",
         "type": "string"
        },
        {
         "name": "porte_empresa",
         "rawType": "object",
         "type": "string"
        }
       ],
       "ref": "d65efd15-5e6a-4384-9a74-14d4238061d2",
       "rows": [
        [
         "0",
         "2025.0",
         "Senior",
         "Integral",
         "Solutions Engineer",
         "214000",
         "USD",
         "214000",
         "US",
         "Remto",
         "US",
         "Media"
        ],
        [
         "1",
         "2025.0",
         "Senior",
         "Integral",
         "Solutions Engineer",
         "136000",
         "USD",
         "136000",
         "US",
         "Remto",
         "US",
         "Media"
        ],
        [
         "2",
         "2025.0",
         "Pleno",
         "Integral",
         "Data Engineer",
         "158800",
         "USD",
         "158800",
         "AU",
         "Presencial",
         "AU",
         "Media"
        ],
        [
         "3",
         "2025.0",
         "Pleno",
         "Integral",
         "Data Engineer",
         "139200",
         "USD",
         "139200",
         "AU",
         "Presencial",
         "AU",
         "Media"
        ],
        [
         "4",
         "2025.0",
         "Junior",
         "Integral",
         "Data Engineer",
         "90000",
         "USD",
         "90000",
         "US",
         "Presencial",
         "US",
         "Media"
        ]
       ],
       "shape": {
        "columns": 11,
        "rows": 5
       }
      },
      "text/html": [
       "<div>\n",
       "<style scoped>\n",
       "    .dataframe tbody tr th:only-of-type {\n",
       "        vertical-align: middle;\n",
       "    }\n",
       "\n",
       "    .dataframe tbody tr th {\n",
       "        vertical-align: top;\n",
       "    }\n",
       "\n",
       "    .dataframe thead th {\n",
       "        text-align: right;\n",
       "    }\n",
       "</style>\n",
       "<table border=\"1\" class=\"dataframe\">\n",
       "  <thead>\n",
       "    <tr style=\"text-align: right;\">\n",
       "      <th></th>\n",
       "      <th>ano</th>\n",
       "      <th>senioridade</th>\n",
       "      <th>contrato</th>\n",
       "      <th>cargo</th>\n",
       "      <th>salario</th>\n",
       "      <th>moeda</th>\n",
       "      <th>usd</th>\n",
       "      <th>residencia</th>\n",
       "      <th>remoto</th>\n",
       "      <th>empresa</th>\n",
       "      <th>porte_empresa</th>\n",
       "    </tr>\n",
       "  </thead>\n",
       "  <tbody>\n",
       "    <tr>\n",
       "      <th>0</th>\n",
       "      <td>2025.0</td>\n",
       "      <td>Senior</td>\n",
       "      <td>Integral</td>\n",
       "      <td>Solutions Engineer</td>\n",
       "      <td>214000</td>\n",
       "      <td>USD</td>\n",
       "      <td>214000</td>\n",
       "      <td>US</td>\n",
       "      <td>Remto</td>\n",
       "      <td>US</td>\n",
       "      <td>Media</td>\n",
       "    </tr>\n",
       "    <tr>\n",
       "      <th>1</th>\n",
       "      <td>2025.0</td>\n",
       "      <td>Senior</td>\n",
       "      <td>Integral</td>\n",
       "      <td>Solutions Engineer</td>\n",
       "      <td>136000</td>\n",
       "      <td>USD</td>\n",
       "      <td>136000</td>\n",
       "      <td>US</td>\n",
       "      <td>Remto</td>\n",
       "      <td>US</td>\n",
       "      <td>Media</td>\n",
       "    </tr>\n",
       "    <tr>\n",
       "      <th>2</th>\n",
       "      <td>2025.0</td>\n",
       "      <td>Pleno</td>\n",
       "      <td>Integral</td>\n",
       "      <td>Data Engineer</td>\n",
       "      <td>158800</td>\n",
       "      <td>USD</td>\n",
       "      <td>158800</td>\n",
       "      <td>AU</td>\n",
       "      <td>Presencial</td>\n",
       "      <td>AU</td>\n",
       "      <td>Media</td>\n",
       "    </tr>\n",
       "    <tr>\n",
       "      <th>3</th>\n",
       "      <td>2025.0</td>\n",
       "      <td>Pleno</td>\n",
       "      <td>Integral</td>\n",
       "      <td>Data Engineer</td>\n",
       "      <td>139200</td>\n",
       "      <td>USD</td>\n",
       "      <td>139200</td>\n",
       "      <td>AU</td>\n",
       "      <td>Presencial</td>\n",
       "      <td>AU</td>\n",
       "      <td>Media</td>\n",
       "    </tr>\n",
       "    <tr>\n",
       "      <th>4</th>\n",
       "      <td>2025.0</td>\n",
       "      <td>Junior</td>\n",
       "      <td>Integral</td>\n",
       "      <td>Data Engineer</td>\n",
       "      <td>90000</td>\n",
       "      <td>USD</td>\n",
       "      <td>90000</td>\n",
       "      <td>US</td>\n",
       "      <td>Presencial</td>\n",
       "      <td>US</td>\n",
       "      <td>Media</td>\n",
       "    </tr>\n",
       "  </tbody>\n",
       "</table>\n",
       "</div>"
      ],
      "text/plain": [
       "      ano senioridade  contrato               cargo  salario moeda     usd  \\\n",
       "0  2025.0      Senior  Integral  Solutions Engineer   214000   USD  214000   \n",
       "1  2025.0      Senior  Integral  Solutions Engineer   136000   USD  136000   \n",
       "2  2025.0       Pleno  Integral       Data Engineer   158800   USD  158800   \n",
       "3  2025.0       Pleno  Integral       Data Engineer   139200   USD  139200   \n",
       "4  2025.0      Junior  Integral       Data Engineer    90000   USD   90000   \n",
       "\n",
       "  residencia      remoto empresa porte_empresa  \n",
       "0         US       Remto      US         Media  \n",
       "1         US       Remto      US         Media  \n",
       "2         AU  Presencial      AU         Media  \n",
       "3         AU  Presencial      AU         Media  \n",
       "4         US  Presencial      US         Media  "
      ]
     },
     "execution_count": 71,
     "metadata": {},
     "output_type": "execute_result"
    }
   ],
   "source": [
    "df.head()"
   ]
  },
  {
   "cell_type": "code",
   "execution_count": 72,
   "id": "b8a2be6d",
   "metadata": {},
   "outputs": [
    {
     "data": {
      "application/vnd.microsoft.datawrangler.viewer.v0+json": {
       "columns": [
        {
         "name": "index",
         "rawType": "object",
         "type": "string"
        },
        {
         "name": "senioridade",
         "rawType": "object",
         "type": "unknown"
        },
        {
         "name": "contrato",
         "rawType": "object",
         "type": "unknown"
        },
        {
         "name": "cargo",
         "rawType": "object",
         "type": "unknown"
        },
        {
         "name": "moeda",
         "rawType": "object",
         "type": "unknown"
        },
        {
         "name": "residencia",
         "rawType": "object",
         "type": "unknown"
        },
        {
         "name": "remoto",
         "rawType": "object",
         "type": "unknown"
        },
        {
         "name": "empresa",
         "rawType": "object",
         "type": "unknown"
        },
        {
         "name": "porte_empresa",
         "rawType": "object",
         "type": "unknown"
        }
       ],
       "ref": "e3d84743-8cc1-4184-bcd4-8357e605898a",
       "rows": [
        [
         "count",
         "133349",
         "133349",
         "133349",
         "133349",
         "133349",
         "133349",
         "133349",
         "133349"
        ],
        [
         "unique",
         "4",
         "4",
         "390",
         "26",
         "102",
         "3",
         "95",
         "3"
        ],
        [
         "top",
         "Senior",
         "Integral",
         "Data Scientist",
         "USD",
         "US",
         "Presencial",
         "US",
         "Media"
        ],
        [
         "freq",
         "77241",
         "132563",
         "17314",
         "126140",
         "119579",
         "105312",
         "119641",
         "129561"
        ]
       ],
       "shape": {
        "columns": 8,
        "rows": 4
       }
      },
      "text/html": [
       "<div>\n",
       "<style scoped>\n",
       "    .dataframe tbody tr th:only-of-type {\n",
       "        vertical-align: middle;\n",
       "    }\n",
       "\n",
       "    .dataframe tbody tr th {\n",
       "        vertical-align: top;\n",
       "    }\n",
       "\n",
       "    .dataframe thead th {\n",
       "        text-align: right;\n",
       "    }\n",
       "</style>\n",
       "<table border=\"1\" class=\"dataframe\">\n",
       "  <thead>\n",
       "    <tr style=\"text-align: right;\">\n",
       "      <th></th>\n",
       "      <th>senioridade</th>\n",
       "      <th>contrato</th>\n",
       "      <th>cargo</th>\n",
       "      <th>moeda</th>\n",
       "      <th>residencia</th>\n",
       "      <th>remoto</th>\n",
       "      <th>empresa</th>\n",
       "      <th>porte_empresa</th>\n",
       "    </tr>\n",
       "  </thead>\n",
       "  <tbody>\n",
       "    <tr>\n",
       "      <th>count</th>\n",
       "      <td>133349</td>\n",
       "      <td>133349</td>\n",
       "      <td>133349</td>\n",
       "      <td>133349</td>\n",
       "      <td>133349</td>\n",
       "      <td>133349</td>\n",
       "      <td>133349</td>\n",
       "      <td>133349</td>\n",
       "    </tr>\n",
       "    <tr>\n",
       "      <th>unique</th>\n",
       "      <td>4</td>\n",
       "      <td>4</td>\n",
       "      <td>390</td>\n",
       "      <td>26</td>\n",
       "      <td>102</td>\n",
       "      <td>3</td>\n",
       "      <td>95</td>\n",
       "      <td>3</td>\n",
       "    </tr>\n",
       "    <tr>\n",
       "      <th>top</th>\n",
       "      <td>Senior</td>\n",
       "      <td>Integral</td>\n",
       "      <td>Data Scientist</td>\n",
       "      <td>USD</td>\n",
       "      <td>US</td>\n",
       "      <td>Presencial</td>\n",
       "      <td>US</td>\n",
       "      <td>Media</td>\n",
       "    </tr>\n",
       "    <tr>\n",
       "      <th>freq</th>\n",
       "      <td>77241</td>\n",
       "      <td>132563</td>\n",
       "      <td>17314</td>\n",
       "      <td>126140</td>\n",
       "      <td>119579</td>\n",
       "      <td>105312</td>\n",
       "      <td>119641</td>\n",
       "      <td>129561</td>\n",
       "    </tr>\n",
       "  </tbody>\n",
       "</table>\n",
       "</div>"
      ],
      "text/plain": [
       "       senioridade  contrato           cargo   moeda residencia      remoto  \\\n",
       "count       133349    133349          133349  133349     133349      133349   \n",
       "unique           4         4             390      26        102           3   \n",
       "top         Senior  Integral  Data Scientist     USD         US  Presencial   \n",
       "freq         77241    132563           17314  126140     119579      105312   \n",
       "\n",
       "       empresa porte_empresa  \n",
       "count   133349        133349  \n",
       "unique      95             3  \n",
       "top         US         Media  \n",
       "freq    119641        129561  "
      ]
     },
     "execution_count": 72,
     "metadata": {},
     "output_type": "execute_result"
    }
   ],
   "source": [
    "df.describe(include = \"object\")"
   ]
  },
  {
   "cell_type": "markdown",
   "id": "ccd76de7",
   "metadata": {},
   "source": [
    "## AULA NUMERO 2 - Preparação e limpeza\n",
    "\n",
    "# ** PALAVRA CHAVE: PRINT **"
   ]
  },
  {
   "cell_type": "code",
   "execution_count": 73,
   "id": "21e7a8bd",
   "metadata": {},
   "outputs": [
    {
     "data": {
      "application/vnd.microsoft.datawrangler.viewer.v0+json": {
       "columns": [
        {
         "name": "index",
         "rawType": "object",
         "type": "string"
        },
        {
         "name": "0",
         "rawType": "int64",
         "type": "integer"
        }
       ],
       "ref": "6d5fe43f-2cfe-41e5-9cee-bbbe1767278a",
       "rows": [
        [
         "ano",
         "10"
        ],
        [
         "senioridade",
         "0"
        ],
        [
         "contrato",
         "0"
        ],
        [
         "cargo",
         "0"
        ],
        [
         "salario",
         "0"
        ],
        [
         "moeda",
         "0"
        ],
        [
         "usd",
         "0"
        ],
        [
         "residencia",
         "0"
        ],
        [
         "remoto",
         "0"
        ],
        [
         "empresa",
         "0"
        ],
        [
         "porte_empresa",
         "0"
        ]
       ],
       "shape": {
        "columns": 1,
        "rows": 11
       }
      },
      "text/plain": [
       "ano              10\n",
       "senioridade       0\n",
       "contrato          0\n",
       "cargo             0\n",
       "salario           0\n",
       "moeda             0\n",
       "usd               0\n",
       "residencia        0\n",
       "remoto            0\n",
       "empresa           0\n",
       "porte_empresa     0\n",
       "dtype: int64"
      ]
     },
     "execution_count": 73,
     "metadata": {},
     "output_type": "execute_result"
    }
   ],
   "source": [
    "df.isnull().sum()"
   ]
  },
  {
   "cell_type": "code",
   "execution_count": 74,
   "id": "bb758673",
   "metadata": {},
   "outputs": [
    {
     "data": {
      "text/plain": [
       "array([2025.,   nan, 2024., 2022., 2023., 2020., 2021.])"
      ]
     },
     "execution_count": 74,
     "metadata": {},
     "output_type": "execute_result"
    }
   ],
   "source": [
    "df['ano'].unique()"
   ]
  },
  {
   "cell_type": "code",
   "execution_count": 75,
   "id": "97e161bd",
   "metadata": {},
   "outputs": [
    {
     "data": {
      "application/vnd.microsoft.datawrangler.viewer.v0+json": {
       "columns": [
        {
         "name": "index",
         "rawType": "int64",
         "type": "integer"
        },
        {
         "name": "ano",
         "rawType": "float64",
         "type": "float"
        },
        {
         "name": "senioridade",
         "rawType": "object",
         "type": "string"
        },
        {
         "name": "contrato",
         "rawType": "object",
         "type": "string"
        },
        {
         "name": "cargo",
         "rawType": "object",
         "type": "string"
        },
        {
         "name": "salario",
         "rawType": "int64",
         "type": "integer"
        },
        {
         "name": "moeda",
         "rawType": "object",
         "type": "string"
        },
        {
         "name": "usd",
         "rawType": "int64",
         "type": "integer"
        },
        {
         "name": "residencia",
         "rawType": "object",
         "type": "string"
        },
        {
         "name": "remoto",
         "rawType": "object",
         "type": "string"
        },
        {
         "name": "empresa",
         "rawType": "object",
         "type": "string"
        },
        {
         "name": "porte_empresa",
         "rawType": "object",
         "type": "string"
        }
       ],
       "ref": "9a0c626a-50d4-4966-b595-9feea7b95f9a",
       "rows": [
        [
         "5588",
         null,
         "Senior",
         "Integral",
         "Product Manager",
         "184500",
         "USD",
         "184500",
         "US",
         "Presencial",
         "US",
         "Media"
        ],
        [
         "59692",
         null,
         "Pleno",
         "Integral",
         "Engineer",
         "110000",
         "USD",
         "110000",
         "DE",
         "Presencial",
         "DE",
         "Media"
        ],
        [
         "59710",
         null,
         "Junior",
         "Integral",
         "Data Scientist",
         "208800",
         "USD",
         "208800",
         "US",
         "Presencial",
         "US",
         "Media"
        ],
        [
         "59759",
         null,
         "Senior",
         "Integral",
         "Software Engineer",
         "135000",
         "USD",
         "135000",
         "US",
         "Presencial",
         "US",
         "Media"
        ],
        [
         "59789",
         null,
         "Senior",
         "Integral",
         "Engineer",
         "112000",
         "USD",
         "112000",
         "US",
         "Presencial",
         "US",
         "Media"
        ],
        [
         "131000",
         null,
         "Senior",
         "Integral",
         "Machine Learning Engineer",
         "163800",
         "USD",
         "163800",
         "US",
         "Presencial",
         "US",
         "Media"
        ],
        [
         "131006",
         null,
         "Senior",
         "Integral",
         "Data Analytics Manager",
         "204500",
         "USD",
         "204500",
         "US",
         "Presencial",
         "US",
         "Media"
        ],
        [
         "133054",
         null,
         "Junior",
         "Integral",
         "Data Scientist",
         "40000",
         "USD",
         "40000",
         "JP",
         "Remto",
         "MY",
         "Grande"
        ],
        [
         "133281",
         null,
         "Pleno",
         "Integral",
         "Machine Learning Engineer",
         "180000",
         "PLN",
         "46597",
         "PL",
         "Remto",
         "PL",
         "Grande"
        ],
        [
         "133317",
         null,
         "Pleno",
         "Integral",
         "Data Scientist",
         "130000",
         "USD",
         "130000",
         "US",
         "Hibrido",
         "US",
         "Grande"
        ]
       ],
       "shape": {
        "columns": 11,
        "rows": 10
       }
      },
      "text/html": [
       "<div>\n",
       "<style scoped>\n",
       "    .dataframe tbody tr th:only-of-type {\n",
       "        vertical-align: middle;\n",
       "    }\n",
       "\n",
       "    .dataframe tbody tr th {\n",
       "        vertical-align: top;\n",
       "    }\n",
       "\n",
       "    .dataframe thead th {\n",
       "        text-align: right;\n",
       "    }\n",
       "</style>\n",
       "<table border=\"1\" class=\"dataframe\">\n",
       "  <thead>\n",
       "    <tr style=\"text-align: right;\">\n",
       "      <th></th>\n",
       "      <th>ano</th>\n",
       "      <th>senioridade</th>\n",
       "      <th>contrato</th>\n",
       "      <th>cargo</th>\n",
       "      <th>salario</th>\n",
       "      <th>moeda</th>\n",
       "      <th>usd</th>\n",
       "      <th>residencia</th>\n",
       "      <th>remoto</th>\n",
       "      <th>empresa</th>\n",
       "      <th>porte_empresa</th>\n",
       "    </tr>\n",
       "  </thead>\n",
       "  <tbody>\n",
       "    <tr>\n",
       "      <th>5588</th>\n",
       "      <td>NaN</td>\n",
       "      <td>Senior</td>\n",
       "      <td>Integral</td>\n",
       "      <td>Product Manager</td>\n",
       "      <td>184500</td>\n",
       "      <td>USD</td>\n",
       "      <td>184500</td>\n",
       "      <td>US</td>\n",
       "      <td>Presencial</td>\n",
       "      <td>US</td>\n",
       "      <td>Media</td>\n",
       "    </tr>\n",
       "    <tr>\n",
       "      <th>59692</th>\n",
       "      <td>NaN</td>\n",
       "      <td>Pleno</td>\n",
       "      <td>Integral</td>\n",
       "      <td>Engineer</td>\n",
       "      <td>110000</td>\n",
       "      <td>USD</td>\n",
       "      <td>110000</td>\n",
       "      <td>DE</td>\n",
       "      <td>Presencial</td>\n",
       "      <td>DE</td>\n",
       "      <td>Media</td>\n",
       "    </tr>\n",
       "    <tr>\n",
       "      <th>59710</th>\n",
       "      <td>NaN</td>\n",
       "      <td>Junior</td>\n",
       "      <td>Integral</td>\n",
       "      <td>Data Scientist</td>\n",
       "      <td>208800</td>\n",
       "      <td>USD</td>\n",
       "      <td>208800</td>\n",
       "      <td>US</td>\n",
       "      <td>Presencial</td>\n",
       "      <td>US</td>\n",
       "      <td>Media</td>\n",
       "    </tr>\n",
       "    <tr>\n",
       "      <th>59759</th>\n",
       "      <td>NaN</td>\n",
       "      <td>Senior</td>\n",
       "      <td>Integral</td>\n",
       "      <td>Software Engineer</td>\n",
       "      <td>135000</td>\n",
       "      <td>USD</td>\n",
       "      <td>135000</td>\n",
       "      <td>US</td>\n",
       "      <td>Presencial</td>\n",
       "      <td>US</td>\n",
       "      <td>Media</td>\n",
       "    </tr>\n",
       "    <tr>\n",
       "      <th>59789</th>\n",
       "      <td>NaN</td>\n",
       "      <td>Senior</td>\n",
       "      <td>Integral</td>\n",
       "      <td>Engineer</td>\n",
       "      <td>112000</td>\n",
       "      <td>USD</td>\n",
       "      <td>112000</td>\n",
       "      <td>US</td>\n",
       "      <td>Presencial</td>\n",
       "      <td>US</td>\n",
       "      <td>Media</td>\n",
       "    </tr>\n",
       "    <tr>\n",
       "      <th>131000</th>\n",
       "      <td>NaN</td>\n",
       "      <td>Senior</td>\n",
       "      <td>Integral</td>\n",
       "      <td>Machine Learning Engineer</td>\n",
       "      <td>163800</td>\n",
       "      <td>USD</td>\n",
       "      <td>163800</td>\n",
       "      <td>US</td>\n",
       "      <td>Presencial</td>\n",
       "      <td>US</td>\n",
       "      <td>Media</td>\n",
       "    </tr>\n",
       "    <tr>\n",
       "      <th>131006</th>\n",
       "      <td>NaN</td>\n",
       "      <td>Senior</td>\n",
       "      <td>Integral</td>\n",
       "      <td>Data Analytics Manager</td>\n",
       "      <td>204500</td>\n",
       "      <td>USD</td>\n",
       "      <td>204500</td>\n",
       "      <td>US</td>\n",
       "      <td>Presencial</td>\n",
       "      <td>US</td>\n",
       "      <td>Media</td>\n",
       "    </tr>\n",
       "    <tr>\n",
       "      <th>133054</th>\n",
       "      <td>NaN</td>\n",
       "      <td>Junior</td>\n",
       "      <td>Integral</td>\n",
       "      <td>Data Scientist</td>\n",
       "      <td>40000</td>\n",
       "      <td>USD</td>\n",
       "      <td>40000</td>\n",
       "      <td>JP</td>\n",
       "      <td>Remto</td>\n",
       "      <td>MY</td>\n",
       "      <td>Grande</td>\n",
       "    </tr>\n",
       "    <tr>\n",
       "      <th>133281</th>\n",
       "      <td>NaN</td>\n",
       "      <td>Pleno</td>\n",
       "      <td>Integral</td>\n",
       "      <td>Machine Learning Engineer</td>\n",
       "      <td>180000</td>\n",
       "      <td>PLN</td>\n",
       "      <td>46597</td>\n",
       "      <td>PL</td>\n",
       "      <td>Remto</td>\n",
       "      <td>PL</td>\n",
       "      <td>Grande</td>\n",
       "    </tr>\n",
       "    <tr>\n",
       "      <th>133317</th>\n",
       "      <td>NaN</td>\n",
       "      <td>Pleno</td>\n",
       "      <td>Integral</td>\n",
       "      <td>Data Scientist</td>\n",
       "      <td>130000</td>\n",
       "      <td>USD</td>\n",
       "      <td>130000</td>\n",
       "      <td>US</td>\n",
       "      <td>Hibrido</td>\n",
       "      <td>US</td>\n",
       "      <td>Grande</td>\n",
       "    </tr>\n",
       "  </tbody>\n",
       "</table>\n",
       "</div>"
      ],
      "text/plain": [
       "        ano senioridade  contrato                      cargo  salario moeda  \\\n",
       "5588    NaN      Senior  Integral            Product Manager   184500   USD   \n",
       "59692   NaN       Pleno  Integral                   Engineer   110000   USD   \n",
       "59710   NaN      Junior  Integral             Data Scientist   208800   USD   \n",
       "59759   NaN      Senior  Integral          Software Engineer   135000   USD   \n",
       "59789   NaN      Senior  Integral                   Engineer   112000   USD   \n",
       "131000  NaN      Senior  Integral  Machine Learning Engineer   163800   USD   \n",
       "131006  NaN      Senior  Integral     Data Analytics Manager   204500   USD   \n",
       "133054  NaN      Junior  Integral             Data Scientist    40000   USD   \n",
       "133281  NaN       Pleno  Integral  Machine Learning Engineer   180000   PLN   \n",
       "133317  NaN       Pleno  Integral             Data Scientist   130000   USD   \n",
       "\n",
       "           usd residencia      remoto empresa porte_empresa  \n",
       "5588    184500         US  Presencial      US         Media  \n",
       "59692   110000         DE  Presencial      DE         Media  \n",
       "59710   208800         US  Presencial      US         Media  \n",
       "59759   135000         US  Presencial      US         Media  \n",
       "59789   112000         US  Presencial      US         Media  \n",
       "131000  163800         US  Presencial      US         Media  \n",
       "131006  204500         US  Presencial      US         Media  \n",
       "133054   40000         JP       Remto      MY        Grande  \n",
       "133281   46597         PL       Remto      PL        Grande  \n",
       "133317  130000         US     Hibrido      US        Grande  "
      ]
     },
     "execution_count": 75,
     "metadata": {},
     "output_type": "execute_result"
    }
   ],
   "source": [
    "df[df.isnull().any(axis=1)]"
   ]
  },
  {
   "cell_type": "code",
   "execution_count": 76,
   "id": "209e1573",
   "metadata": {},
   "outputs": [],
   "source": [
    "import numpy as np"
   ]
  },
  {
   "cell_type": "code",
   "execution_count": 77,
   "id": "9afa34d7",
   "metadata": {},
   "outputs": [
    {
     "data": {
      "application/vnd.microsoft.datawrangler.viewer.v0+json": {
       "columns": [
        {
         "name": "index",
         "rawType": "int64",
         "type": "integer"
        },
        {
         "name": "nome",
         "rawType": "object",
         "type": "string"
        },
        {
         "name": "salario",
         "rawType": "float64",
         "type": "float"
        },
        {
         "name": "salario_media",
         "rawType": "float64",
         "type": "float"
        },
        {
         "name": "salario_mediana",
         "rawType": "float64",
         "type": "float"
        }
       ],
       "ref": "51057c0e-ff34-4ea0-a6fb-8c196db2bd27",
       "rows": [
        [
         "0",
         "Ana",
         "4000.0",
         "4000.0",
         "4000.0"
        ],
        [
         "1",
         "Bruno",
         null,
         "36333.33",
         "5000.0"
        ],
        [
         "2",
         "Carlos",
         "5000.0",
         "5000.0",
         "5000.0"
        ],
        [
         "3",
         "Diana",
         null,
         "36333.33",
         "5000.0"
        ],
        [
         "4",
         "Nelio",
         "100000.0",
         "100000.0",
         "100000.0"
        ]
       ],
       "shape": {
        "columns": 4,
        "rows": 5
       }
      },
      "text/html": [
       "<div>\n",
       "<style scoped>\n",
       "    .dataframe tbody tr th:only-of-type {\n",
       "        vertical-align: middle;\n",
       "    }\n",
       "\n",
       "    .dataframe tbody tr th {\n",
       "        vertical-align: top;\n",
       "    }\n",
       "\n",
       "    .dataframe thead th {\n",
       "        text-align: right;\n",
       "    }\n",
       "</style>\n",
       "<table border=\"1\" class=\"dataframe\">\n",
       "  <thead>\n",
       "    <tr style=\"text-align: right;\">\n",
       "      <th></th>\n",
       "      <th>nome</th>\n",
       "      <th>salario</th>\n",
       "      <th>salario_media</th>\n",
       "      <th>salario_mediana</th>\n",
       "    </tr>\n",
       "  </thead>\n",
       "  <tbody>\n",
       "    <tr>\n",
       "      <th>0</th>\n",
       "      <td>Ana</td>\n",
       "      <td>4000.0</td>\n",
       "      <td>4000.00</td>\n",
       "      <td>4000.0</td>\n",
       "    </tr>\n",
       "    <tr>\n",
       "      <th>1</th>\n",
       "      <td>Bruno</td>\n",
       "      <td>NaN</td>\n",
       "      <td>36333.33</td>\n",
       "      <td>5000.0</td>\n",
       "    </tr>\n",
       "    <tr>\n",
       "      <th>2</th>\n",
       "      <td>Carlos</td>\n",
       "      <td>5000.0</td>\n",
       "      <td>5000.00</td>\n",
       "      <td>5000.0</td>\n",
       "    </tr>\n",
       "    <tr>\n",
       "      <th>3</th>\n",
       "      <td>Diana</td>\n",
       "      <td>NaN</td>\n",
       "      <td>36333.33</td>\n",
       "      <td>5000.0</td>\n",
       "    </tr>\n",
       "    <tr>\n",
       "      <th>4</th>\n",
       "      <td>Nelio</td>\n",
       "      <td>100000.0</td>\n",
       "      <td>100000.00</td>\n",
       "      <td>100000.0</td>\n",
       "    </tr>\n",
       "  </tbody>\n",
       "</table>\n",
       "</div>"
      ],
      "text/plain": [
       "     nome   salario  salario_media  salario_mediana\n",
       "0     Ana    4000.0        4000.00           4000.0\n",
       "1   Bruno       NaN       36333.33           5000.0\n",
       "2  Carlos    5000.0        5000.00           5000.0\n",
       "3   Diana       NaN       36333.33           5000.0\n",
       "4   Nelio  100000.0      100000.00         100000.0"
      ]
     },
     "execution_count": 77,
     "metadata": {},
     "output_type": "execute_result"
    }
   ],
   "source": [
    "df_salarios = pd.DataFrame({\n",
    "    'nome': [\"Ana\", \"Bruno\", \"Carlos\", \"Diana\",\"Nelio\"],\n",
    "    'salario': [4000, np.nan, 5000, np.nan, 100000]\n",
    "    })\n",
    "\n",
    "df_salarios['salario_media'] = df_salarios['salario'].fillna(df_salarios['salario'].mean().round(2))\n",
    "\n",
    "df_salarios['salario_mediana'] = df_salarios['salario'].fillna(df_salarios['salario'].median())\n",
    "\n",
    "df_salarios\n",
    "df_salarios"
   ]
  },
  {
   "cell_type": "code",
   "execution_count": 78,
   "id": "ca27b39c",
   "metadata": {},
   "outputs": [
    {
     "data": {
      "application/vnd.microsoft.datawrangler.viewer.v0+json": {
       "columns": [
        {
         "name": "index",
         "rawType": "int64",
         "type": "integer"
        },
        {
         "name": "dia_semana",
         "rawType": "object",
         "type": "string"
        },
        {
         "name": "temperatura",
         "rawType": "float64",
         "type": "float"
        },
        {
         "name": "preenchido_ffill",
         "rawType": "float64",
         "type": "float"
        }
       ],
       "ref": "cb54da9d-f418-4a31-b51a-6db46dec28a2",
       "rows": [
        [
         "0",
         "segunda",
         "30.0",
         "30.0"
        ],
        [
         "1",
         "terça",
         null,
         "30.0"
        ],
        [
         "2",
         "quarta",
         null,
         "30.0"
        ],
        [
         "3",
         "quinta",
         "28.0",
         "28.0"
        ],
        [
         "4",
         "sexta",
         "27.0",
         "27.0"
        ]
       ],
       "shape": {
        "columns": 3,
        "rows": 5
       }
      },
      "text/html": [
       "<div>\n",
       "<style scoped>\n",
       "    .dataframe tbody tr th:only-of-type {\n",
       "        vertical-align: middle;\n",
       "    }\n",
       "\n",
       "    .dataframe tbody tr th {\n",
       "        vertical-align: top;\n",
       "    }\n",
       "\n",
       "    .dataframe thead th {\n",
       "        text-align: right;\n",
       "    }\n",
       "</style>\n",
       "<table border=\"1\" class=\"dataframe\">\n",
       "  <thead>\n",
       "    <tr style=\"text-align: right;\">\n",
       "      <th></th>\n",
       "      <th>dia_semana</th>\n",
       "      <th>temperatura</th>\n",
       "      <th>preenchido_ffill</th>\n",
       "    </tr>\n",
       "  </thead>\n",
       "  <tbody>\n",
       "    <tr>\n",
       "      <th>0</th>\n",
       "      <td>segunda</td>\n",
       "      <td>30.0</td>\n",
       "      <td>30.0</td>\n",
       "    </tr>\n",
       "    <tr>\n",
       "      <th>1</th>\n",
       "      <td>terça</td>\n",
       "      <td>NaN</td>\n",
       "      <td>30.0</td>\n",
       "    </tr>\n",
       "    <tr>\n",
       "      <th>2</th>\n",
       "      <td>quarta</td>\n",
       "      <td>NaN</td>\n",
       "      <td>30.0</td>\n",
       "    </tr>\n",
       "    <tr>\n",
       "      <th>3</th>\n",
       "      <td>quinta</td>\n",
       "      <td>28.0</td>\n",
       "      <td>28.0</td>\n",
       "    </tr>\n",
       "    <tr>\n",
       "      <th>4</th>\n",
       "      <td>sexta</td>\n",
       "      <td>27.0</td>\n",
       "      <td>27.0</td>\n",
       "    </tr>\n",
       "  </tbody>\n",
       "</table>\n",
       "</div>"
      ],
      "text/plain": [
       "  dia_semana  temperatura  preenchido_ffill\n",
       "0    segunda         30.0              30.0\n",
       "1      terça          NaN              30.0\n",
       "2     quarta          NaN              30.0\n",
       "3     quinta         28.0              28.0\n",
       "4      sexta         27.0              27.0"
      ]
     },
     "execution_count": 78,
     "metadata": {},
     "output_type": "execute_result"
    }
   ],
   "source": [
    "df_temperatura = pd.DataFrame({\n",
    "    'dia_semana': [\"segunda\", \"terça\", \"quarta\", \"quinta\",\"sexta\"],\n",
    "    'temperatura': [30, np.nan, np.nan,28, 27]\n",
    "    })\n",
    "\n",
    "df_temperatura['preenchido_ffill'] = df_temperatura['temperatura'].ffill()\n",
    "\n",
    "\n",
    "\n",
    "df_temperatura"
   ]
  },
  {
   "cell_type": "code",
   "execution_count": 79,
   "id": "7e929909",
   "metadata": {},
   "outputs": [
    {
     "data": {
      "application/vnd.microsoft.datawrangler.viewer.v0+json": {
       "columns": [
        {
         "name": "index",
         "rawType": "int64",
         "type": "integer"
        },
        {
         "name": "dia_semana",
         "rawType": "object",
         "type": "string"
        },
        {
         "name": "temperatura",
         "rawType": "float64",
         "type": "float"
        },
        {
         "name": "preenchido+bfill",
         "rawType": "float64",
         "type": "float"
        }
       ],
       "ref": "8d41026e-3106-43f2-ba40-7821087c7b27",
       "rows": [
        [
         "0",
         "segunda",
         "30.0",
         "30.0"
        ],
        [
         "1",
         "terça",
         null,
         "28.0"
        ],
        [
         "2",
         "quarta",
         null,
         "28.0"
        ],
        [
         "3",
         "quinta",
         "28.0",
         "28.0"
        ],
        [
         "4",
         "sexta",
         "27.0",
         "27.0"
        ]
       ],
       "shape": {
        "columns": 3,
        "rows": 5
       }
      },
      "text/html": [
       "<div>\n",
       "<style scoped>\n",
       "    .dataframe tbody tr th:only-of-type {\n",
       "        vertical-align: middle;\n",
       "    }\n",
       "\n",
       "    .dataframe tbody tr th {\n",
       "        vertical-align: top;\n",
       "    }\n",
       "\n",
       "    .dataframe thead th {\n",
       "        text-align: right;\n",
       "    }\n",
       "</style>\n",
       "<table border=\"1\" class=\"dataframe\">\n",
       "  <thead>\n",
       "    <tr style=\"text-align: right;\">\n",
       "      <th></th>\n",
       "      <th>dia_semana</th>\n",
       "      <th>temperatura</th>\n",
       "      <th>preenchido+bfill</th>\n",
       "    </tr>\n",
       "  </thead>\n",
       "  <tbody>\n",
       "    <tr>\n",
       "      <th>0</th>\n",
       "      <td>segunda</td>\n",
       "      <td>30.0</td>\n",
       "      <td>30.0</td>\n",
       "    </tr>\n",
       "    <tr>\n",
       "      <th>1</th>\n",
       "      <td>terça</td>\n",
       "      <td>NaN</td>\n",
       "      <td>28.0</td>\n",
       "    </tr>\n",
       "    <tr>\n",
       "      <th>2</th>\n",
       "      <td>quarta</td>\n",
       "      <td>NaN</td>\n",
       "      <td>28.0</td>\n",
       "    </tr>\n",
       "    <tr>\n",
       "      <th>3</th>\n",
       "      <td>quinta</td>\n",
       "      <td>28.0</td>\n",
       "      <td>28.0</td>\n",
       "    </tr>\n",
       "    <tr>\n",
       "      <th>4</th>\n",
       "      <td>sexta</td>\n",
       "      <td>27.0</td>\n",
       "      <td>27.0</td>\n",
       "    </tr>\n",
       "  </tbody>\n",
       "</table>\n",
       "</div>"
      ],
      "text/plain": [
       "  dia_semana  temperatura  preenchido+bfill\n",
       "0    segunda         30.0              30.0\n",
       "1      terça          NaN              28.0\n",
       "2     quarta          NaN              28.0\n",
       "3     quinta         28.0              28.0\n",
       "4      sexta         27.0              27.0"
      ]
     },
     "execution_count": 79,
     "metadata": {},
     "output_type": "execute_result"
    }
   ],
   "source": [
    "df_temperatura = pd.DataFrame({\n",
    "    'dia_semana': [\"segunda\", \"terça\", \"quarta\", \"quinta\",\"sexta\"],\n",
    "    'temperatura': [30, np.nan, np.nan,28, 27]\n",
    "    })\n",
    "\n",
    "df_temperatura['preenchido+bfill'] = df_temperatura['temperatura'].bfill()\n",
    "\n",
    "\n",
    "\n",
    "df_temperatura"
   ]
  },
  {
   "cell_type": "code",
   "execution_count": 80,
   "id": "1a381686",
   "metadata": {},
   "outputs": [
    {
     "data": {
      "application/vnd.microsoft.datawrangler.viewer.v0+json": {
       "columns": [
        {
         "name": "index",
         "rawType": "int64",
         "type": "integer"
        },
        {
         "name": "nome",
         "rawType": "object",
         "type": "string"
        },
        {
         "name": "cidade",
         "rawType": "object",
         "type": "unknown"
        },
        {
         "name": "cidade_preenchida",
         "rawType": "object",
         "type": "string"
        }
       ],
       "ref": "d232956d-fa80-449a-a547-a9f0aa4aa811",
       "rows": [
        [
         "0",
         "Ana",
         "Roraima",
         "Roraima"
        ],
        [
         "1",
         "Bruno",
         null,
         "Não Informado"
        ],
        [
         "2",
         "Nelio",
         "Pernanbuco",
         "Pernanbuco"
        ]
       ],
       "shape": {
        "columns": 3,
        "rows": 3
       }
      },
      "text/html": [
       "<div>\n",
       "<style scoped>\n",
       "    .dataframe tbody tr th:only-of-type {\n",
       "        vertical-align: middle;\n",
       "    }\n",
       "\n",
       "    .dataframe tbody tr th {\n",
       "        vertical-align: top;\n",
       "    }\n",
       "\n",
       "    .dataframe thead th {\n",
       "        text-align: right;\n",
       "    }\n",
       "</style>\n",
       "<table border=\"1\" class=\"dataframe\">\n",
       "  <thead>\n",
       "    <tr style=\"text-align: right;\">\n",
       "      <th></th>\n",
       "      <th>nome</th>\n",
       "      <th>cidade</th>\n",
       "      <th>cidade_preenchida</th>\n",
       "    </tr>\n",
       "  </thead>\n",
       "  <tbody>\n",
       "    <tr>\n",
       "      <th>0</th>\n",
       "      <td>Ana</td>\n",
       "      <td>Roraima</td>\n",
       "      <td>Roraima</td>\n",
       "    </tr>\n",
       "    <tr>\n",
       "      <th>1</th>\n",
       "      <td>Bruno</td>\n",
       "      <td>NaN</td>\n",
       "      <td>Não Informado</td>\n",
       "    </tr>\n",
       "    <tr>\n",
       "      <th>2</th>\n",
       "      <td>Nelio</td>\n",
       "      <td>Pernanbuco</td>\n",
       "      <td>Pernanbuco</td>\n",
       "    </tr>\n",
       "  </tbody>\n",
       "</table>\n",
       "</div>"
      ],
      "text/plain": [
       "    nome      cidade cidade_preenchida\n",
       "0    Ana     Roraima           Roraima\n",
       "1  Bruno         NaN     Não Informado\n",
       "2  Nelio  Pernanbuco        Pernanbuco"
      ]
     },
     "execution_count": 80,
     "metadata": {},
     "output_type": "execute_result"
    }
   ],
   "source": [
    "df_cidades = pd.DataFrame({\n",
    "    'nome': [\"Ana\", \"Bruno\",\"Nelio\"],\n",
    "    'cidade': [\"Roraima\", np.nan, \"Pernanbuco\"]\n",
    "})\n",
    "\n",
    "df_cidades['cidade_preenchida'] = df_cidades['cidade'].fillna(\"Não Informado\")\n",
    "df_cidades"
   ]
  },
  {
   "cell_type": "code",
   "execution_count": 81,
   "id": "5b7b3dcb",
   "metadata": {},
   "outputs": [],
   "source": [
    "dflimpo = df.dropna()"
   ]
  },
  {
   "cell_type": "code",
   "execution_count": 82,
   "id": "d183030f",
   "metadata": {},
   "outputs": [
    {
     "data": {
      "application/vnd.microsoft.datawrangler.viewer.v0+json": {
       "columns": [
        {
         "name": "index",
         "rawType": "object",
         "type": "string"
        },
        {
         "name": "0",
         "rawType": "int64",
         "type": "integer"
        }
       ],
       "ref": "ca354200-a3dd-40c7-a1a4-c7f42fab6ca3",
       "rows": [
        [
         "ano",
         "0"
        ],
        [
         "senioridade",
         "0"
        ],
        [
         "contrato",
         "0"
        ],
        [
         "cargo",
         "0"
        ],
        [
         "salario",
         "0"
        ],
        [
         "moeda",
         "0"
        ],
        [
         "usd",
         "0"
        ],
        [
         "residencia",
         "0"
        ],
        [
         "remoto",
         "0"
        ],
        [
         "empresa",
         "0"
        ],
        [
         "porte_empresa",
         "0"
        ]
       ],
       "shape": {
        "columns": 1,
        "rows": 11
       }
      },
      "text/plain": [
       "ano              0\n",
       "senioridade      0\n",
       "contrato         0\n",
       "cargo            0\n",
       "salario          0\n",
       "moeda            0\n",
       "usd              0\n",
       "residencia       0\n",
       "remoto           0\n",
       "empresa          0\n",
       "porte_empresa    0\n",
       "dtype: int64"
      ]
     },
     "execution_count": 82,
     "metadata": {},
     "output_type": "execute_result"
    }
   ],
   "source": [
    "dflimpo.isnull().sum()"
   ]
  },
  {
   "cell_type": "code",
   "execution_count": 89,
   "id": "a7ef157e",
   "metadata": {},
   "outputs": [
    {
     "data": {
      "application/vnd.microsoft.datawrangler.viewer.v0+json": {
       "columns": [
        {
         "name": "index",
         "rawType": "int64",
         "type": "integer"
        },
        {
         "name": "ano",
         "rawType": "int64",
         "type": "integer"
        },
        {
         "name": "senioridade",
         "rawType": "object",
         "type": "string"
        },
        {
         "name": "contrato",
         "rawType": "object",
         "type": "string"
        },
        {
         "name": "cargo",
         "rawType": "object",
         "type": "string"
        },
        {
         "name": "salario",
         "rawType": "int64",
         "type": "integer"
        },
        {
         "name": "moeda",
         "rawType": "object",
         "type": "string"
        },
        {
         "name": "usd",
         "rawType": "int64",
         "type": "integer"
        },
        {
         "name": "residencia",
         "rawType": "object",
         "type": "string"
        },
        {
         "name": "remoto",
         "rawType": "object",
         "type": "string"
        },
        {
         "name": "empresa",
         "rawType": "object",
         "type": "string"
        },
        {
         "name": "porte_empresa",
         "rawType": "object",
         "type": "string"
        }
       ],
       "ref": "2c8fee5c-0777-41c6-939b-eaf0a536efc7",
       "rows": [
        [
         "0",
         "2025",
         "Senior",
         "Integral",
         "Solutions Engineer",
         "214000",
         "USD",
         "214000",
         "US",
         "Remto",
         "US",
         "Media"
        ],
        [
         "1",
         "2025",
         "Senior",
         "Integral",
         "Solutions Engineer",
         "136000",
         "USD",
         "136000",
         "US",
         "Remto",
         "US",
         "Media"
        ],
        [
         "2",
         "2025",
         "Pleno",
         "Integral",
         "Data Engineer",
         "158800",
         "USD",
         "158800",
         "AU",
         "Presencial",
         "AU",
         "Media"
        ],
        [
         "3",
         "2025",
         "Pleno",
         "Integral",
         "Data Engineer",
         "139200",
         "USD",
         "139200",
         "AU",
         "Presencial",
         "AU",
         "Media"
        ],
        [
         "4",
         "2025",
         "Junior",
         "Integral",
         "Data Engineer",
         "90000",
         "USD",
         "90000",
         "US",
         "Presencial",
         "US",
         "Media"
        ]
       ],
       "shape": {
        "columns": 11,
        "rows": 5
       }
      },
      "text/html": [
       "<div>\n",
       "<style scoped>\n",
       "    .dataframe tbody tr th:only-of-type {\n",
       "        vertical-align: middle;\n",
       "    }\n",
       "\n",
       "    .dataframe tbody tr th {\n",
       "        vertical-align: top;\n",
       "    }\n",
       "\n",
       "    .dataframe thead th {\n",
       "        text-align: right;\n",
       "    }\n",
       "</style>\n",
       "<table border=\"1\" class=\"dataframe\">\n",
       "  <thead>\n",
       "    <tr style=\"text-align: right;\">\n",
       "      <th></th>\n",
       "      <th>ano</th>\n",
       "      <th>senioridade</th>\n",
       "      <th>contrato</th>\n",
       "      <th>cargo</th>\n",
       "      <th>salario</th>\n",
       "      <th>moeda</th>\n",
       "      <th>usd</th>\n",
       "      <th>residencia</th>\n",
       "      <th>remoto</th>\n",
       "      <th>empresa</th>\n",
       "      <th>porte_empresa</th>\n",
       "    </tr>\n",
       "  </thead>\n",
       "  <tbody>\n",
       "    <tr>\n",
       "      <th>0</th>\n",
       "      <td>2025</td>\n",
       "      <td>Senior</td>\n",
       "      <td>Integral</td>\n",
       "      <td>Solutions Engineer</td>\n",
       "      <td>214000</td>\n",
       "      <td>USD</td>\n",
       "      <td>214000</td>\n",
       "      <td>US</td>\n",
       "      <td>Remto</td>\n",
       "      <td>US</td>\n",
       "      <td>Media</td>\n",
       "    </tr>\n",
       "    <tr>\n",
       "      <th>1</th>\n",
       "      <td>2025</td>\n",
       "      <td>Senior</td>\n",
       "      <td>Integral</td>\n",
       "      <td>Solutions Engineer</td>\n",
       "      <td>136000</td>\n",
       "      <td>USD</td>\n",
       "      <td>136000</td>\n",
       "      <td>US</td>\n",
       "      <td>Remto</td>\n",
       "      <td>US</td>\n",
       "      <td>Media</td>\n",
       "    </tr>\n",
       "    <tr>\n",
       "      <th>2</th>\n",
       "      <td>2025</td>\n",
       "      <td>Pleno</td>\n",
       "      <td>Integral</td>\n",
       "      <td>Data Engineer</td>\n",
       "      <td>158800</td>\n",
       "      <td>USD</td>\n",
       "      <td>158800</td>\n",
       "      <td>AU</td>\n",
       "      <td>Presencial</td>\n",
       "      <td>AU</td>\n",
       "      <td>Media</td>\n",
       "    </tr>\n",
       "    <tr>\n",
       "      <th>3</th>\n",
       "      <td>2025</td>\n",
       "      <td>Pleno</td>\n",
       "      <td>Integral</td>\n",
       "      <td>Data Engineer</td>\n",
       "      <td>139200</td>\n",
       "      <td>USD</td>\n",
       "      <td>139200</td>\n",
       "      <td>AU</td>\n",
       "      <td>Presencial</td>\n",
       "      <td>AU</td>\n",
       "      <td>Media</td>\n",
       "    </tr>\n",
       "    <tr>\n",
       "      <th>4</th>\n",
       "      <td>2025</td>\n",
       "      <td>Junior</td>\n",
       "      <td>Integral</td>\n",
       "      <td>Data Engineer</td>\n",
       "      <td>90000</td>\n",
       "      <td>USD</td>\n",
       "      <td>90000</td>\n",
       "      <td>US</td>\n",
       "      <td>Presencial</td>\n",
       "      <td>US</td>\n",
       "      <td>Media</td>\n",
       "    </tr>\n",
       "  </tbody>\n",
       "</table>\n",
       "</div>"
      ],
      "text/plain": [
       "    ano senioridade  contrato               cargo  salario moeda     usd  \\\n",
       "0  2025      Senior  Integral  Solutions Engineer   214000   USD  214000   \n",
       "1  2025      Senior  Integral  Solutions Engineer   136000   USD  136000   \n",
       "2  2025       Pleno  Integral       Data Engineer   158800   USD  158800   \n",
       "3  2025       Pleno  Integral       Data Engineer   139200   USD  139200   \n",
       "4  2025      Junior  Integral       Data Engineer    90000   USD   90000   \n",
       "\n",
       "  residencia      remoto empresa porte_empresa  \n",
       "0         US       Remto      US         Media  \n",
       "1         US       Remto      US         Media  \n",
       "2         AU  Presencial      AU         Media  \n",
       "3         AU  Presencial      AU         Media  \n",
       "4         US  Presencial      US         Media  "
      ]
     },
     "execution_count": 89,
     "metadata": {},
     "output_type": "execute_result"
    }
   ],
   "source": [
    "dflimpo.head()"
   ]
  },
  {
   "cell_type": "code",
   "execution_count": 94,
   "id": "7c8a40a8",
   "metadata": {},
   "outputs": [
    {
     "name": "stdout",
     "output_type": "stream",
     "text": [
      "<class 'pandas.core.frame.DataFrame'>\n",
      "Index: 133339 entries, 0 to 133348\n",
      "Data columns (total 11 columns):\n",
      " #   Column         Non-Null Count   Dtype \n",
      "---  ------         --------------   ----- \n",
      " 0   ano            133339 non-null  int64 \n",
      " 1   senioridade    133339 non-null  object\n",
      " 2   contrato       133339 non-null  object\n",
      " 3   cargo          133339 non-null  object\n",
      " 4   salario        133339 non-null  int64 \n",
      " 5   moeda          133339 non-null  object\n",
      " 6   usd            133339 non-null  int64 \n",
      " 7   residencia     133339 non-null  object\n",
      " 8   remoto         133339 non-null  object\n",
      " 9   empresa        133339 non-null  object\n",
      " 10  porte_empresa  133339 non-null  object\n",
      "dtypes: int64(3), object(8)\n",
      "memory usage: 12.2+ MB\n"
     ]
    }
   ],
   "source": [
    "dflimpo.info()"
   ]
  },
  {
   "cell_type": "code",
   "execution_count": 93,
   "id": "e9c05271",
   "metadata": {},
   "outputs": [],
   "source": [
    "dflimpo = dflimpo.assign(ano = dflimpo['ano'].astype('int64'))"
   ]
  },
  {
   "cell_type": "markdown",
   "id": "f7133156",
   "metadata": {},
   "source": [
    "## AULA 3 - PLOTAGEM DE DADOS"
   ]
  }
 ],
 "metadata": {
  "kernelspec": {
   "display_name": "base",
   "language": "python",
   "name": "python3"
  },
  "language_info": {
   "codemirror_mode": {
    "name": "ipython",
    "version": 3
   },
   "file_extension": ".py",
   "mimetype": "text/x-python",
   "name": "python",
   "nbconvert_exporter": "python",
   "pygments_lexer": "ipython3",
   "version": "3.13.5"
  }
 },
 "nbformat": 4,
 "nbformat_minor": 5
}
